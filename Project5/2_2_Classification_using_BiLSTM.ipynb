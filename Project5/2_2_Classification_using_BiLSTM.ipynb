{
  "nbformat": 4,
  "nbformat_minor": 0,
  "metadata": {
    "colab": {
      "name": "BiLSTM (3).ipynb",
      "provenance": [],
      "collapsed_sections": []
    },
    "kernelspec": {
      "name": "python3",
      "display_name": "Python 3"
    },
    "language_info": {
      "name": "python"
    },
    "accelerator": "GPU"
  },
  "cells": [
    {
      "cell_type": "markdown",
      "metadata": {
        "id": "3u0B13WgS_uZ"
      },
      "source": [
        "# Classification of Reviews Using BiLSTM"
      ]
    },
    {
      "cell_type": "markdown",
      "metadata": {
        "id": "Pcz9hngQtPhi"
      },
      "source": [
        "In this notebook, I will be classifying the reviews by analysing the sentiment of the reviews using BiLSTM network."
      ]
    },
    {
      "cell_type": "code",
      "metadata": {
        "colab": {
          "base_uri": "https://localhost:8080/"
        },
        "id": "G1oNd2ihT5sO",
        "outputId": "91356598-6bf7-4fac-ca04-cbb2e114e990"
      },
      "source": [
        "from google.colab import drive\n",
        "drive.mount('/content/gdrive')"
      ],
      "execution_count": 1,
      "outputs": [
        {
          "output_type": "stream",
          "text": [
            "Mounted at /content/gdrive\n"
          ],
          "name": "stdout"
        }
      ]
    },
    {
      "cell_type": "markdown",
      "metadata": {
        "id": "t60nO2BHS40c"
      },
      "source": [
        ""
      ]
    },
    {
      "cell_type": "code",
      "metadata": {
        "id": "E9fHBCmHUGww"
      },
      "source": [
        "from tensorflow.keras.layers import Embedding\n",
        "from tensorflow.keras.preprocessing.sequence import pad_sequences\n",
        "from tensorflow.keras.models import Sequential\n",
        "from tensorflow.keras.preprocessing.text import one_hot\n",
        "from tensorflow.keras.layers import LSTM\n",
        "from tensorflow.keras.layers import Dense\n",
        "from tensorflow.keras.layers import Bidirectional\n",
        "from tensorflow.keras.layers import Dropout"
      ],
      "execution_count": 2,
      "outputs": []
    },
    {
      "cell_type": "code",
      "metadata": {
        "id": "pzvVMEbNleAT"
      },
      "source": [
        "import tensorflow as tf\n",
        "from tensorflow.keras.callbacks import Callback"
      ],
      "execution_count": 3,
      "outputs": []
    },
    {
      "cell_type": "code",
      "metadata": {
        "id": "KTdX5Q1ZXQBT"
      },
      "source": [
        "from tensorflow import keras"
      ],
      "execution_count": 4,
      "outputs": []
    },
    {
      "cell_type": "code",
      "metadata": {
        "id": "W2A8haULUG0N"
      },
      "source": [
        "import numpy as np\n",
        "import matplotlib.pyplot as plt "
      ],
      "execution_count": 5,
      "outputs": []
    },
    {
      "cell_type": "code",
      "metadata": {
        "colab": {
          "base_uri": "https://localhost:8080/"
        },
        "id": "0Fvx2LQKQtth",
        "outputId": "2239a69b-acfe-4988-d787-3ffa84628623"
      },
      "source": [
        "pip install mlxtend"
      ],
      "execution_count": 6,
      "outputs": [
        {
          "output_type": "stream",
          "text": [
            "Requirement already satisfied: mlxtend in /usr/local/lib/python3.7/dist-packages (0.14.0)\n",
            "Requirement already satisfied: pandas>=0.17.1 in /usr/local/lib/python3.7/dist-packages (from mlxtend) (1.1.5)\n",
            "Requirement already satisfied: matplotlib>=1.5.1 in /usr/local/lib/python3.7/dist-packages (from mlxtend) (3.2.2)\n",
            "Requirement already satisfied: setuptools in /usr/local/lib/python3.7/dist-packages (from mlxtend) (56.0.0)\n",
            "Requirement already satisfied: scipy>=0.17 in /usr/local/lib/python3.7/dist-packages (from mlxtend) (1.4.1)\n",
            "Requirement already satisfied: scikit-learn>=0.18 in /usr/local/lib/python3.7/dist-packages (from mlxtend) (0.22.2.post1)\n",
            "Requirement already satisfied: numpy>=1.10.4 in /usr/local/lib/python3.7/dist-packages (from mlxtend) (1.19.5)\n",
            "Requirement already satisfied: pytz>=2017.2 in /usr/local/lib/python3.7/dist-packages (from pandas>=0.17.1->mlxtend) (2018.9)\n",
            "Requirement already satisfied: python-dateutil>=2.7.3 in /usr/local/lib/python3.7/dist-packages (from pandas>=0.17.1->mlxtend) (2.8.1)\n",
            "Requirement already satisfied: cycler>=0.10 in /usr/local/lib/python3.7/dist-packages (from matplotlib>=1.5.1->mlxtend) (0.10.0)\n",
            "Requirement already satisfied: pyparsing!=2.0.4,!=2.1.2,!=2.1.6,>=2.0.1 in /usr/local/lib/python3.7/dist-packages (from matplotlib>=1.5.1->mlxtend) (2.4.7)\n",
            "Requirement already satisfied: kiwisolver>=1.0.1 in /usr/local/lib/python3.7/dist-packages (from matplotlib>=1.5.1->mlxtend) (1.3.1)\n",
            "Requirement already satisfied: joblib>=0.11 in /usr/local/lib/python3.7/dist-packages (from scikit-learn>=0.18->mlxtend) (1.0.1)\n",
            "Requirement already satisfied: six>=1.5 in /usr/local/lib/python3.7/dist-packages (from python-dateutil>=2.7.3->pandas>=0.17.1->mlxtend) (1.15.0)\n"
          ],
          "name": "stdout"
        }
      ]
    },
    {
      "cell_type": "code",
      "metadata": {
        "id": "sQMVe4rxQ25t"
      },
      "source": [
        "from mlxtend.plotting import plot_confusion_matrix"
      ],
      "execution_count": 7,
      "outputs": []
    },
    {
      "cell_type": "code",
      "metadata": {
        "id": "XL5yLkiiUG24"
      },
      "source": [
        "import pandas as pd \n",
        "df=pd.read_csv('gdrive/My Drive/Capstone_project/reviews_preprocessed.csv',dtype='unicode',usecols = ['reviewerID','product_id','ratings','reviewcomb','ratings','clean_text'])"
      ],
      "execution_count": 45,
      "outputs": []
    },
    {
      "cell_type": "code",
      "metadata": {
        "colab": {
          "base_uri": "https://localhost:8080/",
          "height": 204
        },
        "id": "IbZJ__RHUG7o",
        "outputId": "171f5151-d009-4b33-b7b6-0a72041499a8"
      },
      "source": [
        "df.head()"
      ],
      "execution_count": 46,
      "outputs": [
        {
          "output_type": "execute_result",
          "data": {
            "text/html": [
              "<div>\n",
              "<style scoped>\n",
              "    .dataframe tbody tr th:only-of-type {\n",
              "        vertical-align: middle;\n",
              "    }\n",
              "\n",
              "    .dataframe tbody tr th {\n",
              "        vertical-align: top;\n",
              "    }\n",
              "\n",
              "    .dataframe thead th {\n",
              "        text-align: right;\n",
              "    }\n",
              "</style>\n",
              "<table border=\"1\" class=\"dataframe\">\n",
              "  <thead>\n",
              "    <tr style=\"text-align: right;\">\n",
              "      <th></th>\n",
              "      <th>reviewerID</th>\n",
              "      <th>product_id</th>\n",
              "      <th>ratings</th>\n",
              "      <th>reviewcomb</th>\n",
              "      <th>clean_text</th>\n",
              "    </tr>\n",
              "  </thead>\n",
              "  <tbody>\n",
              "    <tr>\n",
              "      <th>0</th>\n",
              "      <td>A11LNPG39A2ZV4</td>\n",
              "      <td>B00063M3EC</td>\n",
              "      <td>5.0</td>\n",
              "      <td>I've been using&amp;nbsp;&lt;a data-hook=\"product-lin...</td>\n",
              "      <td>use marvi classic strong mint toothpast year r...</td>\n",
              "    </tr>\n",
              "    <tr>\n",
              "      <th>1</th>\n",
              "      <td>A1VUN4JU731CBH</td>\n",
              "      <td>B00063M3EC</td>\n",
              "      <td>5.0</td>\n",
              "      <td>I had seen the Marvis toothpastes before and a...</td>\n",
              "      <td>seen marvi toothpast alway wonder world anyon ...</td>\n",
              "    </tr>\n",
              "    <tr>\n",
              "      <th>2</th>\n",
              "      <td>A2CBVSJ1OV2Q4S</td>\n",
              "      <td>B00063M3EC</td>\n",
              "      <td>5.0</td>\n",
              "      <td>I buy the Jasmine Marvis Toothpaste because it...</td>\n",
              "      <td>buy jasmin marvi toothpast uniqu floral scent ...</td>\n",
              "    </tr>\n",
              "    <tr>\n",
              "      <th>3</th>\n",
              "      <td>A34XM0ECYBB4DH</td>\n",
              "      <td>B00063M3EC</td>\n",
              "      <td>5.0</td>\n",
              "      <td>This toothpaste is the best I've ever tried.  ...</td>\n",
              "      <td>toothpast best ever tri tast realli good light...</td>\n",
              "    </tr>\n",
              "    <tr>\n",
              "      <th>4</th>\n",
              "      <td>A2PMRY7ADA8WJ2</td>\n",
              "      <td>B00063M3EC</td>\n",
              "      <td>5.0</td>\n",
              "      <td>i didn't know what i was missing until i tried...</td>\n",
              "      <td>know miss tri toothpast make other tast artifi...</td>\n",
              "    </tr>\n",
              "  </tbody>\n",
              "</table>\n",
              "</div>"
            ],
            "text/plain": [
              "       reviewerID  ...                                         clean_text\n",
              "0  A11LNPG39A2ZV4  ...  use marvi classic strong mint toothpast year r...\n",
              "1  A1VUN4JU731CBH  ...  seen marvi toothpast alway wonder world anyon ...\n",
              "2  A2CBVSJ1OV2Q4S  ...  buy jasmin marvi toothpast uniqu floral scent ...\n",
              "3  A34XM0ECYBB4DH  ...  toothpast best ever tri tast realli good light...\n",
              "4  A2PMRY7ADA8WJ2  ...  know miss tri toothpast make other tast artifi...\n",
              "\n",
              "[5 rows x 5 columns]"
            ]
          },
          "metadata": {
            "tags": []
          },
          "execution_count": 46
        }
      ]
    },
    {
      "cell_type": "code",
      "metadata": {
        "colab": {
          "base_uri": "https://localhost:8080/"
        },
        "id": "u9q-G77OUG-e",
        "outputId": "621c2a7b-0ff4-4c31-bd09-1eb0e7899cbc"
      },
      "source": [
        "df.shape"
      ],
      "execution_count": 47,
      "outputs": [
        {
          "output_type": "execute_result",
          "data": {
            "text/plain": [
              "(464829, 5)"
            ]
          },
          "metadata": {
            "tags": []
          },
          "execution_count": 47
        }
      ]
    },
    {
      "cell_type": "code",
      "metadata": {
        "colab": {
          "base_uri": "https://localhost:8080/"
        },
        "id": "EXW7j4YTlRav",
        "outputId": "65b7e9d6-3940-4db8-ed90-d6529cac528f"
      },
      "source": [
        "df.isnull().sum()"
      ],
      "execution_count": 48,
      "outputs": [
        {
          "output_type": "execute_result",
          "data": {
            "text/plain": [
              "reviewerID     0\n",
              "product_id     0\n",
              "ratings        0\n",
              "reviewcomb     0\n",
              "clean_text    14\n",
              "dtype: int64"
            ]
          },
          "metadata": {
            "tags": []
          },
          "execution_count": 48
        }
      ]
    },
    {
      "cell_type": "code",
      "metadata": {
        "id": "5-GwS-6SlTbZ"
      },
      "source": [
        "df.dropna(inplace=True)"
      ],
      "execution_count": 49,
      "outputs": []
    },
    {
      "cell_type": "code",
      "metadata": {
        "id": "DThdxkj6UHBN"
      },
      "source": [
        "df['ratings'] = df['ratings'].astype(float)"
      ],
      "execution_count": 50,
      "outputs": []
    },
    {
      "cell_type": "code",
      "metadata": {
        "colab": {
          "base_uri": "https://localhost:8080/"
        },
        "id": "8v5VnKiIUkST",
        "outputId": "a4305f4f-e780-483b-8bab-bfdcf191eba9"
      },
      "source": [
        "df['Sentiment_rating']=np.where(df.ratings>3,1,0)\n",
        "\n",
        "df = df[df.ratings !=3]\n",
        "\n",
        "df['Sentiment_rating'].value_counts(normalize=True)"
      ],
      "execution_count": 51,
      "outputs": [
        {
          "output_type": "execute_result",
          "data": {
            "text/plain": [
              "1    0.838452\n",
              "0    0.161548\n",
              "Name: Sentiment_rating, dtype: float64"
            ]
          },
          "metadata": {
            "tags": []
          },
          "execution_count": 51
        }
      ]
    },
    {
      "cell_type": "code",
      "metadata": {
        "colab": {
          "base_uri": "https://localhost:8080/",
          "height": 204
        },
        "id": "VrR8wV7XUkVH",
        "outputId": "ae985627-311a-4c50-eb0b-a7c1746bea8b"
      },
      "source": [
        "df.head()"
      ],
      "execution_count": 52,
      "outputs": [
        {
          "output_type": "execute_result",
          "data": {
            "text/html": [
              "<div>\n",
              "<style scoped>\n",
              "    .dataframe tbody tr th:only-of-type {\n",
              "        vertical-align: middle;\n",
              "    }\n",
              "\n",
              "    .dataframe tbody tr th {\n",
              "        vertical-align: top;\n",
              "    }\n",
              "\n",
              "    .dataframe thead th {\n",
              "        text-align: right;\n",
              "    }\n",
              "</style>\n",
              "<table border=\"1\" class=\"dataframe\">\n",
              "  <thead>\n",
              "    <tr style=\"text-align: right;\">\n",
              "      <th></th>\n",
              "      <th>reviewerID</th>\n",
              "      <th>product_id</th>\n",
              "      <th>ratings</th>\n",
              "      <th>reviewcomb</th>\n",
              "      <th>clean_text</th>\n",
              "      <th>Sentiment_rating</th>\n",
              "    </tr>\n",
              "  </thead>\n",
              "  <tbody>\n",
              "    <tr>\n",
              "      <th>0</th>\n",
              "      <td>A11LNPG39A2ZV4</td>\n",
              "      <td>B00063M3EC</td>\n",
              "      <td>5.0</td>\n",
              "      <td>I've been using&amp;nbsp;&lt;a data-hook=\"product-lin...</td>\n",
              "      <td>use marvi classic strong mint toothpast year r...</td>\n",
              "      <td>1</td>\n",
              "    </tr>\n",
              "    <tr>\n",
              "      <th>1</th>\n",
              "      <td>A1VUN4JU731CBH</td>\n",
              "      <td>B00063M3EC</td>\n",
              "      <td>5.0</td>\n",
              "      <td>I had seen the Marvis toothpastes before and a...</td>\n",
              "      <td>seen marvi toothpast alway wonder world anyon ...</td>\n",
              "      <td>1</td>\n",
              "    </tr>\n",
              "    <tr>\n",
              "      <th>2</th>\n",
              "      <td>A2CBVSJ1OV2Q4S</td>\n",
              "      <td>B00063M3EC</td>\n",
              "      <td>5.0</td>\n",
              "      <td>I buy the Jasmine Marvis Toothpaste because it...</td>\n",
              "      <td>buy jasmin marvi toothpast uniqu floral scent ...</td>\n",
              "      <td>1</td>\n",
              "    </tr>\n",
              "    <tr>\n",
              "      <th>3</th>\n",
              "      <td>A34XM0ECYBB4DH</td>\n",
              "      <td>B00063M3EC</td>\n",
              "      <td>5.0</td>\n",
              "      <td>This toothpaste is the best I've ever tried.  ...</td>\n",
              "      <td>toothpast best ever tri tast realli good light...</td>\n",
              "      <td>1</td>\n",
              "    </tr>\n",
              "    <tr>\n",
              "      <th>4</th>\n",
              "      <td>A2PMRY7ADA8WJ2</td>\n",
              "      <td>B00063M3EC</td>\n",
              "      <td>5.0</td>\n",
              "      <td>i didn't know what i was missing until i tried...</td>\n",
              "      <td>know miss tri toothpast make other tast artifi...</td>\n",
              "      <td>1</td>\n",
              "    </tr>\n",
              "  </tbody>\n",
              "</table>\n",
              "</div>"
            ],
            "text/plain": [
              "       reviewerID  ... Sentiment_rating\n",
              "0  A11LNPG39A2ZV4  ...                1\n",
              "1  A1VUN4JU731CBH  ...                1\n",
              "2  A2CBVSJ1OV2Q4S  ...                1\n",
              "3  A34XM0ECYBB4DH  ...                1\n",
              "4  A2PMRY7ADA8WJ2  ...                1\n",
              "\n",
              "[5 rows x 6 columns]"
            ]
          },
          "metadata": {
            "tags": []
          },
          "execution_count": 52
        }
      ]
    },
    {
      "cell_type": "code",
      "metadata": {
        "id": "BaQvvWAOUkXf"
      },
      "source": [
        "df_orig = df.copy()"
      ],
      "execution_count": 53,
      "outputs": []
    },
    {
      "cell_type": "code",
      "metadata": {
        "id": "QrHckoYDUkcs"
      },
      "source": [
        "X = df[['clean_text']]\n",
        "y=df['Sentiment_rating']"
      ],
      "execution_count": 54,
      "outputs": []
    },
    {
      "cell_type": "code",
      "metadata": {
        "colab": {
          "base_uri": "https://localhost:8080/"
        },
        "id": "T5KSqQPGUw0Q",
        "outputId": "5ab18865-d69e-4bd6-c6a9-8ba63ee71225"
      },
      "source": [
        "X.shape"
      ],
      "execution_count": 55,
      "outputs": [
        {
          "output_type": "execute_result",
          "data": {
            "text/plain": [
              "(428745, 1)"
            ]
          },
          "metadata": {
            "tags": []
          },
          "execution_count": 55
        }
      ]
    },
    {
      "cell_type": "code",
      "metadata": {
        "colab": {
          "base_uri": "https://localhost:8080/"
        },
        "id": "w1afqKexU6Up",
        "outputId": "7548aeac-8d85-44bd-c1c3-287ada62783e"
      },
      "source": [
        "y.shape"
      ],
      "execution_count": 56,
      "outputs": [
        {
          "output_type": "execute_result",
          "data": {
            "text/plain": [
              "(428745,)"
            ]
          },
          "metadata": {
            "tags": []
          },
          "execution_count": 56
        }
      ]
    },
    {
      "cell_type": "markdown",
      "metadata": {
        "id": "R2jguhYESHmx"
      },
      "source": [
        "# One hot encoding"
      ]
    },
    {
      "cell_type": "code",
      "metadata": {
        "id": "-T8por4_U6Xt"
      },
      "source": [
        "### Vocabulary size\n",
        "vocab_size=5000"
      ],
      "execution_count": 57,
      "outputs": []
    },
    {
      "cell_type": "code",
      "metadata": {
        "id": "neh83UK9U6av"
      },
      "source": [
        "messages=X.copy()"
      ],
      "execution_count": 58,
      "outputs": []
    },
    {
      "cell_type": "code",
      "metadata": {
        "colab": {
          "base_uri": "https://localhost:8080/"
        },
        "id": "NlqP8TGwU6dX",
        "outputId": "d082e435-9cd3-4aee-af9e-6d7efdca07db"
      },
      "source": [
        "messages['clean_text']"
      ],
      "execution_count": 59,
      "outputs": [
        {
          "output_type": "execute_result",
          "data": {
            "text/plain": [
              "0         use marvi classic strong mint toothpast year r...\n",
              "1         seen marvi toothpast alway wonder world anyon ...\n",
              "2         buy jasmin marvi toothpast uniqu floral scent ...\n",
              "3         toothpast best ever tri tast realli good light...\n",
              "4         know miss tri toothpast make other tast artifi...\n",
              "                                ...                        \n",
              "464823    wife bought love say paint fade last longer ev...\n",
              "464824    cnd shellac power polish wonder color brick kn...\n",
              "464825                                 colour dark two star\n",
              "464827      great product perfect shade love deep red color\n",
              "464828    perfum good spray head broke spray head broke ...\n",
              "Name: clean_text, Length: 428745, dtype: object"
            ]
          },
          "metadata": {
            "tags": []
          },
          "execution_count": 59
        }
      ]
    },
    {
      "cell_type": "code",
      "metadata": {
        "id": "yyTTReWnUw55"
      },
      "source": [
        "messages.reset_index(inplace=True)"
      ],
      "execution_count": 60,
      "outputs": []
    },
    {
      "cell_type": "code",
      "metadata": {
        "colab": {
          "base_uri": "https://localhost:8080/"
        },
        "id": "wfsLpNXqVsfu",
        "outputId": "3b35fa52-05c5-48d9-df22-f4fd22f6bafd"
      },
      "source": [
        "import nltk\n",
        "import re\n",
        "from nltk.corpus import stopwords\n",
        "nltk.download('stopwords')"
      ],
      "execution_count": 24,
      "outputs": [
        {
          "output_type": "stream",
          "text": [
            "[nltk_data] Downloading package stopwords to /root/nltk_data...\n",
            "[nltk_data]   Unzipping corpora/stopwords.zip.\n"
          ],
          "name": "stdout"
        },
        {
          "output_type": "execute_result",
          "data": {
            "text/plain": [
              "True"
            ]
          },
          "metadata": {
            "tags": []
          },
          "execution_count": 24
        }
      ]
    },
    {
      "cell_type": "code",
      "metadata": {
        "id": "AsR-PE6xjRDh"
      },
      "source": [
        "corpus = []\n",
        "for words in messages['clean_text']:\n",
        "  corpus.append(words)"
      ],
      "execution_count": 61,
      "outputs": []
    },
    {
      "cell_type": "code",
      "metadata": {
        "id": "tLMwuGnpUw8d"
      },
      "source": [
        "onehot_repr=[one_hot(words,vocab_size)for words in corpus] \n",
        "# onehot_repr"
      ],
      "execution_count": 26,
      "outputs": []
    },
    {
      "cell_type": "code",
      "metadata": {
        "colab": {
          "base_uri": "https://localhost:8080/"
        },
        "id": "JTXVDyTvUkfA",
        "outputId": "b627d2ca-6909-45ad-a2c5-453ee57986c3"
      },
      "source": [
        "sentence_length=250 #100\n",
        "embedded_docs=pad_sequences(onehot_repr,padding='post',maxlen=sentence_length)\n",
        "print(embedded_docs)"
      ],
      "execution_count": 62,
      "outputs": [
        {
          "output_type": "stream",
          "text": [
            "[[ 446 4007   94 ...    0    0    0]\n",
            " [1647 4007  692 ...    0    0    0]\n",
            " [2164 3816 4007 ...    0    0    0]\n",
            " ...\n",
            " [4395 3352 2672 ...    0    0    0]\n",
            " [4726 4394 1492 ...    0    0    0]\n",
            " [2812 4107 2557 ...    0    0    0]]\n"
          ],
          "name": "stdout"
        }
      ]
    },
    {
      "cell_type": "code",
      "metadata": {
        "colab": {
          "base_uri": "https://localhost:8080/"
        },
        "id": "K_NCbKRRWELX",
        "outputId": "6d37a42c-8c73-4086-f305-fd4065a8ffb4"
      },
      "source": [
        "embedded_docs[0]"
      ],
      "execution_count": 63,
      "outputs": [
        {
          "output_type": "execute_result",
          "data": {
            "text/plain": [
              "array([ 446, 4007,   94,  348, 1650,  692, 2165, 2965,  692, 2121, 2437,\n",
              "       1145, 4877,  539, 2649, 3816, 1650, 4396, 2768, 3816, 4484, 4640,\n",
              "       3387, 2965,  347, 2783, 1650,  439, 3214, 2241, 4687, 3135, 3971,\n",
              "       4023, 1129,  361,  875, 4748, 4751, 4388, 4614, 2768, 4396, 3152,\n",
              "       4484, 3350, 4007, 2250, 1988,  692, 2449,  446, 2324,  692, 4007,\n",
              "          0,    0,    0,    0,    0,    0,    0,    0,    0,    0,    0,\n",
              "          0,    0,    0,    0,    0,    0,    0,    0,    0,    0,    0,\n",
              "          0,    0,    0,    0,    0,    0,    0,    0,    0,    0,    0,\n",
              "          0,    0,    0,    0,    0,    0,    0,    0,    0,    0,    0,\n",
              "          0,    0,    0,    0,    0,    0,    0,    0,    0,    0,    0,\n",
              "          0,    0,    0,    0,    0,    0,    0,    0,    0,    0,    0,\n",
              "          0,    0,    0,    0,    0,    0,    0,    0,    0,    0,    0,\n",
              "          0,    0,    0,    0,    0,    0,    0,    0,    0,    0,    0,\n",
              "          0,    0,    0,    0,    0,    0,    0,    0,    0,    0,    0,\n",
              "          0,    0,    0,    0,    0,    0,    0,    0,    0,    0,    0,\n",
              "          0,    0,    0,    0,    0,    0,    0,    0,    0,    0,    0,\n",
              "          0,    0,    0,    0,    0,    0,    0,    0,    0,    0,    0,\n",
              "          0,    0,    0,    0,    0,    0,    0,    0,    0,    0,    0,\n",
              "          0,    0,    0,    0,    0,    0,    0,    0,    0,    0,    0,\n",
              "          0,    0,    0,    0,    0,    0,    0,    0,    0,    0,    0,\n",
              "          0,    0,    0,    0,    0,    0,    0,    0,    0,    0,    0,\n",
              "          0,    0,    0,    0,    0,    0,    0,    0,    0,    0,    0,\n",
              "          0,    0,    0,    0,    0,    0,    0,    0], dtype=int32)"
            ]
          },
          "metadata": {
            "tags": []
          },
          "execution_count": 63
        }
      ]
    },
    {
      "cell_type": "code",
      "metadata": {
        "colab": {
          "base_uri": "https://localhost:8080/"
        },
        "id": "E5morbthjxRf",
        "outputId": "1fce22b5-9fdd-47ee-a662-356859d7a09c"
      },
      "source": [
        "## Creating model with one droputs\n",
        "embedding_vector_features=100\n",
        "\n",
        "model=Sequential()\n",
        "model.add(Embedding(vocab_size,embedding_vector_features,input_length=sentence_length))\n",
        "# model.add(Dropout(0.5))\n",
        "model.add(Bidirectional(LSTM(200)))\n",
        "model.add(Dropout(0.6))\n",
        "model.add(Dense(1,activation='sigmoid'))\n",
        "optimizer = tf.keras.optimizers.Adam(0.01)\n",
        "optimizer.learning_rate.assign(0.001)\n",
        "model.compile(loss='binary_crossentropy',optimizer=optimizer,metrics=['accuracy'])\n",
        "print(model.summary())"
      ],
      "execution_count": 64,
      "outputs": [
        {
          "output_type": "stream",
          "text": [
            "Model: \"sequential_2\"\n",
            "_________________________________________________________________\n",
            "Layer (type)                 Output Shape              Param #   \n",
            "=================================================================\n",
            "embedding_2 (Embedding)      (None, 250, 100)          500000    \n",
            "_________________________________________________________________\n",
            "bidirectional_2 (Bidirection (None, 400)               481600    \n",
            "_________________________________________________________________\n",
            "dropout_2 (Dropout)          (None, 400)               0         \n",
            "_________________________________________________________________\n",
            "dense_2 (Dense)              (None, 1)                 401       \n",
            "=================================================================\n",
            "Total params: 982,001\n",
            "Trainable params: 982,001\n",
            "Non-trainable params: 0\n",
            "_________________________________________________________________\n",
            "None\n"
          ],
          "name": "stdout"
        }
      ]
    },
    {
      "cell_type": "code",
      "metadata": {
        "colab": {
          "base_uri": "https://localhost:8080/"
        },
        "id": "nGjhvagzWETJ",
        "outputId": "ecce2347-36fa-40a6-a70a-9260e7d7a25d"
      },
      "source": [
        "len(embedded_docs),y.shape"
      ],
      "execution_count": 65,
      "outputs": [
        {
          "output_type": "execute_result",
          "data": {
            "text/plain": [
              "(428745, (428745,))"
            ]
          },
          "metadata": {
            "tags": []
          },
          "execution_count": 65
        }
      ]
    },
    {
      "cell_type": "code",
      "metadata": {
        "id": "jXV1k8EAWMtX"
      },
      "source": [
        "import numpy as np\n",
        "X_final=np.array(embedded_docs)\n",
        "y_final=np.array(y)"
      ],
      "execution_count": 66,
      "outputs": []
    },
    {
      "cell_type": "code",
      "metadata": {
        "colab": {
          "base_uri": "https://localhost:8080/"
        },
        "id": "i5FZFWYtWMwF",
        "outputId": "c9e6e583-0b65-418b-bc5d-f410a60a8d64"
      },
      "source": [
        "X_final.shape,y_final.shape"
      ],
      "execution_count": 67,
      "outputs": [
        {
          "output_type": "execute_result",
          "data": {
            "text/plain": [
              "((428745, 250), (428745,))"
            ]
          },
          "metadata": {
            "tags": []
          },
          "execution_count": 67
        }
      ]
    },
    {
      "cell_type": "code",
      "metadata": {
        "id": "9oBFEbwlWMzf"
      },
      "source": [
        "from sklearn.model_selection import train_test_split\n",
        "X_train, X_test, y_train, y_test = train_test_split(X_final, y_final, test_size=0.2,stratify =y_final, random_state=42)"
      ],
      "execution_count": 68,
      "outputs": []
    },
    {
      "cell_type": "code",
      "metadata": {
        "id": "EP-LIaEFWDIS"
      },
      "source": [
        "# callback = tf.keras.callbacks.EarlyStopping(monitor='val_loss', patience=3, min_delta=0.1)"
      ],
      "execution_count": null,
      "outputs": []
    },
    {
      "cell_type": "code",
      "metadata": {
        "id": "UEaCsPdzW3TB"
      },
      "source": [
        "# early_stop = keras.callbacks.EarlyStopping(monitor = 'val_loss',patience = 5)"
      ],
      "execution_count": null,
      "outputs": []
    },
    {
      "cell_type": "code",
      "metadata": {
        "colab": {
          "base_uri": "https://localhost:8080/"
        },
        "id": "-lEYhx8ZWM2Y",
        "outputId": "5dba016f-6bfe-4104-e14e-a19fb1f3fa4f"
      },
      "source": [
        "### Train model\n",
        "history = model.fit(X_train,y_train,validation_data=(X_test,y_test),epochs=5,batch_size=64)"
      ],
      "execution_count": 69,
      "outputs": [
        {
          "output_type": "stream",
          "text": [
            "Epoch 1/5\n",
            "5360/5360 [==============================] - 284s 53ms/step - loss: 0.1998 - accuracy: 0.9235 - val_loss: 0.1397 - val_accuracy: 0.9452\n",
            "Epoch 2/5\n",
            "5360/5360 [==============================] - 282s 53ms/step - loss: 0.1350 - accuracy: 0.9474 - val_loss: 0.1332 - val_accuracy: 0.9478\n",
            "Epoch 3/5\n",
            "5360/5360 [==============================] - 281s 52ms/step - loss: 0.1188 - accuracy: 0.9544 - val_loss: 0.1283 - val_accuracy: 0.9492\n",
            "Epoch 4/5\n",
            "5360/5360 [==============================] - 280s 52ms/step - loss: 0.1061 - accuracy: 0.9597 - val_loss: 0.1294 - val_accuracy: 0.9499\n",
            "Epoch 5/5\n",
            "5360/5360 [==============================] - 279s 52ms/step - loss: 0.0946 - accuracy: 0.9642 - val_loss: 0.1314 - val_accuracy: 0.9499\n"
          ],
          "name": "stdout"
        }
      ]
    },
    {
      "cell_type": "code",
      "metadata": {
        "colab": {
          "base_uri": "https://localhost:8080/",
          "height": 533
        },
        "id": "UXEXpWsfs2AA",
        "outputId": "57b42d67-894c-44c8-8715-0b77eed8b87f"
      },
      "source": [
        "from keras.utils import plot_model\n",
        "plot_model(model, to_file='model_plot.png', show_shapes=True, show_layer_names=True)"
      ],
      "execution_count": 71,
      "outputs": [
        {
          "output_type": "execute_result",
          "data": {
            "image/png": "[encoded data removed]",
            "text/plain": [
              "<IPython.core.display.Image object>"
            ]
          },
          "metadata": {
            "tags": []
          },
          "execution_count": 71
        }
      ]
    },
    {
      "cell_type": "code",
      "metadata": {
        "id": "uUKymIIMgZCC"
      },
      "source": [
        "y_pred=(model.predict(X_test)> 0.5).astype(\"int32\")"
      ],
      "execution_count": 72,
      "outputs": []
    },
    {
      "cell_type": "code",
      "metadata": {
        "id": "6E00hnEJWSI3"
      },
      "source": [
        "from sklearn.metrics import confusion_matrix"
      ],
      "execution_count": 73,
      "outputs": []
    },
    {
      "cell_type": "code",
      "metadata": {
        "colab": {
          "base_uri": "https://localhost:8080/"
        },
        "id": "BXVFYOkLWSLn",
        "outputId": "97e733f7-c967-46b2-ae21-b86f4bcd4501"
      },
      "source": [
        "confusion_matrix(y_test,y_pred)"
      ],
      "execution_count": 74,
      "outputs": [
        {
          "output_type": "execute_result",
          "data": {
            "text/plain": [
              "array([[11475,  2378],\n",
              "       [ 1915, 69981]])"
            ]
          },
          "metadata": {
            "tags": []
          },
          "execution_count": 74
        }
      ]
    },
    {
      "cell_type": "code",
      "metadata": {
        "colab": {
          "base_uri": "https://localhost:8080/"
        },
        "id": "JDhMLOZRWSN2",
        "outputId": "9f7f8cee-81a8-489e-89d4-dd860b23693b"
      },
      "source": [
        "from sklearn.metrics import accuracy_score\n",
        "accuracy_score(y_test,y_pred)"
      ],
      "execution_count": 75,
      "outputs": [
        {
          "output_type": "execute_result",
          "data": {
            "text/plain": [
              "0.9499352762131337"
            ]
          },
          "metadata": {
            "tags": []
          },
          "execution_count": 75
        }
      ]
    },
    {
      "cell_type": "code",
      "metadata": {
        "colab": {
          "base_uri": "https://localhost:8080/"
        },
        "id": "Fy7m7E8jWmHZ",
        "outputId": "f8110637-73ba-40e1-b174-585d817058dd"
      },
      "source": [
        "from sklearn.metrics import classification_report\n",
        "print(classification_report(y_test,y_pred))"
      ],
      "execution_count": 76,
      "outputs": [
        {
          "output_type": "stream",
          "text": [
            "              precision    recall  f1-score   support\n",
            "\n",
            "           0       0.86      0.83      0.84     13853\n",
            "           1       0.97      0.97      0.97     71896\n",
            "\n",
            "    accuracy                           0.95     85749\n",
            "   macro avg       0.91      0.90      0.91     85749\n",
            "weighted avg       0.95      0.95      0.95     85749\n",
            "\n"
          ],
          "name": "stdout"
        }
      ]
    },
    {
      "cell_type": "code",
      "metadata": {
        "colab": {
          "base_uri": "https://localhost:8080/"
        },
        "id": "r5TaFeupLiSC",
        "outputId": "0d186495-9c4a-44fc-cfc7-58de6c539be1"
      },
      "source": [
        "history.history"
      ],
      "execution_count": 77,
      "outputs": [
        {
          "output_type": "execute_result",
          "data": {
            "text/plain": [
              "{'accuracy': [0.9358709454536438,\n",
              "  0.9481393098831177,\n",
              "  0.9540111422538757,\n",
              "  0.9585884213447571,\n",
              "  0.9625709652900696],\n",
              " 'loss': [0.1666833609342575,\n",
              "  0.13370971381664276,\n",
              "  0.11955608427524567,\n",
              "  0.10849466919898987,\n",
              "  0.09849508106708527],\n",
              " 'val_accuracy': [0.945223867893219,\n",
              "  0.9477778077125549,\n",
              "  0.9492005705833435,\n",
              "  0.9499236345291138,\n",
              "  0.949935257434845],\n",
              " 'val_loss': [0.1396857649087906,\n",
              "  0.1331970989704132,\n",
              "  0.1282857060432434,\n",
              "  0.12941554188728333,\n",
              "  0.13140125572681427]}"
            ]
          },
          "metadata": {
            "tags": []
          },
          "execution_count": 77
        }
      ]
    },
    {
      "cell_type": "code",
      "metadata": {
        "colab": {
          "base_uri": "https://localhost:8080/",
          "height": 295
        },
        "id": "ah2qna72Oav7",
        "outputId": "21bac944-6338-46b4-df60-c648d30daa75"
      },
      "source": [
        "plt.plot(history.history['accuracy'],label = 'Train accuracy')\n",
        "plt.plot(history.history['val_accuracy'],label = 'Test accuracy')\n",
        "plt.title(\"Model Accuracy\")\n",
        "\n",
        "plt.xlabel('Epoch')\n",
        "plt.ylabel('Accuracy')\n",
        "plt.legend(['Train','Test'], loc = 'upper right')\n",
        "plt.show()"
      ],
      "execution_count": 78,
      "outputs": [
        {
          "output_type": "display_data",
          "data": {
            "image/png": "[encoded data removed]",
            "text/plain": [
              "<Figure size 432x288 with 1 Axes>"
            ]
          },
          "metadata": {
            "tags": [],
            "needs_background": "light"
          }
        }
      ]
    },
    {
      "cell_type": "code",
      "metadata": {
        "colab": {
          "base_uri": "https://localhost:8080/",
          "height": 295
        },
        "id": "IuI4mUnQOazF",
        "outputId": "34f9902c-f871-472e-8ee8-58d385953fde"
      },
      "source": [
        "plt.plot(history.history['loss'],label = 'Train loss')\n",
        "plt.plot(history.history['val_loss'],label = 'Test loss')\n",
        "plt.title(\"Model loss\")\n",
        "\n",
        "plt.xlabel('Epoch')\n",
        "plt.ylabel('loss')\n",
        "plt.legend(['Train','Test'], loc = 'upper right')\n",
        "plt.show()"
      ],
      "execution_count": 79,
      "outputs": [
        {
          "output_type": "display_data",
          "data": {
            "image/png": "[encoded data removed]",
            "text/plain": [
              "<Figure size 432x288 with 1 Axes>"
            ]
          },
          "metadata": {
            "tags": [],
            "needs_background": "light"
          }
        }
      ]
    },
    {
      "cell_type": "code",
      "metadata": {
        "id": "lN4DAmlvOa2G"
      },
      "source": [
        "import matplotlib as plt\n",
        "plt.rcParams.update(plt.rcParamsDefault)"
      ],
      "execution_count": 151,
      "outputs": []
    },
    {
      "cell_type": "code",
      "metadata": {
        "colab": {
          "base_uri": "https://localhost:8080/",
          "height": 388
        },
        "id": "Cke27dZ1Oa4_",
        "outputId": "03844694-587f-47b4-e561-5e07dec96e41"
      },
      "source": [
        "mat = confusion_matrix(y_test, y_pred)\n",
        "fig, ax = plot_confusion_matrix(conf_mat = mat, figsize = (6,6),  show_normed =False)\n",
        "\n"
      ],
      "execution_count": 80,
      "outputs": [
        {
          "output_type": "display_data",
          "data": {
            "image/png": "[encoded data removed]",
            "text/plain": [
              "<Figure size 432x432 with 1 Axes>"
            ]
          },
          "metadata": {
            "tags": [],
            "needs_background": "light"
          }
        }
      ]
    },
    {
      "cell_type": "code",
      "metadata": {
        "colab": {
          "base_uri": "https://localhost:8080/"
        },
        "id": "ncpuac6sypGe",
        "outputId": "abe08d6b-f365-4a3b-dbd0-91d53ab30181"
      },
      "source": [
        "2378/(2378+11475)"
      ],
      "execution_count": 81,
      "outputs": [
        {
          "output_type": "execute_result",
          "data": {
            "text/plain": [
              "0.17165956832455065"
            ]
          },
          "metadata": {
            "tags": []
          },
          "execution_count": 81
        }
      ]
    },
    {
      "cell_type": "markdown",
      "metadata": {
        "id": "CrFKaRxmmpZp"
      },
      "source": [
        "Though the model seems to be overfitting, the precision is better compared to the sklearn's models. The FPR is 0.162 as opposed to 0.29 for logitic regression with TFIDF vectorizer."
      ]
    }
  ]
}