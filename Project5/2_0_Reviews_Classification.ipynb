{
  "nbformat": 4,
  "nbformat_minor": 5,
  "metadata": {
    "colab": {
      "name": "2_Reviews Classification.ipynb",
      "provenance": [],
      "collapsed_sections": [],
      "toc_visible": true
    },
    "kernelspec": {
      "display_name": "Python 3",
      "language": "python",
      "name": "python3"
    },
    "language_info": {
      "codemirror_mode": {
        "name": "ipython",
        "version": 3
      },
      "file_extension": ".py",
      "mimetype": "text/x-python",
      "name": "python",
      "nbconvert_exporter": "python",
      "pygments_lexer": "ipython3",
      "version": "3.8.5"
    },
    "toc": {
      "base_numbering": 1,
      "nav_menu": {},
      "number_sections": true,
      "sideBar": true,
      "skip_h1_title": false,
      "title_cell": "Table of Contents",
      "title_sidebar": "Contents",
      "toc_cell": false,
      "toc_position": {
        "height": "calc(100% - 180px)",
        "left": "10px",
        "top": "150px",
        "width": "217px"
      },
      "toc_section_display": true,
      "toc_window_display": true
    }
  },
  "cells": [
    {
      "cell_type": "markdown",
      "metadata": {
        "id": "patent-march"
      },
      "source": [
        "# Classification and Product Recommendation System"
      ],
      "id": "patent-march"
    },
    {
      "cell_type": "markdown",
      "metadata": {
        "id": "0OKev1qIa0Vh"
      },
      "source": [
        "In this notebook, I have classified the positive and negative reviews by performing sentiment analysis on review text. The text is preprocessed in a separate notebook and polarity of the review text is alos obtained using Textblob in the previous notebook. The techniques used are Logistic Regression with countvectorizer, Logistic with TFIDF vectorizer, Multinomial with Tfidf, Linear SVC with Countvetorizer and the best model is found using the recall and precision as we are dealing with a imbalanced class. I have also classifed the using a simple BiLSTM network in separate notebook and have linked at the end of this notebook.\n",
        "\n",
        "The fisrt step is to mount the drive to colab and import the necessary libraries."
      ],
      "id": "0OKev1qIa0Vh"
    },
    {
      "cell_type": "code",
      "metadata": {
        "colab": {
          "base_uri": "https://localhost:8080/"
        },
        "id": "wqdBepQiUHeP",
        "outputId": "e29f3d31-5636-4990-d578-8940a3c44206"
      },
      "source": [
        "from google.colab import drive\n",
        "drive.mount('/content/gdrive')"
      ],
      "id": "wqdBepQiUHeP",
      "execution_count": 1,
      "outputs": [
        {
          "output_type": "stream",
          "text": [
            "Mounted at /content/gdrive\n"
          ],
          "name": "stdout"
        }
      ]
    },
    {
      "cell_type": "code",
      "metadata": {
        "colab": {
          "base_uri": "https://localhost:8080/"
        },
        "id": "combined-employee",
        "outputId": "56151baa-f44f-45cd-9385-d6e524e1f48e"
      },
      "source": [
        "import pandas as pd\n",
        "import numpy as np\n",
        "import seaborn as sns\n",
        "%matplotlib inline\n",
        "\n",
        "\n",
        "\n",
        "from sklearn.linear_model import LogisticRegression\n",
        "from sklearn.feature_extraction.text import CountVectorizer, TfidfVectorizer,TfidfTransformer\n",
        "from sklearn.model_selection import train_test_split, cross_val_score, GridSearchCV\n",
        "from sklearn.pipeline import Pipeline\n",
        "import matplotlib.pyplot as plt\n",
        "\n",
        "\n",
        "from nltk.stem import WordNetLemmatizer,PorterStemmer\n",
        "from nltk.stem.snowball import EnglishStemmer\n",
        "from nltk.corpus import stopwords\n",
        "import regex as re\n",
        "from tabulate import tabulate\n",
        "\n",
        "\n",
        "from sklearn.metrics import classification_report, confusion_matrix\n",
        "from sklearn.linear_model import LogisticRegression\n",
        "\n",
        "from sklearn.svm import LinearSVC\n",
        "from pylab import rcParams\n",
        "\n",
        "from sklearn.naive_bayes import MultinomialNB\n",
        "from sklearn.metrics import plot_confusion_matrix\n",
        "from sklearn.metrics import roc_auc_score, confusion_matrix,  plot_roc_curve, roc_curve, auc\n",
        "import nltk\n",
        "nltk.download('wordnet')\n",
        "from nltk.stem.porter import PorterStemmer\n",
        "english_stemmer=nltk.stem.SnowballStemmer('english')"
      ],
      "id": "combined-employee",
      "execution_count": 2,
      "outputs": [
        {
          "output_type": "stream",
          "text": [
            "[nltk_data] Downloading package wordnet to /root/nltk_data...\n",
            "[nltk_data]   Unzipping corpora/wordnet.zip.\n"
          ],
          "name": "stdout"
        }
      ]
    },
    {
      "cell_type": "markdown",
      "metadata": {
        "id": "focal-fellow"
      },
      "source": [
        "# Read the csv"
      ],
      "id": "focal-fellow"
    },
    {
      "cell_type": "code",
      "metadata": {
        "id": "brief-planet"
      },
      "source": [
        "#Read the preprocessed csv file\n",
        "df = pd.read_csv('gdrive/My Drive/Capstone_project/reviews_preprocessed.csv',usecols = ['reviewerID','title','ratings','clean_text','reviewcomb','polarity'])"
      ],
      "id": "brief-planet",
      "execution_count": 45,
      "outputs": []
    },
    {
      "cell_type": "code",
      "metadata": {
        "colab": {
          "base_uri": "https://localhost:8080/",
          "height": 289
        },
        "id": "surface-moment",
        "outputId": "67907481-de79-496a-932f-4b9e00f154c7"
      },
      "source": [
        "df.head()"
      ],
      "id": "surface-moment",
      "execution_count": 46,
      "outputs": [
        {
          "output_type": "execute_result",
          "data": {
            "text/html": [
              "<div>\n",
              "<style scoped>\n",
              "    .dataframe tbody tr th:only-of-type {\n",
              "        vertical-align: middle;\n",
              "    }\n",
              "\n",
              "    .dataframe tbody tr th {\n",
              "        vertical-align: top;\n",
              "    }\n",
              "\n",
              "    .dataframe thead th {\n",
              "        text-align: right;\n",
              "    }\n",
              "</style>\n",
              "<table border=\"1\" class=\"dataframe\">\n",
              "  <thead>\n",
              "    <tr style=\"text-align: right;\">\n",
              "      <th></th>\n",
              "      <th>reviewerID</th>\n",
              "      <th>ratings</th>\n",
              "      <th>title</th>\n",
              "      <th>reviewcomb</th>\n",
              "      <th>clean_text</th>\n",
              "      <th>polarity</th>\n",
              "    </tr>\n",
              "  </thead>\n",
              "  <tbody>\n",
              "    <tr>\n",
              "      <th>0</th>\n",
              "      <td>A11LNPG39A2ZV4</td>\n",
              "      <td>5.0</td>\n",
              "      <td>Marvis Jasmin Mint Toothpaste, 3.8 oz</td>\n",
              "      <td>I've been using&amp;nbsp;&lt;a data-hook=\"product-lin...</td>\n",
              "      <td>use marvi classic strong mint toothpast year r...</td>\n",
              "      <td>0.309612</td>\n",
              "    </tr>\n",
              "    <tr>\n",
              "      <th>1</th>\n",
              "      <td>A1VUN4JU731CBH</td>\n",
              "      <td>5.0</td>\n",
              "      <td>Marvis Jasmin Mint Toothpaste, 3.8 oz</td>\n",
              "      <td>I had seen the Marvis toothpastes before and a...</td>\n",
              "      <td>seen marvi toothpast alway wonder world anyon ...</td>\n",
              "      <td>0.234115</td>\n",
              "    </tr>\n",
              "    <tr>\n",
              "      <th>2</th>\n",
              "      <td>A2CBVSJ1OV2Q4S</td>\n",
              "      <td>5.0</td>\n",
              "      <td>Marvis Jasmin Mint Toothpaste, 3.8 oz</td>\n",
              "      <td>I buy the Jasmine Marvis Toothpaste because it...</td>\n",
              "      <td>buy jasmin marvi toothpast uniqu floral scent ...</td>\n",
              "      <td>0.301515</td>\n",
              "    </tr>\n",
              "    <tr>\n",
              "      <th>3</th>\n",
              "      <td>A34XM0ECYBB4DH</td>\n",
              "      <td>5.0</td>\n",
              "      <td>Marvis Jasmin Mint Toothpaste, 3.8 oz</td>\n",
              "      <td>This toothpaste is the best I've ever tried.  ...</td>\n",
              "      <td>toothpast best ever tri tast realli good light...</td>\n",
              "      <td>0.694000</td>\n",
              "    </tr>\n",
              "    <tr>\n",
              "      <th>4</th>\n",
              "      <td>A2PMRY7ADA8WJ2</td>\n",
              "      <td>5.0</td>\n",
              "      <td>Marvis Jasmin Mint Toothpaste, 3.8 oz</td>\n",
              "      <td>i didn't know what i was missing until i tried...</td>\n",
              "      <td>know miss tri toothpast make other tast artifi...</td>\n",
              "      <td>0.187202</td>\n",
              "    </tr>\n",
              "  </tbody>\n",
              "</table>\n",
              "</div>"
            ],
            "text/plain": [
              "       reviewerID  ...  polarity\n",
              "0  A11LNPG39A2ZV4  ...  0.309612\n",
              "1  A1VUN4JU731CBH  ...  0.234115\n",
              "2  A2CBVSJ1OV2Q4S  ...  0.301515\n",
              "3  A34XM0ECYBB4DH  ...  0.694000\n",
              "4  A2PMRY7ADA8WJ2  ...  0.187202\n",
              "\n",
              "[5 rows x 6 columns]"
            ]
          },
          "metadata": {
            "tags": []
          },
          "execution_count": 46
        }
      ]
    },
    {
      "cell_type": "code",
      "metadata": {
        "colab": {
          "base_uri": "https://localhost:8080/"
        },
        "id": "fabulous-muslim",
        "outputId": "50828023-dc33-4a8f-86d6-335207042c07"
      },
      "source": [
        "df.shape"
      ],
      "id": "fabulous-muslim",
      "execution_count": 47,
      "outputs": [
        {
          "output_type": "execute_result",
          "data": {
            "text/plain": [
              "(464829, 6)"
            ]
          },
          "metadata": {
            "tags": []
          },
          "execution_count": 47
        }
      ]
    },
    {
      "cell_type": "markdown",
      "metadata": {
        "id": "IwSHadwMdtdd"
      },
      "source": [
        "Some of the empty strings are read as null values while pandas were reading the preprocessed csvs. Therefore will drop the Nan values before modelling."
      ],
      "id": "IwSHadwMdtdd"
    },
    {
      "cell_type": "code",
      "metadata": {
        "colab": {
          "base_uri": "https://localhost:8080/"
        },
        "id": "conscious-congress",
        "outputId": "e07a5470-9af2-4e14-ab4c-138dfeb5f9b8"
      },
      "source": [
        "#drop nans\n",
        "df.isnull().sum()"
      ],
      "id": "conscious-congress",
      "execution_count": 48,
      "outputs": [
        {
          "output_type": "execute_result",
          "data": {
            "text/plain": [
              "reviewerID     0\n",
              "ratings        0\n",
              "title          0\n",
              "reviewcomb     0\n",
              "clean_text    14\n",
              "polarity       0\n",
              "dtype: int64"
            ]
          },
          "metadata": {
            "tags": []
          },
          "execution_count": 48
        }
      ]
    },
    {
      "cell_type": "code",
      "metadata": {
        "id": "suitable-height"
      },
      "source": [
        "df.dropna(inplace=True)"
      ],
      "id": "suitable-height",
      "execution_count": 49,
      "outputs": []
    },
    {
      "cell_type": "code",
      "metadata": {
        "colab": {
          "base_uri": "https://localhost:8080/"
        },
        "id": "blond-keyboard",
        "outputId": "7ea51e2a-abcb-44d1-ee1d-ea2af99365ff"
      },
      "source": [
        "df.isnull().sum()"
      ],
      "id": "blond-keyboard",
      "execution_count": 50,
      "outputs": [
        {
          "output_type": "execute_result",
          "data": {
            "text/plain": [
              "reviewerID    0\n",
              "ratings       0\n",
              "title         0\n",
              "reviewcomb    0\n",
              "clean_text    0\n",
              "polarity      0\n",
              "dtype: int64"
            ]
          },
          "metadata": {
            "tags": []
          },
          "execution_count": 50
        }
      ]
    },
    {
      "cell_type": "code",
      "metadata": {
        "colab": {
          "base_uri": "https://localhost:8080/",
          "height": 204
        },
        "id": "proved-forth",
        "outputId": "b2053910-3d7f-4622-a804-5a2f6fe6484d"
      },
      "source": [
        "df.head()"
      ],
      "id": "proved-forth",
      "execution_count": 9,
      "outputs": [
        {
          "output_type": "execute_result",
          "data": {
            "text/html": [
              "<div>\n",
              "<style scoped>\n",
              "    .dataframe tbody tr th:only-of-type {\n",
              "        vertical-align: middle;\n",
              "    }\n",
              "\n",
              "    .dataframe tbody tr th {\n",
              "        vertical-align: top;\n",
              "    }\n",
              "\n",
              "    .dataframe thead th {\n",
              "        text-align: right;\n",
              "    }\n",
              "</style>\n",
              "<table border=\"1\" class=\"dataframe\">\n",
              "  <thead>\n",
              "    <tr style=\"text-align: right;\">\n",
              "      <th></th>\n",
              "      <th>reviewerID</th>\n",
              "      <th>ratings</th>\n",
              "      <th>title</th>\n",
              "      <th>clean_text</th>\n",
              "      <th>polarity</th>\n",
              "    </tr>\n",
              "  </thead>\n",
              "  <tbody>\n",
              "    <tr>\n",
              "      <th>0</th>\n",
              "      <td>A11LNPG39A2ZV4</td>\n",
              "      <td>5.0</td>\n",
              "      <td>Marvis Jasmin Mint Toothpaste, 3.8 oz</td>\n",
              "      <td>use marvi classic strong mint toothpast year r...</td>\n",
              "      <td>0.309612</td>\n",
              "    </tr>\n",
              "    <tr>\n",
              "      <th>1</th>\n",
              "      <td>A1VUN4JU731CBH</td>\n",
              "      <td>5.0</td>\n",
              "      <td>Marvis Jasmin Mint Toothpaste, 3.8 oz</td>\n",
              "      <td>seen marvi toothpast alway wonder world anyon ...</td>\n",
              "      <td>0.234115</td>\n",
              "    </tr>\n",
              "    <tr>\n",
              "      <th>2</th>\n",
              "      <td>A2CBVSJ1OV2Q4S</td>\n",
              "      <td>5.0</td>\n",
              "      <td>Marvis Jasmin Mint Toothpaste, 3.8 oz</td>\n",
              "      <td>buy jasmin marvi toothpast uniqu floral scent ...</td>\n",
              "      <td>0.301515</td>\n",
              "    </tr>\n",
              "    <tr>\n",
              "      <th>3</th>\n",
              "      <td>A34XM0ECYBB4DH</td>\n",
              "      <td>5.0</td>\n",
              "      <td>Marvis Jasmin Mint Toothpaste, 3.8 oz</td>\n",
              "      <td>toothpast best ever tri tast realli good light...</td>\n",
              "      <td>0.694000</td>\n",
              "    </tr>\n",
              "    <tr>\n",
              "      <th>4</th>\n",
              "      <td>A2PMRY7ADA8WJ2</td>\n",
              "      <td>5.0</td>\n",
              "      <td>Marvis Jasmin Mint Toothpaste, 3.8 oz</td>\n",
              "      <td>know miss tri toothpast make other tast artifi...</td>\n",
              "      <td>0.187202</td>\n",
              "    </tr>\n",
              "  </tbody>\n",
              "</table>\n",
              "</div>"
            ],
            "text/plain": [
              "       reviewerID  ...  polarity\n",
              "0  A11LNPG39A2ZV4  ...  0.309612\n",
              "1  A1VUN4JU731CBH  ...  0.234115\n",
              "2  A2CBVSJ1OV2Q4S  ...  0.301515\n",
              "3  A34XM0ECYBB4DH  ...  0.694000\n",
              "4  A2PMRY7ADA8WJ2  ...  0.187202\n",
              "\n",
              "[5 rows x 5 columns]"
            ]
          },
          "metadata": {
            "tags": []
          },
          "execution_count": 9
        }
      ]
    },
    {
      "cell_type": "markdown",
      "metadata": {
        "id": "AnsSG0Dtd_6k"
      },
      "source": [
        "While checking the proportion of rating classes we could see that it is a highly imbalanced dataset. Therefore I will combine the rating class below 3 as Negative reviews and rating class above 3 as Positive reviews. "
      ],
      "id": "AnsSG0Dtd_6k"
    },
    {
      "cell_type": "code",
      "metadata": {
        "colab": {
          "base_uri": "https://localhost:8080/"
        },
        "id": "indie-chrome",
        "outputId": "fa5246d6-30b9-43f3-9e7c-755abacfd764"
      },
      "source": [
        "df['ratings'].value_counts(normalize=True)"
      ],
      "id": "indie-chrome",
      "execution_count": 51,
      "outputs": [
        {
          "output_type": "execute_result",
          "data": {
            "text/plain": [
              "5.0    0.647159\n",
              "4.0    0.126229\n",
              "1.0    0.093891\n",
              "3.0    0.077601\n",
              "2.0    0.055121\n",
              "Name: ratings, dtype: float64"
            ]
          },
          "metadata": {
            "tags": []
          },
          "execution_count": 51
        }
      ]
    },
    {
      "cell_type": "code",
      "metadata": {
        "id": "engaging-airplane"
      },
      "source": [
        "df_original = df.copy()"
      ],
      "id": "engaging-airplane",
      "execution_count": 52,
      "outputs": []
    },
    {
      "cell_type": "markdown",
      "metadata": {
        "id": "molecular-paragraph"
      },
      "source": [
        "# Sentiment Rating"
      ],
      "id": "molecular-paragraph"
    },
    {
      "cell_type": "code",
      "metadata": {
        "id": "progressive-delivery"
      },
      "source": [
        "#Defining positive and negative sentiment\n",
        "df['Sentiment_rating']=np.where(df.ratings>3,1,0)\n",
        "#Ignore 3 ratings\n",
        "df = df[df.ratings !=3]\n",
        "\n"
      ],
      "id": "progressive-delivery",
      "execution_count": 53,
      "outputs": []
    },
    {
      "cell_type": "code",
      "metadata": {
        "colab": {
          "base_uri": "https://localhost:8080/"
        },
        "id": "S_igekIvhwta",
        "outputId": "74cc0863-fbf4-4b9d-e7cb-a0352981f2b4"
      },
      "source": [
        "#Baseline model\n",
        "df['Sentiment_rating'].value_counts(normalize=True)"
      ],
      "id": "S_igekIvhwta",
      "execution_count": 54,
      "outputs": [
        {
          "output_type": "execute_result",
          "data": {
            "text/plain": [
              "1    0.838452\n",
              "0    0.161548\n",
              "Name: Sentiment_rating, dtype: float64"
            ]
          },
          "metadata": {
            "tags": []
          },
          "execution_count": 54
        }
      ]
    },
    {
      "cell_type": "code",
      "metadata": {
        "colab": {
          "base_uri": "https://localhost:8080/",
          "height": 674
        },
        "id": "large-brooks",
        "outputId": "971f75df-0116-4aed-a8ce-95c3a6f7e142"
      },
      "source": [
        "df"
      ],
      "id": "large-brooks",
      "execution_count": 55,
      "outputs": [
        {
          "output_type": "execute_result",
          "data": {
            "text/html": [
              "<div>\n",
              "<style scoped>\n",
              "    .dataframe tbody tr th:only-of-type {\n",
              "        vertical-align: middle;\n",
              "    }\n",
              "\n",
              "    .dataframe tbody tr th {\n",
              "        vertical-align: top;\n",
              "    }\n",
              "\n",
              "    .dataframe thead th {\n",
              "        text-align: right;\n",
              "    }\n",
              "</style>\n",
              "<table border=\"1\" class=\"dataframe\">\n",
              "  <thead>\n",
              "    <tr style=\"text-align: right;\">\n",
              "      <th></th>\n",
              "      <th>reviewerID</th>\n",
              "      <th>ratings</th>\n",
              "      <th>title</th>\n",
              "      <th>reviewcomb</th>\n",
              "      <th>clean_text</th>\n",
              "      <th>polarity</th>\n",
              "      <th>Sentiment_rating</th>\n",
              "    </tr>\n",
              "  </thead>\n",
              "  <tbody>\n",
              "    <tr>\n",
              "      <th>0</th>\n",
              "      <td>A11LNPG39A2ZV4</td>\n",
              "      <td>5.0</td>\n",
              "      <td>Marvis Jasmin Mint Toothpaste, 3.8 oz</td>\n",
              "      <td>I've been using&amp;nbsp;&lt;a data-hook=\"product-lin...</td>\n",
              "      <td>use marvi classic strong mint toothpast year r...</td>\n",
              "      <td>0.309612</td>\n",
              "      <td>1</td>\n",
              "    </tr>\n",
              "    <tr>\n",
              "      <th>1</th>\n",
              "      <td>A1VUN4JU731CBH</td>\n",
              "      <td>5.0</td>\n",
              "      <td>Marvis Jasmin Mint Toothpaste, 3.8 oz</td>\n",
              "      <td>I had seen the Marvis toothpastes before and a...</td>\n",
              "      <td>seen marvi toothpast alway wonder world anyon ...</td>\n",
              "      <td>0.234115</td>\n",
              "      <td>1</td>\n",
              "    </tr>\n",
              "    <tr>\n",
              "      <th>2</th>\n",
              "      <td>A2CBVSJ1OV2Q4S</td>\n",
              "      <td>5.0</td>\n",
              "      <td>Marvis Jasmin Mint Toothpaste, 3.8 oz</td>\n",
              "      <td>I buy the Jasmine Marvis Toothpaste because it...</td>\n",
              "      <td>buy jasmin marvi toothpast uniqu floral scent ...</td>\n",
              "      <td>0.301515</td>\n",
              "      <td>1</td>\n",
              "    </tr>\n",
              "    <tr>\n",
              "      <th>3</th>\n",
              "      <td>A34XM0ECYBB4DH</td>\n",
              "      <td>5.0</td>\n",
              "      <td>Marvis Jasmin Mint Toothpaste, 3.8 oz</td>\n",
              "      <td>This toothpaste is the best I've ever tried.  ...</td>\n",
              "      <td>toothpast best ever tri tast realli good light...</td>\n",
              "      <td>0.694000</td>\n",
              "      <td>1</td>\n",
              "    </tr>\n",
              "    <tr>\n",
              "      <th>4</th>\n",
              "      <td>A2PMRY7ADA8WJ2</td>\n",
              "      <td>5.0</td>\n",
              "      <td>Marvis Jasmin Mint Toothpaste, 3.8 oz</td>\n",
              "      <td>i didn't know what i was missing until i tried...</td>\n",
              "      <td>know miss tri toothpast make other tast artifi...</td>\n",
              "      <td>0.187202</td>\n",
              "      <td>1</td>\n",
              "    </tr>\n",
              "    <tr>\n",
              "      <th>...</th>\n",
              "      <td>...</td>\n",
              "      <td>...</td>\n",
              "      <td>...</td>\n",
              "      <td>...</td>\n",
              "      <td>...</td>\n",
              "      <td>...</td>\n",
              "      <td>...</td>\n",
              "    </tr>\n",
              "    <tr>\n",
              "      <th>464823</th>\n",
              "      <td>A3IRO9Y2W7DGXU</td>\n",
              "      <td>5.0</td>\n",
              "      <td>CND Shellac, Brick Knit</td>\n",
              "      <td>My wife bought it and loves it. She says paint...</td>\n",
              "      <td>wife bought love say paint fade last longer ev...</td>\n",
              "      <td>0.666667</td>\n",
              "      <td>1</td>\n",
              "    </tr>\n",
              "    <tr>\n",
              "      <th>464824</th>\n",
              "      <td>A2HPJMRRTYJ2M9</td>\n",
              "      <td>5.0</td>\n",
              "      <td>CND Shellac, Brick Knit</td>\n",
              "      <td>CND Shellac Power Polish is wonderful! This co...</td>\n",
              "      <td>cnd shellac power polish wonder color brick kn...</td>\n",
              "      <td>0.926667</td>\n",
              "      <td>1</td>\n",
              "    </tr>\n",
              "    <tr>\n",
              "      <th>464825</th>\n",
              "      <td>A37M9GZV5PMABX</td>\n",
              "      <td>2.0</td>\n",
              "      <td>CND Shellac, Brick Knit</td>\n",
              "      <td>the colour is too dark, Two Stars</td>\n",
              "      <td>colour dark two star</td>\n",
              "      <td>-0.150000</td>\n",
              "      <td>0</td>\n",
              "    </tr>\n",
              "    <tr>\n",
              "      <th>464827</th>\n",
              "      <td>A2VVJW6PY48A9M</td>\n",
              "      <td>5.0</td>\n",
              "      <td>CND Shellac, Brick Knit</td>\n",
              "      <td>Great product, PERFECT SHADE!!  :) Love the de...</td>\n",
              "      <td>great product perfect shade love deep red color</td>\n",
              "      <td>0.466667</td>\n",
              "      <td>1</td>\n",
              "    </tr>\n",
              "    <tr>\n",
              "      <th>464828</th>\n",
              "      <td>A23DRCOMC2RIXF</td>\n",
              "      <td>1.0</td>\n",
              "      <td>Juicy Couture I Love Juicy Couture, 1.7 fl. Oz...</td>\n",
              "      <td>The perfume is good, but the spray head broke ...</td>\n",
              "      <td>perfum good spray head broke spray head broke ...</td>\n",
              "      <td>0.700000</td>\n",
              "      <td>0</td>\n",
              "    </tr>\n",
              "  </tbody>\n",
              "</table>\n",
              "<p>428745 rows × 7 columns</p>\n",
              "</div>"
            ],
            "text/plain": [
              "            reviewerID  ratings  ...  polarity Sentiment_rating\n",
              "0       A11LNPG39A2ZV4      5.0  ...  0.309612                1\n",
              "1       A1VUN4JU731CBH      5.0  ...  0.234115                1\n",
              "2       A2CBVSJ1OV2Q4S      5.0  ...  0.301515                1\n",
              "3       A34XM0ECYBB4DH      5.0  ...  0.694000                1\n",
              "4       A2PMRY7ADA8WJ2      5.0  ...  0.187202                1\n",
              "...                ...      ...  ...       ...              ...\n",
              "464823  A3IRO9Y2W7DGXU      5.0  ...  0.666667                1\n",
              "464824  A2HPJMRRTYJ2M9      5.0  ...  0.926667                1\n",
              "464825  A37M9GZV5PMABX      2.0  ... -0.150000                0\n",
              "464827  A2VVJW6PY48A9M      5.0  ...  0.466667                1\n",
              "464828  A23DRCOMC2RIXF      1.0  ...  0.700000                0\n",
              "\n",
              "[428745 rows x 7 columns]"
            ]
          },
          "metadata": {
            "tags": []
          },
          "execution_count": 55
        }
      ]
    },
    {
      "cell_type": "markdown",
      "metadata": {
        "id": "utility-hollywood"
      },
      "source": [
        "# Modelling"
      ],
      "id": "utility-hollywood"
    },
    {
      "cell_type": "markdown",
      "metadata": {
        "id": "driven-invitation"
      },
      "source": [
        "## Binary classification"
      ],
      "id": "driven-invitation"
    },
    {
      "cell_type": "markdown",
      "metadata": {
        "id": "Y2XvVuSIir7U"
      },
      "source": [
        "Lets first define the X and y variables. Here I want to build a classifier on reviews text. As already mentioned the reviews were already cleaned, tokenized and stemmed using porter stemmer in a separate notebook. Therefore will use pipeline to vectorise the text directly and then will tune the models with different paramaters."
      ],
      "id": "Y2XvVuSIir7U"
    },
    {
      "cell_type": "markdown",
      "metadata": {
        "id": "tCag8NHVpEoU"
      },
      "source": [
        "### Countvectorizer with Logistic Regression"
      ],
      "id": "tCag8NHVpEoU"
    },
    {
      "cell_type": "markdown",
      "metadata": {
        "id": "jT0zDcValMuY"
      },
      "source": [
        "Count Vectorizer is a way to convert a given set of strings into a frequency representation. In my first classifier am using Countvectorizer with Logistic regression and have analyse the top 20 positive and negatuve words that were helpful in predicting the two classes."
      ],
      "id": "jT0zDcValMuY"
    },
    {
      "cell_type": "code",
      "metadata": {
        "id": "z_bMPXBeNftO"
      },
      "source": [
        "#Define function to evaluate model\n",
        "def eval(model):\n",
        "  metrics ={}\n",
        "  train_pred = model.predict(X_train)\n",
        "  test_pred = model.predict(X_test)\n",
        "  roc_auc_train = roc_auc_score(y_train, train_pred)\n",
        "  roc_auc_test = roc_auc_score(y_test, test_pred)\n",
        "  tn, fp, fn, tp = confusion_matrix(y_test, test_pred).ravel()\n",
        "  recall = tp/(tp + fn) #sensitivity\n",
        "  precision = tp/(tp+fp)\n",
        "  specificity = tn/(tn + fp)\n",
        "  accuracy = (tn + tp)/(tn + tp + fn + fp)\n",
        "  fpr = fp/(fp+tn)\n",
        "  \n",
        "  \n",
        "  metrics['roc_auc_train'] = roc_auc_train\n",
        "  metrics['roc_auc_test'] = roc_auc_test\n",
        "  metrics['accuracy'] = accuracy\n",
        "  metrics['precision'] = precision\n",
        "  metrics['recall'] = recall\n",
        "  metrics['specificity'] = specificity\n",
        "  metrics['FalsePos'] = fp\n",
        "  metrics['TruePos'] = tp\n",
        "  metrics['FalseNeg'] = fn\n",
        "  metrics['TrueNeg'] = tn\n",
        "  metrics['FPR'] = fpr\n",
        "  # metrics['logloss'] = log_loss(y_test, test_pred, eps=1e-15)\n",
        "  return (metrics)\n",
        "  "
      ],
      "id": "z_bMPXBeNftO",
      "execution_count": 56,
      "outputs": []
    },
    {
      "cell_type": "code",
      "metadata": {
        "id": "u8T_95L6pDiO"
      },
      "source": [
        "#Define the dependent and independent variables\n",
        "X = df['clean_text']\n",
        "y = df['Sentiment_rating']"
      ],
      "id": "u8T_95L6pDiO",
      "execution_count": null,
      "outputs": []
    },
    {
      "cell_type": "code",
      "metadata": {
        "id": "8l7FC7IWpNLN"
      },
      "source": [
        "X_train, X_test,y_train, y_test = train_test_split(X,y,stratify =y,test_size=0.2, random_state=0)"
      ],
      "id": "8l7FC7IWpNLN",
      "execution_count": null,
      "outputs": []
    },
    {
      "cell_type": "code",
      "metadata": {
        "id": "SITibWV5pNOp"
      },
      "source": [
        "pipe1 = Pipeline([\n",
        "    ('cvec', CountVectorizer(stop_words='english')),\n",
        "    ('lr', LogisticRegression(max_iter = 1000)),\n",
        "])"
      ],
      "id": "SITibWV5pNOp",
      "execution_count": null,
      "outputs": []
    },
    {
      "cell_type": "code",
      "metadata": {
        "id": "29eJHqf0pNQx"
      },
      "source": [
        "pipe_params1 = {\n",
        "    'cvec__max_features': [5000],\n",
        "    'cvec__min_df': [1,2],\n",
        "    'cvec__max_df': [0.9,0.95],\n",
        "    'cvec__ngram_range': [(1,1),(1,2)],\n",
        "}"
      ],
      "id": "29eJHqf0pNQx",
      "execution_count": null,
      "outputs": []
    },
    {
      "cell_type": "code",
      "metadata": {
        "id": "k9zEYMp8pNTa"
      },
      "source": [
        "gs1 = GridSearchCV(pipe1, \n",
        "                   param_grid=pipe_params1, scoring='recall',\n",
        "                   cv=5)"
      ],
      "id": "k9zEYMp8pNTa",
      "execution_count": null,
      "outputs": []
    },
    {
      "cell_type": "code",
      "metadata": {
        "colab": {
          "base_uri": "https://localhost:8080/"
        },
        "id": "x3VCTaa2pb4D",
        "outputId": "26b032ad-68ea-498d-849a-dd28228f5eb8"
      },
      "source": [
        "gs1.fit(X_train, y_train)"
      ],
      "id": "x3VCTaa2pb4D",
      "execution_count": null,
      "outputs": [
        {
          "output_type": "execute_result",
          "data": {
            "text/plain": [
              "GridSearchCV(cv=5, error_score=nan,\n",
              "             estimator=Pipeline(memory=None,\n",
              "                                steps=[('cvec',\n",
              "                                        CountVectorizer(analyzer='word',\n",
              "                                                        binary=False,\n",
              "                                                        decode_error='strict',\n",
              "                                                        dtype=<class 'numpy.int64'>,\n",
              "                                                        encoding='utf-8',\n",
              "                                                        input='content',\n",
              "                                                        lowercase=True,\n",
              "                                                        max_df=1.0,\n",
              "                                                        max_features=None,\n",
              "                                                        min_df=1,\n",
              "                                                        ngram_range=(1, 1),\n",
              "                                                        preprocessor=None,\n",
              "                                                        stop_words='english',\n",
              "                                                        strip_accents=None,\n",
              "                                                        token_pattern=...\n",
              "                                                           l1_ratio=None,\n",
              "                                                           max_iter=1000,\n",
              "                                                           multi_class='auto',\n",
              "                                                           n_jobs=None,\n",
              "                                                           penalty='l2',\n",
              "                                                           random_state=None,\n",
              "                                                           solver='lbfgs',\n",
              "                                                           tol=0.0001,\n",
              "                                                           verbose=0,\n",
              "                                                           warm_start=False))],\n",
              "                                verbose=False),\n",
              "             iid='deprecated', n_jobs=None,\n",
              "             param_grid={'cvec__max_features': [5000],\n",
              "                         'cvec__ngram_range': [(1, 1), (1, 2)]},\n",
              "             pre_dispatch='2*n_jobs', refit=True, return_train_score=False,\n",
              "             scoring='recall', verbose=0)"
            ]
          },
          "metadata": {
            "tags": []
          },
          "execution_count": 35
        }
      ]
    },
    {
      "cell_type": "code",
      "metadata": {
        "colab": {
          "base_uri": "https://localhost:8080/"
        },
        "id": "yVu_ywsfpb8M",
        "outputId": "b0a990d8-66b8-40ec-9b49-70e4be42b557"
      },
      "source": [
        "gs1.best_params_"
      ],
      "id": "yVu_ywsfpb8M",
      "execution_count": null,
      "outputs": [
        {
          "output_type": "execute_result",
          "data": {
            "text/plain": [
              "{'cvec__max_features': 5000, 'cvec__ngram_range': (1, 2)}"
            ]
          },
          "metadata": {
            "tags": []
          },
          "execution_count": 36
        }
      ]
    },
    {
      "cell_type": "code",
      "metadata": {
        "id": "VJETPK6epb_Q"
      },
      "source": [
        "gs_model1 = gs1.best_estimator_"
      ],
      "id": "VJETPK6epb_Q",
      "execution_count": null,
      "outputs": []
    },
    {
      "cell_type": "code",
      "metadata": {
        "colab": {
          "base_uri": "https://localhost:8080/"
        },
        "id": "h62kVsWypsUX",
        "outputId": "e7f40c0a-0e4f-4f4c-f93b-1bf8714336fd"
      },
      "source": [
        "print(gs_model1.score(X_train,y_train))\n",
        "print(gs_model1.score(X_test,y_test))"
      ],
      "id": "h62kVsWypsUX",
      "execution_count": null,
      "outputs": [
        {
          "output_type": "stream",
          "text": [
            "0.9353345228515785\n",
            "0.929865071312785\n"
          ],
          "name": "stdout"
        }
      ]
    },
    {
      "cell_type": "code",
      "metadata": {
        "colab": {
          "base_uri": "https://localhost:8080/"
        },
        "id": "7TA12XRotTRp",
        "outputId": "c3dc64d6-534f-4826-8003-fc6e99f985f4"
      },
      "source": [
        "metrics_lrcv = eval(gs_model1)\n",
        "print(metrics_lrcv)"
      ],
      "id": "7TA12XRotTRp",
      "execution_count": null,
      "outputs": [
        {
          "output_type": "stream",
          "text": [
            "{'roc_auc_train': 0.843019433830826, 'roc_auc_test': 0.8312763323300447, 'accuracy': 0.929865071312785, 'precision': 0.9416157228657228, 'recall': 0.976925002781796, 'specificity': 0.6856276618782935, 'FalsePos': 4355, 'TruePos': 70237, 'FalseNeg': 1659, 'TrueNeg': 9498, 'FPR': 0.3143723381217065}\n"
          ],
          "name": "stdout"
        }
      ]
    },
    {
      "cell_type": "code",
      "metadata": {
        "id": "9vRRZKdypsYA"
      },
      "source": [
        "y_pred = gs_model1.predict(X_test)"
      ],
      "id": "9vRRZKdypsYA",
      "execution_count": null,
      "outputs": []
    },
    {
      "cell_type": "code",
      "metadata": {
        "colab": {
          "base_uri": "https://localhost:8080/"
        },
        "id": "_RvxizFOp2Tq",
        "outputId": "09380836-6a7e-474a-ed40-8bc935edab5c"
      },
      "source": [
        "print(classification_report(y_test,y_pred))"
      ],
      "id": "_RvxizFOp2Tq",
      "execution_count": null,
      "outputs": [
        {
          "output_type": "stream",
          "text": [
            "              precision    recall  f1-score   support\n",
            "\n",
            "           0       0.85      0.69      0.76     13853\n",
            "           1       0.94      0.98      0.96     71896\n",
            "\n",
            "    accuracy                           0.93     85749\n",
            "   macro avg       0.90      0.83      0.86     85749\n",
            "weighted avg       0.93      0.93      0.93     85749\n",
            "\n"
          ],
          "name": "stdout"
        }
      ]
    },
    {
      "cell_type": "code",
      "metadata": {
        "id": "LlhDDixPp6dc"
      },
      "source": [
        "coef_names = gs1.best_estimator_.named_steps.cvec.get_feature_names()"
      ],
      "id": "LlhDDixPp6dc",
      "execution_count": null,
      "outputs": []
    },
    {
      "cell_type": "code",
      "metadata": {
        "id": "2NHqJKxsp6g2"
      },
      "source": [
        "coef_df = pd.DataFrame({'coefficients': coef_names, 'values' : gs1.best_estimator_.steps[1][1].coef_[0]})"
      ],
      "id": "2NHqJKxsp6g2",
      "execution_count": null,
      "outputs": []
    },
    {
      "cell_type": "code",
      "metadata": {
        "id": "oYRFwwL5p6jl"
      },
      "source": [
        "coef_df.sort_values(by='values',ascending=False, inplace = True)"
      ],
      "id": "oYRFwwL5p6jl",
      "execution_count": null,
      "outputs": []
    },
    {
      "cell_type": "code",
      "metadata": {
        "colab": {
          "base_uri": "https://localhost:8080/",
          "height": 648
        },
        "id": "6dQQHt5LqFwx",
        "outputId": "63a3e911-0e1a-46fe-985b-c3bbce63f418"
      },
      "source": [
        "#Top 20 positive words\n",
        "coef_df.head(20)"
      ],
      "id": "6dQQHt5LqFwx",
      "execution_count": null,
      "outputs": [
        {
          "output_type": "execute_result",
          "data": {
            "text/html": [
              "<div>\n",
              "<style scoped>\n",
              "    .dataframe tbody tr th:only-of-type {\n",
              "        vertical-align: middle;\n",
              "    }\n",
              "\n",
              "    .dataframe tbody tr th {\n",
              "        vertical-align: top;\n",
              "    }\n",
              "\n",
              "    .dataframe thead th {\n",
              "        text-align: right;\n",
              "    }\n",
              "</style>\n",
              "<table border=\"1\" class=\"dataframe\">\n",
              "  <thead>\n",
              "    <tr style=\"text-align: right;\">\n",
              "      <th></th>\n",
              "      <th>coefficients</th>\n",
              "      <th>values</th>\n",
              "    </tr>\n",
              "  </thead>\n",
              "  <tbody>\n",
              "    <tr>\n",
              "      <th>4940</th>\n",
              "      <td>worth everi</td>\n",
              "      <td>2.935364</td>\n",
              "    </tr>\n",
              "    <tr>\n",
              "      <th>1364</th>\n",
              "      <td>far good</td>\n",
              "      <td>2.851502</td>\n",
              "    </tr>\n",
              "    <tr>\n",
              "      <th>4088</th>\n",
              "      <td>sooner</td>\n",
              "      <td>2.642332</td>\n",
              "    </tr>\n",
              "    <tr>\n",
              "      <th>1093</th>\n",
              "      <td>dri minut</td>\n",
              "      <td>2.591277</td>\n",
              "    </tr>\n",
              "    <tr>\n",
              "      <th>2927</th>\n",
              "      <td>noth compar</td>\n",
              "      <td>2.473892</td>\n",
              "    </tr>\n",
              "    <tr>\n",
              "      <th>2280</th>\n",
              "      <td>let sit</td>\n",
              "      <td>2.400478</td>\n",
              "    </tr>\n",
              "    <tr>\n",
              "      <th>2031</th>\n",
              "      <td>high recommend</td>\n",
              "      <td>2.367600</td>\n",
              "    </tr>\n",
              "    <tr>\n",
              "      <th>2073</th>\n",
              "      <td>huge differ</td>\n",
              "      <td>2.315711</td>\n",
              "    </tr>\n",
              "    <tr>\n",
              "      <th>345</th>\n",
              "      <td>better expect</td>\n",
              "      <td>2.289854</td>\n",
              "    </tr>\n",
              "    <tr>\n",
              "      <th>2928</th>\n",
              "      <td>noth els</td>\n",
              "      <td>2.289124</td>\n",
              "    </tr>\n",
              "    <tr>\n",
              "      <th>1247</th>\n",
              "      <td>excel</td>\n",
              "      <td>2.234412</td>\n",
              "    </tr>\n",
              "    <tr>\n",
              "      <th>3016</th>\n",
              "      <td>outstand</td>\n",
              "      <td>2.233790</td>\n",
              "    </tr>\n",
              "    <tr>\n",
              "      <th>4960</th>\n",
              "      <td>yay</td>\n",
              "      <td>2.233724</td>\n",
              "    </tr>\n",
              "    <tr>\n",
              "      <th>779</th>\n",
              "      <td>continu buy</td>\n",
              "      <td>2.230588</td>\n",
              "    </tr>\n",
              "    <tr>\n",
              "      <th>2052</th>\n",
              "      <td>hook</td>\n",
              "      <td>2.227964</td>\n",
              "    </tr>\n",
              "    <tr>\n",
              "      <th>4991</th>\n",
              "      <td>yummi</td>\n",
              "      <td>2.204756</td>\n",
              "    </tr>\n",
              "    <tr>\n",
              "      <th>4282</th>\n",
              "      <td>superb</td>\n",
              "      <td>2.188537</td>\n",
              "    </tr>\n",
              "    <tr>\n",
              "      <th>3896</th>\n",
              "      <td>skeptic</td>\n",
              "      <td>2.174149</td>\n",
              "    </tr>\n",
              "    <tr>\n",
              "      <th>3226</th>\n",
              "      <td>pricey worth</td>\n",
              "      <td>2.158900</td>\n",
              "    </tr>\n",
              "    <tr>\n",
              "      <th>2022</th>\n",
              "      <td>hesit buy</td>\n",
              "      <td>2.142914</td>\n",
              "    </tr>\n",
              "  </tbody>\n",
              "</table>\n",
              "</div>"
            ],
            "text/plain": [
              "        coefficients    values\n",
              "4940     worth everi  2.935364\n",
              "1364        far good  2.851502\n",
              "4088          sooner  2.642332\n",
              "1093       dri minut  2.591277\n",
              "2927     noth compar  2.473892\n",
              "2280         let sit  2.400478\n",
              "2031  high recommend  2.367600\n",
              "2073     huge differ  2.315711\n",
              "345    better expect  2.289854\n",
              "2928        noth els  2.289124\n",
              "1247           excel  2.234412\n",
              "3016        outstand  2.233790\n",
              "4960             yay  2.233724\n",
              "779      continu buy  2.230588\n",
              "2052            hook  2.227964\n",
              "4991           yummi  2.204756\n",
              "4282          superb  2.188537\n",
              "3896         skeptic  2.174149\n",
              "3226    pricey worth  2.158900\n",
              "2022       hesit buy  2.142914"
            ]
          },
          "metadata": {
            "tags": []
          },
          "execution_count": 34
        }
      ]
    },
    {
      "cell_type": "code",
      "metadata": {
        "colab": {
          "base_uri": "https://localhost:8080/",
          "height": 648
        },
        "id": "e7wFbtf6p2eR",
        "outputId": "0231cc44-6634-4cac-f48c-81fc6e14985b"
      },
      "source": [
        "#top 20 negative words using countvectorizer\n",
        "coef_df.tail(20)"
      ],
      "id": "e7wFbtf6p2eR",
      "execution_count": null,
      "outputs": [
        {
          "output_type": "execute_result",
          "data": {
            "text/html": [
              "<div>\n",
              "<style scoped>\n",
              "    .dataframe tbody tr th:only-of-type {\n",
              "        vertical-align: middle;\n",
              "    }\n",
              "\n",
              "    .dataframe tbody tr th {\n",
              "        vertical-align: top;\n",
              "    }\n",
              "\n",
              "    .dataframe thead th {\n",
              "        text-align: right;\n",
              "    }\n",
              "</style>\n",
              "<table border=\"1\" class=\"dataframe\">\n",
              "  <thead>\n",
              "    <tr style=\"text-align: right;\">\n",
              "      <th></th>\n",
              "      <th>coefficients</th>\n",
              "      <th>values</th>\n",
              "    </tr>\n",
              "  </thead>\n",
              "  <tbody>\n",
              "    <tr>\n",
              "      <th>3618</th>\n",
              "      <td>return</td>\n",
              "      <td>-1.928019</td>\n",
              "    </tr>\n",
              "    <tr>\n",
              "      <th>212</th>\n",
              "      <td>aw</td>\n",
              "      <td>-1.930706</td>\n",
              "    </tr>\n",
              "    <tr>\n",
              "      <th>4560</th>\n",
              "      <td>unhappi</td>\n",
              "      <td>-1.981131</td>\n",
              "    </tr>\n",
              "    <tr>\n",
              "      <th>2183</th>\n",
              "      <td>juic beauti</td>\n",
              "      <td>-2.004747</td>\n",
              "    </tr>\n",
              "    <tr>\n",
              "      <th>3790</th>\n",
              "      <td>shame</td>\n",
              "      <td>-2.025593</td>\n",
              "    </tr>\n",
              "    <tr>\n",
              "      <th>4721</th>\n",
              "      <td>useless</td>\n",
              "      <td>-2.072251</td>\n",
              "    </tr>\n",
              "    <tr>\n",
              "      <th>4164</th>\n",
              "      <td>stay away</td>\n",
              "      <td>-2.122358</td>\n",
              "    </tr>\n",
              "    <tr>\n",
              "      <th>1032</th>\n",
              "      <td>disappoint</td>\n",
              "      <td>-2.143216</td>\n",
              "    </tr>\n",
              "    <tr>\n",
              "      <th>4936</th>\n",
              "      <td>worst</td>\n",
              "      <td>-2.185822</td>\n",
              "    </tr>\n",
              "    <tr>\n",
              "      <th>4484</th>\n",
              "      <td>trash</td>\n",
              "      <td>-2.228142</td>\n",
              "    </tr>\n",
              "    <tr>\n",
              "      <th>2918</th>\n",
              "      <td>nope</td>\n",
              "      <td>-2.240415</td>\n",
              "    </tr>\n",
              "    <tr>\n",
              "      <th>4187</th>\n",
              "      <td>stop work</td>\n",
              "      <td>-2.282027</td>\n",
              "    </tr>\n",
              "    <tr>\n",
              "      <th>4990</th>\n",
              "      <td>yuck</td>\n",
              "      <td>-2.287393</td>\n",
              "    </tr>\n",
              "    <tr>\n",
              "      <th>1045</th>\n",
              "      <td>dissapoint</td>\n",
              "      <td>-2.348967</td>\n",
              "    </tr>\n",
              "    <tr>\n",
              "      <th>1012</th>\n",
              "      <td>didnt</td>\n",
              "      <td>-2.370789</td>\n",
              "    </tr>\n",
              "    <tr>\n",
              "      <th>1052</th>\n",
              "      <td>doesnt work</td>\n",
              "      <td>-2.389270</td>\n",
              "    </tr>\n",
              "    <tr>\n",
              "      <th>2028</th>\n",
              "      <td>high hope</td>\n",
              "      <td>-2.399491</td>\n",
              "    </tr>\n",
              "    <tr>\n",
              "      <th>2713</th>\n",
              "      <td>meh</td>\n",
              "      <td>-2.914227</td>\n",
              "    </tr>\n",
              "    <tr>\n",
              "      <th>4948</th>\n",
              "      <td>worthless</td>\n",
              "      <td>-2.936148</td>\n",
              "    </tr>\n",
              "    <tr>\n",
              "      <th>4765</th>\n",
              "      <td>want love</td>\n",
              "      <td>-3.303332</td>\n",
              "    </tr>\n",
              "  </tbody>\n",
              "</table>\n",
              "</div>"
            ],
            "text/plain": [
              "     coefficients    values\n",
              "3618       return -1.928019\n",
              "212            aw -1.930706\n",
              "4560      unhappi -1.981131\n",
              "2183  juic beauti -2.004747\n",
              "3790        shame -2.025593\n",
              "4721      useless -2.072251\n",
              "4164    stay away -2.122358\n",
              "1032   disappoint -2.143216\n",
              "4936        worst -2.185822\n",
              "4484        trash -2.228142\n",
              "2918         nope -2.240415\n",
              "4187    stop work -2.282027\n",
              "4990         yuck -2.287393\n",
              "1045   dissapoint -2.348967\n",
              "1012        didnt -2.370789\n",
              "1052  doesnt work -2.389270\n",
              "2028    high hope -2.399491\n",
              "2713          meh -2.914227\n",
              "4948    worthless -2.936148\n",
              "4765    want love -3.303332"
            ]
          },
          "metadata": {
            "tags": []
          },
          "execution_count": 35
        }
      ]
    },
    {
      "cell_type": "code",
      "metadata": {
        "colab": {
          "base_uri": "https://localhost:8080/",
          "height": 388
        },
        "id": "HUFH618EpNY2",
        "outputId": "92c6503a-d3ba-40ca-d067-561d7378de3e"
      },
      "source": [
        "fig, ax = plt.subplots(figsize=(8, 6))\n",
        "lr_cvec = plot_roc_curve(gs1, X_test, y_test, ax=ax)"
      ],
      "id": "HUFH618EpNY2",
      "execution_count": null,
      "outputs": [
        {
          "output_type": "display_data",
          "data": {
            "image/png": "[encoded data removed]",
            "text/plain": [
              "<Figure size 576x432 with 1 Axes>"
            ]
          },
          "metadata": {
            "tags": []
          }
        }
      ]
    },
    {
      "cell_type": "markdown",
      "metadata": {
        "id": "8wGl_7qAfATe"
      },
      "source": [
        "Some of the ngrams doesn't make any sense such as 'dri minut' , 'noth compar', 'let sit' , 'noth els' and 'juic beauti'. Therfore will use TFIDF in the next section which is better than countvectorizer."
      ],
      "id": "8wGl_7qAfATe"
    },
    {
      "cell_type": "markdown",
      "metadata": {
        "id": "solved-breakdown"
      },
      "source": [
        "### Tfidf with Logistic Regression"
      ],
      "id": "solved-breakdown"
    },
    {
      "cell_type": "markdown",
      "metadata": {
        "id": "Fe8pQRSYlWss"
      },
      "source": [
        "TF-IDF is better than Count Vectorizers because it not only focuses on the frequency of words present in the corpus but also provides the importance of the words"
      ],
      "id": "Fe8pQRSYlWss"
    },
    {
      "cell_type": "code",
      "metadata": {
        "id": "abroad-differential"
      },
      "source": [
        "X = df['clean_text']\n",
        "y = df['Sentiment_rating']"
      ],
      "id": "abroad-differential",
      "execution_count": 15,
      "outputs": []
    },
    {
      "cell_type": "code",
      "metadata": {
        "colab": {
          "base_uri": "https://localhost:8080/"
        },
        "id": "limiting-pillow",
        "outputId": "ff273fb7-0dff-4b82-b1c4-9dc62ac1a000"
      },
      "source": [
        "X.shape,y.shape"
      ],
      "id": "limiting-pillow",
      "execution_count": 16,
      "outputs": [
        {
          "output_type": "execute_result",
          "data": {
            "text/plain": [
              "((428745,), (428745,))"
            ]
          },
          "metadata": {
            "tags": []
          },
          "execution_count": 16
        }
      ]
    },
    {
      "cell_type": "code",
      "metadata": {
        "id": "governing-complex"
      },
      "source": [
        "X_train, X_test,y_train, y_test = train_test_split(X,y,stratify =y,test_size=0.2, random_state=0)"
      ],
      "id": "governing-complex",
      "execution_count": 17,
      "outputs": []
    },
    {
      "cell_type": "code",
      "metadata": {
        "colab": {
          "base_uri": "https://localhost:8080/"
        },
        "id": "h6FNFBUBbfju",
        "outputId": "bbeaf6f7-ac4b-46cf-f881-725babea5641"
      },
      "source": [
        "X_train.shape, y_train.shape"
      ],
      "id": "h6FNFBUBbfju",
      "execution_count": 18,
      "outputs": [
        {
          "output_type": "execute_result",
          "data": {
            "text/plain": [
              "((342996,), (342996,))"
            ]
          },
          "metadata": {
            "tags": []
          },
          "execution_count": 18
        }
      ]
    },
    {
      "cell_type": "code",
      "metadata": {
        "id": "gv8Id8jFXc_g"
      },
      "source": [
        "pipe2 = Pipeline([\n",
        "    ('tvec', TfidfVectorizer(stop_words='english')),\n",
        "    ('lr', LogisticRegression(max_iter = 1000)),\n",
        "])"
      ],
      "id": "gv8Id8jFXc_g",
      "execution_count": 19,
      "outputs": []
    },
    {
      "cell_type": "code",
      "metadata": {
        "id": "RiQom92zXlh5"
      },
      "source": [
        "pipe_params2 = {\n",
        "    'tvec__max_features': [1000,5000],\n",
        "#     'tvec__min_df': [1,2, 3],\n",
        "#     'tvec__max_df': [0.7,0.8, 0.85, 0.90],\n",
        "    'tvec__ngram_range': [(1,1),(1, 2)],\n",
        "    # 'lr__max_iter': [100,300]\n",
        "}"
      ],
      "id": "RiQom92zXlh5",
      "execution_count": 20,
      "outputs": []
    },
    {
      "cell_type": "code",
      "metadata": {
        "id": "69qaGwpEXqOi"
      },
      "source": [
        "gs2 = GridSearchCV(pipe2, \n",
        "                   param_grid=pipe_params2, \n",
        "                   cv=5)\n"
      ],
      "id": "69qaGwpEXqOi",
      "execution_count": 21,
      "outputs": []
    },
    {
      "cell_type": "code",
      "metadata": {
        "colab": {
          "base_uri": "https://localhost:8080/"
        },
        "id": "v1FRmuqyXwLa",
        "outputId": "4afa8504-7028-4fc2-f176-194ae462b817"
      },
      "source": [
        "gs2.fit(X_train, y_train)"
      ],
      "id": "v1FRmuqyXwLa",
      "execution_count": 22,
      "outputs": [
        {
          "output_type": "execute_result",
          "data": {
            "text/plain": [
              "GridSearchCV(cv=5, error_score=nan,\n",
              "             estimator=Pipeline(memory=None,\n",
              "                                steps=[('tvec',\n",
              "                                        TfidfVectorizer(analyzer='word',\n",
              "                                                        binary=False,\n",
              "                                                        decode_error='strict',\n",
              "                                                        dtype=<class 'numpy.float64'>,\n",
              "                                                        encoding='utf-8',\n",
              "                                                        input='content',\n",
              "                                                        lowercase=True,\n",
              "                                                        max_df=1.0,\n",
              "                                                        max_features=None,\n",
              "                                                        min_df=1,\n",
              "                                                        ngram_range=(1, 1),\n",
              "                                                        norm='l2',\n",
              "                                                        preprocessor=None,\n",
              "                                                        smooth_idf=True,\n",
              "                                                        stop_words='english',\n",
              "                                                        strip...\n",
              "                                                           l1_ratio=None,\n",
              "                                                           max_iter=1000,\n",
              "                                                           multi_class='auto',\n",
              "                                                           n_jobs=None,\n",
              "                                                           penalty='l2',\n",
              "                                                           random_state=None,\n",
              "                                                           solver='lbfgs',\n",
              "                                                           tol=0.0001,\n",
              "                                                           verbose=0,\n",
              "                                                           warm_start=False))],\n",
              "                                verbose=False),\n",
              "             iid='deprecated', n_jobs=None,\n",
              "             param_grid={'tvec__max_features': [1000, 5000],\n",
              "                         'tvec__ngram_range': [(1, 1), (1, 2)]},\n",
              "             pre_dispatch='2*n_jobs', refit=True, return_train_score=False,\n",
              "             scoring=None, verbose=0)"
            ]
          },
          "metadata": {
            "tags": []
          },
          "execution_count": 22
        }
      ]
    },
    {
      "cell_type": "code",
      "metadata": {
        "colab": {
          "base_uri": "https://localhost:8080/"
        },
        "id": "kYPRwU21X6wa",
        "outputId": "7ee88fcc-c103-419f-aaa9-472633abc8bf"
      },
      "source": [
        "gs2.best_params_"
      ],
      "id": "kYPRwU21X6wa",
      "execution_count": 23,
      "outputs": [
        {
          "output_type": "execute_result",
          "data": {
            "text/plain": [
              "{'tvec__max_features': 5000, 'tvec__ngram_range': (1, 2)}"
            ]
          },
          "metadata": {
            "tags": []
          },
          "execution_count": 23
        }
      ]
    },
    {
      "cell_type": "code",
      "metadata": {
        "id": "17BuuwWpjQq3"
      },
      "source": [
        "gs_model2 = gs2.best_estimator_"
      ],
      "id": "17BuuwWpjQq3",
      "execution_count": 24,
      "outputs": []
    },
    {
      "cell_type": "code",
      "metadata": {
        "colab": {
          "base_uri": "https://localhost:8080/"
        },
        "id": "SkXjeC4QjQ2P",
        "outputId": "63e6cc11-6f55-43be-b28b-5c1e2e867b17"
      },
      "source": [
        "print(gs_model2.score(X_train,y_train))\n",
        "print(gs_model2.score(X_test,y_test))"
      ],
      "id": "SkXjeC4QjQ2P",
      "execution_count": 25,
      "outputs": [
        {
          "output_type": "stream",
          "text": [
            "0.9369059697489184\n",
            "0.9334336260481172\n"
          ],
          "name": "stdout"
        }
      ]
    },
    {
      "cell_type": "code",
      "metadata": {
        "colab": {
          "base_uri": "https://localhost:8080/"
        },
        "id": "PhqcMC0jx7pS",
        "outputId": "625b7215-8544-4e5f-952c-3f2288e21a6b"
      },
      "source": [
        "metrics_lrtf = eval(gs_model2)\n",
        "print(metrics_lrtf)"
      ],
      "id": "PhqcMC0jx7pS",
      "execution_count": 28,
      "outputs": [
        {
          "output_type": "stream",
          "text": [
            "{'roc_auc_train': 0.8488448010058495, 'roc_auc_test': 0.841213597962282, 'accuracy': 0.9334336260481172, 'precision': 0.9450391328904548, 'recall': 0.9774535440080115, 'specificity': 0.7049736519165524, 'FalsePos': 4087, 'TruePos': 70275, 'FalseNeg': 1621, 'TrueNeg': 9766, 'FPR': 0.29502634808344763}\n"
          ],
          "name": "stdout"
        }
      ]
    },
    {
      "cell_type": "code",
      "metadata": {
        "id": "w2haACWyjQ-I"
      },
      "source": [
        "y_pred = gs_model2.predict(X_test)"
      ],
      "id": "w2haACWyjQ-I",
      "execution_count": 29,
      "outputs": []
    },
    {
      "cell_type": "code",
      "metadata": {
        "colab": {
          "base_uri": "https://localhost:8080/"
        },
        "id": "pBR0CQlvjghn",
        "outputId": "efaffa38-bdf3-4950-f24a-301b60c51892"
      },
      "source": [
        "print(classification_report(y_test,y_pred))"
      ],
      "id": "pBR0CQlvjghn",
      "execution_count": 30,
      "outputs": [
        {
          "output_type": "stream",
          "text": [
            "              precision    recall  f1-score   support\n",
            "\n",
            "           0       0.86      0.70      0.77     13853\n",
            "           1       0.95      0.98      0.96     71896\n",
            "\n",
            "    accuracy                           0.93     85749\n",
            "   macro avg       0.90      0.84      0.87     85749\n",
            "weighted avg       0.93      0.93      0.93     85749\n",
            "\n"
          ],
          "name": "stdout"
        }
      ]
    },
    {
      "cell_type": "code",
      "metadata": {
        "id": "cexAk9jojglD"
      },
      "source": [
        "coef_names = gs2.best_estimator_.named_steps.tvec.get_feature_names()"
      ],
      "id": "cexAk9jojglD",
      "execution_count": 31,
      "outputs": []
    },
    {
      "cell_type": "code",
      "metadata": {
        "id": "2EUZRveWjgoY"
      },
      "source": [
        "coef_df = pd.DataFrame({'coefficients': coef_names, 'values' : gs2.best_estimator_.steps[1][1].coef_[0]})"
      ],
      "id": "2EUZRveWjgoY",
      "execution_count": 32,
      "outputs": []
    },
    {
      "cell_type": "code",
      "metadata": {
        "id": "3vtwsj0XmRGL"
      },
      "source": [
        "coef_df.sort_values(by='values',ascending=False, inplace = True)"
      ],
      "id": "3vtwsj0XmRGL",
      "execution_count": 33,
      "outputs": []
    },
    {
      "cell_type": "code",
      "metadata": {
        "colab": {
          "base_uri": "https://localhost:8080/",
          "height": 669
        },
        "id": "03YqUgogmRJj",
        "outputId": "851f3e89-c312-4b3a-b79b-fc62fee8ae67"
      },
      "source": [
        "coef_df.head(20)"
      ],
      "id": "03YqUgogmRJj",
      "execution_count": 34,
      "outputs": [
        {
          "output_type": "execute_result",
          "data": {
            "text/html": [
              "<div>\n",
              "<style scoped>\n",
              "    .dataframe tbody tr th:only-of-type {\n",
              "        vertical-align: middle;\n",
              "    }\n",
              "\n",
              "    .dataframe tbody tr th {\n",
              "        vertical-align: top;\n",
              "    }\n",
              "\n",
              "    .dataframe thead th {\n",
              "        text-align: right;\n",
              "    }\n",
              "</style>\n",
              "<table border=\"1\" class=\"dataframe\">\n",
              "  <thead>\n",
              "    <tr style=\"text-align: right;\">\n",
              "      <th></th>\n",
              "      <th>coefficients</th>\n",
              "      <th>values</th>\n",
              "    </tr>\n",
              "  </thead>\n",
              "  <tbody>\n",
              "    <tr>\n",
              "      <th>2513</th>\n",
              "      <td>love</td>\n",
              "      <td>13.413580</td>\n",
              "    </tr>\n",
              "    <tr>\n",
              "      <th>296</th>\n",
              "      <td>best</td>\n",
              "      <td>12.909326</td>\n",
              "    </tr>\n",
              "    <tr>\n",
              "      <th>1694</th>\n",
              "      <td>great</td>\n",
              "      <td>11.856847</td>\n",
              "    </tr>\n",
              "    <tr>\n",
              "      <th>101</th>\n",
              "      <td>amaz</td>\n",
              "      <td>9.855198</td>\n",
              "    </tr>\n",
              "    <tr>\n",
              "      <th>3079</th>\n",
              "      <td>perfect</td>\n",
              "      <td>9.672611</td>\n",
              "    </tr>\n",
              "    <tr>\n",
              "      <th>1247</th>\n",
              "      <td>excel</td>\n",
              "      <td>9.071576</td>\n",
              "    </tr>\n",
              "    <tr>\n",
              "      <th>2031</th>\n",
              "      <td>high recommend</td>\n",
              "      <td>8.684857</td>\n",
              "    </tr>\n",
              "    <tr>\n",
              "      <th>216</th>\n",
              "      <td>awesom</td>\n",
              "      <td>8.050686</td>\n",
              "    </tr>\n",
              "    <tr>\n",
              "      <th>2882</th>\n",
              "      <td>nice</td>\n",
              "      <td>7.072942</td>\n",
              "    </tr>\n",
              "    <tr>\n",
              "      <th>1381</th>\n",
              "      <td>favorit</td>\n",
              "      <td>6.967485</td>\n",
              "    </tr>\n",
              "    <tr>\n",
              "      <th>1358</th>\n",
              "      <td>fantast</td>\n",
              "      <td>6.956243</td>\n",
              "    </tr>\n",
              "    <tr>\n",
              "      <th>4882</th>\n",
              "      <td>wonder</td>\n",
              "      <td>6.254188</td>\n",
              "    </tr>\n",
              "    <tr>\n",
              "      <th>744</th>\n",
              "      <td>compliment</td>\n",
              "      <td>6.210295</td>\n",
              "    </tr>\n",
              "    <tr>\n",
              "      <th>3896</th>\n",
              "      <td>skeptic</td>\n",
              "      <td>5.331077</td>\n",
              "    </tr>\n",
              "    <tr>\n",
              "      <th>737</th>\n",
              "      <td>complaint</td>\n",
              "      <td>5.129583</td>\n",
              "    </tr>\n",
              "    <tr>\n",
              "      <th>1751</th>\n",
              "      <td>great product</td>\n",
              "      <td>5.024038</td>\n",
              "    </tr>\n",
              "    <tr>\n",
              "      <th>1141</th>\n",
              "      <td>easi</td>\n",
              "      <td>4.954381</td>\n",
              "    </tr>\n",
              "    <tr>\n",
              "      <th>1588</th>\n",
              "      <td>glad</td>\n",
              "      <td>4.935129</td>\n",
              "    </tr>\n",
              "    <tr>\n",
              "      <th>3561</th>\n",
              "      <td>refresh</td>\n",
              "      <td>4.922100</td>\n",
              "    </tr>\n",
              "    <tr>\n",
              "      <th>1303</th>\n",
              "      <td>fabul</td>\n",
              "      <td>4.855420</td>\n",
              "    </tr>\n",
              "  </tbody>\n",
              "</table>\n",
              "</div>"
            ],
            "text/plain": [
              "        coefficients     values\n",
              "2513            love  13.413580\n",
              "296             best  12.909326\n",
              "1694           great  11.856847\n",
              "101             amaz   9.855198\n",
              "3079         perfect   9.672611\n",
              "1247           excel   9.071576\n",
              "2031  high recommend   8.684857\n",
              "216           awesom   8.050686\n",
              "2882            nice   7.072942\n",
              "1381         favorit   6.967485\n",
              "1358         fantast   6.956243\n",
              "4882          wonder   6.254188\n",
              "744       compliment   6.210295\n",
              "3896         skeptic   5.331077\n",
              "737        complaint   5.129583\n",
              "1751   great product   5.024038\n",
              "1141            easi   4.954381\n",
              "1588            glad   4.935129\n",
              "3561         refresh   4.922100\n",
              "1303           fabul   4.855420"
            ]
          },
          "metadata": {
            "tags": []
          },
          "execution_count": 34
        }
      ]
    },
    {
      "cell_type": "code",
      "metadata": {
        "colab": {
          "base_uri": "https://localhost:8080/",
          "height": 669
        },
        "id": "C8vq2DwQmRMo",
        "outputId": "164d0f64-d86e-419f-8262-18e8474c004a"
      },
      "source": [
        "coef_df.tail(20)"
      ],
      "id": "C8vq2DwQmRMo",
      "execution_count": 35,
      "outputs": [
        {
          "output_type": "execute_result",
          "data": {
            "text/html": [
              "<div>\n",
              "<style scoped>\n",
              "    .dataframe tbody tr th:only-of-type {\n",
              "        vertical-align: middle;\n",
              "    }\n",
              "\n",
              "    .dataframe tbody tr th {\n",
              "        vertical-align: top;\n",
              "    }\n",
              "\n",
              "    .dataframe thead th {\n",
              "        text-align: right;\n",
              "    }\n",
              "</style>\n",
              "<table border=\"1\" class=\"dataframe\">\n",
              "  <thead>\n",
              "    <tr style=\"text-align: right;\">\n",
              "      <th></th>\n",
              "      <th>coefficients</th>\n",
              "      <th>values</th>\n",
              "    </tr>\n",
              "  </thead>\n",
              "  <tbody>\n",
              "    <tr>\n",
              "      <th>1045</th>\n",
              "      <td>dissapoint</td>\n",
              "      <td>-4.849821</td>\n",
              "    </tr>\n",
              "    <tr>\n",
              "      <th>1012</th>\n",
              "      <td>didnt</td>\n",
              "      <td>-4.900981</td>\n",
              "    </tr>\n",
              "    <tr>\n",
              "      <th>3562</th>\n",
              "      <td>refund</td>\n",
              "      <td>-5.049060</td>\n",
              "    </tr>\n",
              "    <tr>\n",
              "      <th>2918</th>\n",
              "      <td>nope</td>\n",
              "      <td>-5.235527</td>\n",
              "    </tr>\n",
              "    <tr>\n",
              "      <th>3162</th>\n",
              "      <td>poor</td>\n",
              "      <td>-5.595074</td>\n",
              "    </tr>\n",
              "    <tr>\n",
              "      <th>4935</th>\n",
              "      <td>wors</td>\n",
              "      <td>-5.659150</td>\n",
              "    </tr>\n",
              "    <tr>\n",
              "      <th>4783</th>\n",
              "      <td>wast money</td>\n",
              "      <td>-5.670086</td>\n",
              "    </tr>\n",
              "    <tr>\n",
              "      <th>4721</th>\n",
              "      <td>useless</td>\n",
              "      <td>-5.828539</td>\n",
              "    </tr>\n",
              "    <tr>\n",
              "      <th>480</th>\n",
              "      <td>broke</td>\n",
              "      <td>-6.015880</td>\n",
              "    </tr>\n",
              "    <tr>\n",
              "      <th>2713</th>\n",
              "      <td>meh</td>\n",
              "      <td>-6.109452</td>\n",
              "    </tr>\n",
              "    <tr>\n",
              "      <th>4559</th>\n",
              "      <td>unfortun</td>\n",
              "      <td>-6.116301</td>\n",
              "    </tr>\n",
              "    <tr>\n",
              "      <th>212</th>\n",
              "      <td>aw</td>\n",
              "      <td>-6.219133</td>\n",
              "    </tr>\n",
              "    <tr>\n",
              "      <th>2028</th>\n",
              "      <td>high hope</td>\n",
              "      <td>-6.310818</td>\n",
              "    </tr>\n",
              "    <tr>\n",
              "      <th>4187</th>\n",
              "      <td>stop work</td>\n",
              "      <td>-6.383308</td>\n",
              "    </tr>\n",
              "    <tr>\n",
              "      <th>4347</th>\n",
              "      <td>terribl</td>\n",
              "      <td>-6.406239</td>\n",
              "    </tr>\n",
              "    <tr>\n",
              "      <th>2058</th>\n",
              "      <td>horribl</td>\n",
              "      <td>-6.448552</td>\n",
              "    </tr>\n",
              "    <tr>\n",
              "      <th>4936</th>\n",
              "      <td>worst</td>\n",
              "      <td>-7.137615</td>\n",
              "    </tr>\n",
              "    <tr>\n",
              "      <th>4765</th>\n",
              "      <td>want love</td>\n",
              "      <td>-7.411014</td>\n",
              "    </tr>\n",
              "    <tr>\n",
              "      <th>3618</th>\n",
              "      <td>return</td>\n",
              "      <td>-8.690768</td>\n",
              "    </tr>\n",
              "    <tr>\n",
              "      <th>1032</th>\n",
              "      <td>disappoint</td>\n",
              "      <td>-9.550414</td>\n",
              "    </tr>\n",
              "  </tbody>\n",
              "</table>\n",
              "</div>"
            ],
            "text/plain": [
              "     coefficients    values\n",
              "1045   dissapoint -4.849821\n",
              "1012        didnt -4.900981\n",
              "3562       refund -5.049060\n",
              "2918         nope -5.235527\n",
              "3162         poor -5.595074\n",
              "4935         wors -5.659150\n",
              "4783   wast money -5.670086\n",
              "4721      useless -5.828539\n",
              "480         broke -6.015880\n",
              "2713          meh -6.109452\n",
              "4559     unfortun -6.116301\n",
              "212            aw -6.219133\n",
              "2028    high hope -6.310818\n",
              "4187    stop work -6.383308\n",
              "4347      terribl -6.406239\n",
              "2058      horribl -6.448552\n",
              "4936        worst -7.137615\n",
              "4765    want love -7.411014\n",
              "3618       return -8.690768\n",
              "1032   disappoint -9.550414"
            ]
          },
          "metadata": {
            "tags": []
          },
          "execution_count": 35
        }
      ]
    },
    {
      "cell_type": "code",
      "metadata": {
        "colab": {
          "base_uri": "https://localhost:8080/",
          "height": 388
        },
        "id": "dt-iAz32mRUk",
        "outputId": "feba44c0-8a50-4c7c-f8fa-eccb6d8914e5"
      },
      "source": [
        "fig, ax = plt.subplots(figsize=(8, 6))\n",
        "lr_tf = plot_roc_curve(gs2, X_test, y_test, ax=ax)"
      ],
      "id": "dt-iAz32mRUk",
      "execution_count": 36,
      "outputs": [
        {
          "output_type": "display_data",
          "data": {
            "image/png": "[encoded data removed]",
            "text/plain": [
              "<Figure size 576x432 with 1 Axes>"
            ]
          },
          "metadata": {
            "tags": [],
            "needs_background": "light"
          }
        }
      ]
    },
    {
      "cell_type": "code",
      "metadata": {
        "id": "applicable-headset",
        "colab": {
          "base_uri": "https://localhost:8080/",
          "height": 410
        },
        "outputId": "b6b92ad7-c823-4408-daae-b1655ef21013"
      },
      "source": [
        "coef_df['abs_values'] = abs(coef_df['values'])\n",
        "coef_df.head(15).plot(kind = 'barh', x = 'coefficients', y = 'abs_values', \n",
        "                      fontsize = 12, figsize = (10, 6), title = 'Top Positive Words')\n"
      ],
      "id": "applicable-headset",
      "execution_count": null,
      "outputs": [
        {
          "output_type": "execute_result",
          "data": {
            "text/plain": [
              "<matplotlib.axes._subplots.AxesSubplot at 0x7fdd54d880d0>"
            ]
          },
          "metadata": {
            "tags": []
          },
          "execution_count": 77
        },
        {
          "output_type": "display_data",
          "data": {
            "image/png": "[encoded data removed]",
            "text/plain": [
              "<Figure size 720x432 with 1 Axes>"
            ]
          },
          "metadata": {
            "tags": [],
            "needs_background": "light"
          }
        }
      ]
    },
    {
      "cell_type": "code",
      "metadata": {
        "colab": {
          "base_uri": "https://localhost:8080/",
          "height": 410
        },
        "id": "WtG8oxdPPLB8",
        "outputId": "76226e4a-0489-4211-906e-233d076ade0a"
      },
      "source": [
        "coef_df['abs_values'] = abs(coef_df['values'])\n",
        "coef_df.tail(15).plot(kind = 'barh', x = 'coefficients', y = 'abs_values', \n",
        "                      fontsize = 12, figsize = (10, 6), title = 'Top Negative Words')\n"
      ],
      "id": "WtG8oxdPPLB8",
      "execution_count": null,
      "outputs": [
        {
          "output_type": "execute_result",
          "data": {
            "text/plain": [
              "<matplotlib.axes._subplots.AxesSubplot at 0x7fdd46b292d0>"
            ]
          },
          "metadata": {
            "tags": []
          },
          "execution_count": 78
        },
        {
          "output_type": "display_data",
          "data": {
            "image/png": "[encoded data removed]",
            "text/plain": [
              "<Figure size 720x432 with 1 Axes>"
            ]
          },
          "metadata": {
            "tags": [],
            "needs_background": "light"
          }
        }
      ]
    },
    {
      "cell_type": "code",
      "metadata": {
        "colab": {
          "base_uri": "https://localhost:8080/",
          "height": 111
        },
        "id": "LPGhzOPOyJOP",
        "outputId": "516266a9-e5e8-40d2-ba54-e56b0e3e8006"
      },
      "source": [
        "cm = confusion_matrix(y_test, y_pred)\n",
        "cm_df = pd.DataFrame(data=cm, columns=['predicted neg', 'predicted pos'], index=['actual neg', 'actual pos'])\n",
        "cm_df"
      ],
      "id": "LPGhzOPOyJOP",
      "execution_count": 89,
      "outputs": [
        {
          "output_type": "execute_result",
          "data": {
            "text/html": [
              "<div>\n",
              "<style scoped>\n",
              "    .dataframe tbody tr th:only-of-type {\n",
              "        vertical-align: middle;\n",
              "    }\n",
              "\n",
              "    .dataframe tbody tr th {\n",
              "        vertical-align: top;\n",
              "    }\n",
              "\n",
              "    .dataframe thead th {\n",
              "        text-align: right;\n",
              "    }\n",
              "</style>\n",
              "<table border=\"1\" class=\"dataframe\">\n",
              "  <thead>\n",
              "    <tr style=\"text-align: right;\">\n",
              "      <th></th>\n",
              "      <th>predicted neg</th>\n",
              "      <th>predicted pos</th>\n",
              "    </tr>\n",
              "  </thead>\n",
              "  <tbody>\n",
              "    <tr>\n",
              "      <th>actual neg</th>\n",
              "      <td>9766</td>\n",
              "      <td>4087</td>\n",
              "    </tr>\n",
              "    <tr>\n",
              "      <th>actual pos</th>\n",
              "      <td>1621</td>\n",
              "      <td>70275</td>\n",
              "    </tr>\n",
              "  </tbody>\n",
              "</table>\n",
              "</div>"
            ],
            "text/plain": [
              "            predicted neg  predicted pos\n",
              "actual neg           9766           4087\n",
              "actual pos           1621          70275"
            ]
          },
          "metadata": {
            "tags": []
          },
          "execution_count": 89
        }
      ]
    },
    {
      "cell_type": "markdown",
      "metadata": {
        "id": "swiss-september"
      },
      "source": [
        "### Multinomial Naive Bayes"
      ],
      "id": "swiss-september"
    },
    {
      "cell_type": "code",
      "metadata": {
        "id": "premium-literacy"
      },
      "source": [
        "X = df['clean_text']\n",
        "y = df['Sentiment_rating']"
      ],
      "id": "premium-literacy",
      "execution_count": null,
      "outputs": []
    },
    {
      "cell_type": "code",
      "metadata": {
        "id": "critical-editor"
      },
      "source": [
        "X_train, X_test,y_train, y_test = train_test_split(X,y,test_size=0.2,stratify = y, random_state=0)"
      ],
      "id": "critical-editor",
      "execution_count": null,
      "outputs": []
    },
    {
      "cell_type": "code",
      "metadata": {
        "id": "superior-access"
      },
      "source": [
        "pipe3 = Pipeline([\n",
        "    ('tvec', TfidfVectorizer(stop_words='english')),\n",
        "    ('nb', MultinomialNB()),\n",
        "])"
      ],
      "id": "superior-access",
      "execution_count": null,
      "outputs": []
    },
    {
      "cell_type": "code",
      "metadata": {
        "id": "virtual-accuracy"
      },
      "source": [
        "pipe_params3 = {\n",
        "    'tvec__max_features': [5000],\n",
        "#     'tvec__min_df': [1,2, 3],\n",
        "#     'tvec__max_df': [0.7,0.8, 0.85, 0.90],\n",
        "    'tvec__ngram_range': [(1,1),(1, 2)],\n",
        "}"
      ],
      "id": "virtual-accuracy",
      "execution_count": null,
      "outputs": []
    },
    {
      "cell_type": "code",
      "metadata": {
        "id": "interesting-potter"
      },
      "source": [
        "gs3 = GridSearchCV(pipe3, \n",
        "                   param_grid=pipe_params3, \n",
        "                   cv=5)"
      ],
      "id": "interesting-potter",
      "execution_count": null,
      "outputs": []
    },
    {
      "cell_type": "code",
      "metadata": {
        "colab": {
          "base_uri": "https://localhost:8080/"
        },
        "id": "timely-father",
        "outputId": "531565ba-15f6-4b65-d84a-a031d55ba2cf"
      },
      "source": [
        "gs3.fit(X_train, y_train)"
      ],
      "id": "timely-father",
      "execution_count": null,
      "outputs": [
        {
          "output_type": "execute_result",
          "data": {
            "text/plain": [
              "GridSearchCV(cv=5, error_score=nan,\n",
              "             estimator=Pipeline(memory=None,\n",
              "                                steps=[('tvec',\n",
              "                                        TfidfVectorizer(analyzer='word',\n",
              "                                                        binary=False,\n",
              "                                                        decode_error='strict',\n",
              "                                                        dtype=<class 'numpy.float64'>,\n",
              "                                                        encoding='utf-8',\n",
              "                                                        input='content',\n",
              "                                                        lowercase=True,\n",
              "                                                        max_df=1.0,\n",
              "                                                        max_features=None,\n",
              "                                                        min_df=1,\n",
              "                                                        ngram_range=(1, 1),\n",
              "                                                        norm='l2',\n",
              "                                                        preprocessor=None,\n",
              "                                                        smooth_idf=True,\n",
              "                                                        stop_words='english',\n",
              "                                                        strip...\n",
              "                                                        sublinear_tf=False,\n",
              "                                                        token_pattern='(?u)\\\\b\\\\w\\\\w+\\\\b',\n",
              "                                                        tokenizer=None,\n",
              "                                                        use_idf=True,\n",
              "                                                        vocabulary=None)),\n",
              "                                       ('nb',\n",
              "                                        MultinomialNB(alpha=1.0,\n",
              "                                                      class_prior=None,\n",
              "                                                      fit_prior=True))],\n",
              "                                verbose=False),\n",
              "             iid='deprecated', n_jobs=None,\n",
              "             param_grid={'tvec__max_features': [5000],\n",
              "                         'tvec__ngram_range': [(1, 1), (1, 2)]},\n",
              "             pre_dispatch='2*n_jobs', refit=True, return_train_score=False,\n",
              "             scoring=None, verbose=0)"
            ]
          },
          "metadata": {
            "tags": []
          },
          "execution_count": 169
        }
      ]
    },
    {
      "cell_type": "code",
      "metadata": {
        "colab": {
          "base_uri": "https://localhost:8080/"
        },
        "id": "russian-patio",
        "outputId": "233f028a-1fc0-4168-a5e6-7b4aa70e29f8"
      },
      "source": [
        "gs3.best_params_"
      ],
      "id": "russian-patio",
      "execution_count": null,
      "outputs": [
        {
          "output_type": "execute_result",
          "data": {
            "text/plain": [
              "{'tvec__max_features': 5000, 'tvec__ngram_range': (1, 2)}"
            ]
          },
          "metadata": {
            "tags": []
          },
          "execution_count": 170
        }
      ]
    },
    {
      "cell_type": "code",
      "metadata": {
        "id": "injured-latitude"
      },
      "source": [
        "gs_model3 = gs3.best_estimator_"
      ],
      "id": "injured-latitude",
      "execution_count": null,
      "outputs": []
    },
    {
      "cell_type": "code",
      "metadata": {
        "colab": {
          "base_uri": "https://localhost:8080/"
        },
        "id": "ranking-proposal",
        "outputId": "acd89005-0119-4dcc-ac96-d9c2ae389309"
      },
      "source": [
        "print(gs_model3.score(X_train,y_train))\n",
        "print(gs_model3.score(X_test,y_test))"
      ],
      "id": "ranking-proposal",
      "execution_count": null,
      "outputs": [
        {
          "output_type": "stream",
          "text": [
            "0.9074741396401125\n",
            "0.9056898622724463\n"
          ],
          "name": "stdout"
        }
      ]
    },
    {
      "cell_type": "code",
      "metadata": {
        "colab": {
          "base_uri": "https://localhost:8080/"
        },
        "id": "7SUqdkqG8k60",
        "outputId": "cf814ccf-390c-4df9-b20b-5a52bbda168a"
      },
      "source": [
        "metrics_mnb_tf = eval(gs_model3)\n",
        "print(metrics_mnb_tf)"
      ],
      "id": "7SUqdkqG8k60",
      "execution_count": null,
      "outputs": [
        {
          "output_type": "stream",
          "text": [
            "{'roc_auc_train': 0.7368212398778096, 'roc_auc_test': 0.7303175126570007, 'accuracy': 0.9056898622724463, 'precision': 0.9066391363642157, 'recall': 0.9894013575164126, 'specificity': 0.47123366779758896, 'FalsePos': 7325, 'TruePos': 71134, 'FalseNeg': 762, 'TrueNeg': 6528, 'FPR': 0.528766332202411}\n"
          ],
          "name": "stdout"
        }
      ]
    },
    {
      "cell_type": "code",
      "metadata": {
        "id": "provincial-cyprus"
      },
      "source": [
        "y_pred = gs_model3.predict(X_test)"
      ],
      "id": "provincial-cyprus",
      "execution_count": null,
      "outputs": []
    },
    {
      "cell_type": "code",
      "metadata": {
        "colab": {
          "base_uri": "https://localhost:8080/"
        },
        "id": "standard-lawyer",
        "outputId": "26d56348-930c-4162-8e73-a62d26eecc4e"
      },
      "source": [
        "print(classification_report(y_test,y_pred))"
      ],
      "id": "standard-lawyer",
      "execution_count": null,
      "outputs": [
        {
          "output_type": "stream",
          "text": [
            "              precision    recall  f1-score   support\n",
            "\n",
            "           0       0.90      0.47      0.62     13853\n",
            "           1       0.91      0.99      0.95     71896\n",
            "\n",
            "    accuracy                           0.91     85749\n",
            "   macro avg       0.90      0.73      0.78     85749\n",
            "weighted avg       0.90      0.91      0.89     85749\n",
            "\n"
          ],
          "name": "stdout"
        }
      ]
    },
    {
      "cell_type": "code",
      "metadata": {
        "id": "ajWVtCWrGVPc"
      },
      "source": [
        "coef_names = gs3.best_estimator_.named_steps.tvec.get_feature_names()"
      ],
      "id": "ajWVtCWrGVPc",
      "execution_count": null,
      "outputs": []
    },
    {
      "cell_type": "code",
      "metadata": {
        "id": "2WLb4_zfGVnV"
      },
      "source": [
        "coef_df = pd.DataFrame({'coefficients': coef_names, 'values' : gs3.best_estimator_.steps[1][1].coef_[0]})"
      ],
      "id": "2WLb4_zfGVnV",
      "execution_count": null,
      "outputs": []
    },
    {
      "cell_type": "code",
      "metadata": {
        "id": "j_a2Xw92GgGT"
      },
      "source": [
        "coef_df.sort_values(by='values',ascending=False, inplace = True)"
      ],
      "id": "j_a2Xw92GgGT",
      "execution_count": null,
      "outputs": []
    },
    {
      "cell_type": "code",
      "metadata": {
        "colab": {
          "base_uri": "https://localhost:8080/",
          "height": 648
        },
        "id": "ByRAts_1Gkw5",
        "outputId": "2b0697d1-8692-4402-976f-de00585778a7"
      },
      "source": [
        "coef_df.head(20)"
      ],
      "id": "ByRAts_1Gkw5",
      "execution_count": null,
      "outputs": [
        {
          "output_type": "execute_result",
          "data": {
            "text/html": [
              "<div>\n",
              "<style scoped>\n",
              "    .dataframe tbody tr th:only-of-type {\n",
              "        vertical-align: middle;\n",
              "    }\n",
              "\n",
              "    .dataframe tbody tr th {\n",
              "        vertical-align: top;\n",
              "    }\n",
              "\n",
              "    .dataframe thead th {\n",
              "        text-align: right;\n",
              "    }\n",
              "</style>\n",
              "<table border=\"1\" class=\"dataframe\">\n",
              "  <thead>\n",
              "    <tr style=\"text-align: right;\">\n",
              "      <th></th>\n",
              "      <th>coefficients</th>\n",
              "      <th>values</th>\n",
              "    </tr>\n",
              "  </thead>\n",
              "  <tbody>\n",
              "    <tr>\n",
              "      <th>4153</th>\n",
              "      <td>star</td>\n",
              "      <td>-4.326892</td>\n",
              "    </tr>\n",
              "    <tr>\n",
              "      <th>2513</th>\n",
              "      <td>love</td>\n",
              "      <td>-4.466319</td>\n",
              "    </tr>\n",
              "    <tr>\n",
              "      <th>3244</th>\n",
              "      <td>product</td>\n",
              "      <td>-4.561493</td>\n",
              "    </tr>\n",
              "    <tr>\n",
              "      <th>1694</th>\n",
              "      <td>great</td>\n",
              "      <td>-4.574536</td>\n",
              "    </tr>\n",
              "    <tr>\n",
              "      <th>1804</th>\n",
              "      <td>hair</td>\n",
              "      <td>-4.681793</td>\n",
              "    </tr>\n",
              "    <tr>\n",
              "      <th>4585</th>\n",
              "      <td>use</td>\n",
              "      <td>-4.727298</td>\n",
              "    </tr>\n",
              "    <tr>\n",
              "      <th>3897</th>\n",
              "      <td>skin</td>\n",
              "      <td>-5.094667</td>\n",
              "    </tr>\n",
              "    <tr>\n",
              "      <th>1621</th>\n",
              "      <td>good</td>\n",
              "      <td>-5.128473</td>\n",
              "    </tr>\n",
              "    <tr>\n",
              "      <th>4895</th>\n",
              "      <td>work</td>\n",
              "      <td>-5.164895</td>\n",
              "    </tr>\n",
              "    <tr>\n",
              "      <th>3990</th>\n",
              "      <td>smell</td>\n",
              "      <td>-5.230588</td>\n",
              "    </tr>\n",
              "    <tr>\n",
              "      <th>2306</th>\n",
              "      <td>like</td>\n",
              "      <td>-5.256954</td>\n",
              "    </tr>\n",
              "    <tr>\n",
              "      <th>296</th>\n",
              "      <td>best</td>\n",
              "      <td>-5.263140</td>\n",
              "    </tr>\n",
              "    <tr>\n",
              "      <th>685</th>\n",
              "      <td>color</td>\n",
              "      <td>-5.477593</td>\n",
              "    </tr>\n",
              "    <tr>\n",
              "      <th>3489</th>\n",
              "      <td>realli</td>\n",
              "      <td>-5.546321</td>\n",
              "    </tr>\n",
              "    <tr>\n",
              "      <th>2882</th>\n",
              "      <td>nice</td>\n",
              "      <td>-5.576394</td>\n",
              "    </tr>\n",
              "    <tr>\n",
              "      <th>1397</th>\n",
              "      <td>feel</td>\n",
              "      <td>-5.594731</td>\n",
              "    </tr>\n",
              "    <tr>\n",
              "      <th>2455</th>\n",
              "      <td>look</td>\n",
              "      <td>-5.612375</td>\n",
              "    </tr>\n",
              "    <tr>\n",
              "      <th>1074</th>\n",
              "      <td>dri</td>\n",
              "      <td>-5.651211</td>\n",
              "    </tr>\n",
              "    <tr>\n",
              "      <th>2626</th>\n",
              "      <td>make</td>\n",
              "      <td>-5.654405</td>\n",
              "    </tr>\n",
              "    <tr>\n",
              "      <th>1751</th>\n",
              "      <td>great product</td>\n",
              "      <td>-5.669491</td>\n",
              "    </tr>\n",
              "  </tbody>\n",
              "</table>\n",
              "</div>"
            ],
            "text/plain": [
              "       coefficients    values\n",
              "4153           star -4.326892\n",
              "2513           love -4.466319\n",
              "3244        product -4.561493\n",
              "1694          great -4.574536\n",
              "1804           hair -4.681793\n",
              "4585            use -4.727298\n",
              "3897           skin -5.094667\n",
              "1621           good -5.128473\n",
              "4895           work -5.164895\n",
              "3990          smell -5.230588\n",
              "2306           like -5.256954\n",
              "296            best -5.263140\n",
              "685           color -5.477593\n",
              "3489         realli -5.546321\n",
              "2882           nice -5.576394\n",
              "1397           feel -5.594731\n",
              "2455           look -5.612375\n",
              "1074            dri -5.651211\n",
              "2626           make -5.654405\n",
              "1751  great product -5.669491"
            ]
          },
          "metadata": {
            "tags": []
          },
          "execution_count": 211
        }
      ]
    },
    {
      "cell_type": "code",
      "metadata": {
        "colab": {
          "base_uri": "https://localhost:8080/",
          "height": 648
        },
        "id": "Hx29z309GoF2",
        "outputId": "9e04cada-1755-4625-85b4-72785cb40540"
      },
      "source": [
        "coef_df.tail(20)"
      ],
      "id": "Hx29z309GoF2",
      "execution_count": null,
      "outputs": [
        {
          "output_type": "execute_result",
          "data": {
            "text/html": [
              "<div>\n",
              "<style scoped>\n",
              "    .dataframe tbody tr th:only-of-type {\n",
              "        vertical-align: middle;\n",
              "    }\n",
              "\n",
              "    .dataframe tbody tr th {\n",
              "        vertical-align: top;\n",
              "    }\n",
              "\n",
              "    .dataframe thead th {\n",
              "        text-align: right;\n",
              "    }\n",
              "</style>\n",
              "<table border=\"1\" class=\"dataframe\">\n",
              "  <thead>\n",
              "    <tr style=\"text-align: right;\">\n",
              "      <th></th>\n",
              "      <th>coefficients</th>\n",
              "      <th>values</th>\n",
              "    </tr>\n",
              "  </thead>\n",
              "  <tbody>\n",
              "    <tr>\n",
              "      <th>2028</th>\n",
              "      <td>high hope</td>\n",
              "      <td>-11.423135</td>\n",
              "    </tr>\n",
              "    <tr>\n",
              "      <th>1377</th>\n",
              "      <td>faulti</td>\n",
              "      <td>-11.551070</td>\n",
              "    </tr>\n",
              "    <tr>\n",
              "      <th>1052</th>\n",
              "      <td>doesnt work</td>\n",
              "      <td>-11.603450</td>\n",
              "    </tr>\n",
              "    <tr>\n",
              "      <th>4390</th>\n",
              "      <td>threw away</td>\n",
              "      <td>-11.618443</td>\n",
              "    </tr>\n",
              "    <tr>\n",
              "      <th>2929</th>\n",
              "      <td>noth hair</td>\n",
              "      <td>-11.685592</td>\n",
              "    </tr>\n",
              "    <tr>\n",
              "      <th>3149</th>\n",
              "      <td>polici</td>\n",
              "      <td>-11.749319</td>\n",
              "    </tr>\n",
              "    <tr>\n",
              "      <th>9</th>\n",
              "      <td>absolut noth</td>\n",
              "      <td>-11.785875</td>\n",
              "    </tr>\n",
              "    <tr>\n",
              "      <th>1033</th>\n",
              "      <td>disappoint disappoint</td>\n",
              "      <td>-11.852456</td>\n",
              "    </tr>\n",
              "    <tr>\n",
              "      <th>1351</th>\n",
              "      <td>fake product</td>\n",
              "      <td>-11.872795</td>\n",
              "    </tr>\n",
              "    <tr>\n",
              "      <th>3621</th>\n",
              "      <td>return product</td>\n",
              "      <td>-11.881444</td>\n",
              "    </tr>\n",
              "    <tr>\n",
              "      <th>3708</th>\n",
              "      <td>scam</td>\n",
              "      <td>-11.893032</td>\n",
              "    </tr>\n",
              "    <tr>\n",
              "      <th>2796</th>\n",
              "      <td>money wast</td>\n",
              "      <td>-11.898275</td>\n",
              "    </tr>\n",
              "    <tr>\n",
              "      <th>3619</th>\n",
              "      <td>return item</td>\n",
              "      <td>-11.952501</td>\n",
              "    </tr>\n",
              "    <tr>\n",
              "      <th>537</th>\n",
              "      <td>buyer bewar</td>\n",
              "      <td>-11.982429</td>\n",
              "    </tr>\n",
              "    <tr>\n",
              "      <th>4948</th>\n",
              "      <td>worthless</td>\n",
              "      <td>-12.059951</td>\n",
              "    </tr>\n",
              "    <tr>\n",
              "      <th>3620</th>\n",
              "      <td>return polici</td>\n",
              "      <td>-12.081752</td>\n",
              "    </tr>\n",
              "    <tr>\n",
              "      <th>3163</th>\n",
              "      <td>poor qualiti</td>\n",
              "      <td>-12.095683</td>\n",
              "    </tr>\n",
              "    <tr>\n",
              "      <th>3493</th>\n",
              "      <td>realli disappoint</td>\n",
              "      <td>-12.283624</td>\n",
              "    </tr>\n",
              "    <tr>\n",
              "      <th>1282</th>\n",
              "      <td>extrem disappoint</td>\n",
              "      <td>-12.975850</td>\n",
              "    </tr>\n",
              "    <tr>\n",
              "      <th>4468</th>\n",
              "      <td>total wast</td>\n",
              "      <td>-13.257026</td>\n",
              "    </tr>\n",
              "  </tbody>\n",
              "</table>\n",
              "</div>"
            ],
            "text/plain": [
              "               coefficients     values\n",
              "2028              high hope -11.423135\n",
              "1377                 faulti -11.551070\n",
              "1052            doesnt work -11.603450\n",
              "4390             threw away -11.618443\n",
              "2929              noth hair -11.685592\n",
              "3149                 polici -11.749319\n",
              "9              absolut noth -11.785875\n",
              "1033  disappoint disappoint -11.852456\n",
              "1351           fake product -11.872795\n",
              "3621         return product -11.881444\n",
              "3708                   scam -11.893032\n",
              "2796             money wast -11.898275\n",
              "3619            return item -11.952501\n",
              "537             buyer bewar -11.982429\n",
              "4948              worthless -12.059951\n",
              "3620          return polici -12.081752\n",
              "3163           poor qualiti -12.095683\n",
              "3493      realli disappoint -12.283624\n",
              "1282      extrem disappoint -12.975850\n",
              "4468             total wast -13.257026"
            ]
          },
          "metadata": {
            "tags": []
          },
          "execution_count": 212
        }
      ]
    },
    {
      "cell_type": "code",
      "metadata": {
        "colab": {
          "base_uri": "https://localhost:8080/",
          "height": 388
        },
        "id": "robust-cartoon",
        "outputId": "7d3f42c4-e56e-4398-8d5a-255d081799f1"
      },
      "source": [
        "fig, ax = plt.subplots(figsize=(8, 6))\n",
        "mnb_tf = plot_roc_curve(gs3, X_test, y_test, ax=ax)"
      ],
      "id": "robust-cartoon",
      "execution_count": null,
      "outputs": [
        {
          "output_type": "display_data",
          "data": {
            "image/png": "[encoded data removed]",
            "text/plain": [
              "<Figure size 576x432 with 1 Axes>"
            ]
          },
          "metadata": {
            "tags": []
          }
        }
      ]
    },
    {
      "cell_type": "markdown",
      "metadata": {
        "id": "0YxaMbTi0jIM"
      },
      "source": [
        "### Linear SVC"
      ],
      "id": "0YxaMbTi0jIM"
    },
    {
      "cell_type": "code",
      "metadata": {
        "id": "dimensional-packet"
      },
      "source": [
        "X = df['clean_text']\n",
        "y = df['Sentiment_rating']"
      ],
      "id": "dimensional-packet",
      "execution_count": null,
      "outputs": []
    },
    {
      "cell_type": "code",
      "metadata": {
        "id": "agreed-festival"
      },
      "source": [
        "X_train, X_test,y_train, y_test = train_test_split(X,y,test_size=0.2,stratify = y,random_state=0)"
      ],
      "id": "agreed-festival",
      "execution_count": null,
      "outputs": []
    },
    {
      "cell_type": "code",
      "metadata": {
        "id": "RuksVPKK00Mz"
      },
      "source": [
        "pipe4 = Pipeline([\n",
        "    ('cvec', CountVectorizer(stop_words='english')),\n",
        "    ('svc', LinearSVC(dual=False)),\n",
        "])"
      ],
      "id": "RuksVPKK00Mz",
      "execution_count": null,
      "outputs": []
    },
    {
      "cell_type": "code",
      "metadata": {
        "id": "ytwwZyrr00Qe"
      },
      "source": [
        "pipe_params4 = {\n",
        "    'cvec__max_features': [5000],\n",
        "    'cvec__min_df': [1,2],\n",
        "    'cvec__max_df': [0.5,0.95],\n",
        "    'cvec__ngram_range': [(1,1),(1,2)],\n",
        "}"
      ],
      "id": "ytwwZyrr00Qe",
      "execution_count": null,
      "outputs": []
    },
    {
      "cell_type": "code",
      "metadata": {
        "id": "K4zOhh2Q00TU"
      },
      "source": [
        "gs4 = GridSearchCV(pipe4, \n",
        "                   param_grid=pipe_params4, \n",
        "                   cv=5)"
      ],
      "id": "K4zOhh2Q00TU",
      "execution_count": null,
      "outputs": []
    },
    {
      "cell_type": "code",
      "metadata": {
        "colab": {
          "base_uri": "https://localhost:8080/"
        },
        "id": "BiIZb6xU00V6",
        "outputId": "76e14b5b-0356-48c7-d4ee-d1f655c440a5"
      },
      "source": [
        "gs4.fit(X_train, y_train)"
      ],
      "id": "BiIZb6xU00V6",
      "execution_count": null,
      "outputs": [
        {
          "output_type": "execute_result",
          "data": {
            "text/plain": [
              "GridSearchCV(cv=5, error_score=nan,\n",
              "             estimator=Pipeline(memory=None,\n",
              "                                steps=[('cvec',\n",
              "                                        CountVectorizer(analyzer='word',\n",
              "                                                        binary=False,\n",
              "                                                        decode_error='strict',\n",
              "                                                        dtype=<class 'numpy.int64'>,\n",
              "                                                        encoding='utf-8',\n",
              "                                                        input='content',\n",
              "                                                        lowercase=True,\n",
              "                                                        max_df=1.0,\n",
              "                                                        max_features=None,\n",
              "                                                        min_df=1,\n",
              "                                                        ngram_range=(1, 1),\n",
              "                                                        preprocessor=None,\n",
              "                                                        stop_words='english',\n",
              "                                                        strip_accents=None,\n",
              "                                                        token_pattern=...\n",
              "                                                  loss='squared_hinge',\n",
              "                                                  max_iter=1000,\n",
              "                                                  multi_class='ovr',\n",
              "                                                  penalty='l2',\n",
              "                                                  random_state=None, tol=0.0001,\n",
              "                                                  verbose=0))],\n",
              "                                verbose=False),\n",
              "             iid='deprecated', n_jobs=None,\n",
              "             param_grid={'cvec__max_df': [0.5, 0.95],\n",
              "                         'cvec__max_features': [5000], 'cvec__min_df': [1, 2],\n",
              "                         'cvec__ngram_range': [(1, 1), (1, 2)]},\n",
              "             pre_dispatch='2*n_jobs', refit=True, return_train_score=False,\n",
              "             scoring=None, verbose=0)"
            ]
          },
          "metadata": {
            "tags": []
          },
          "execution_count": 182
        }
      ]
    },
    {
      "cell_type": "code",
      "metadata": {
        "colab": {
          "base_uri": "https://localhost:8080/"
        },
        "id": "qEpnkWy700Yh",
        "outputId": "d067d54b-888b-415d-b234-d296cea92872"
      },
      "source": [
        "gs4.best_params_"
      ],
      "id": "qEpnkWy700Yh",
      "execution_count": null,
      "outputs": [
        {
          "output_type": "execute_result",
          "data": {
            "text/plain": [
              "{'cvec__max_df': 0.5,\n",
              " 'cvec__max_features': 5000,\n",
              " 'cvec__min_df': 2,\n",
              " 'cvec__ngram_range': (1, 2)}"
            ]
          },
          "metadata": {
            "tags": []
          },
          "execution_count": 183
        }
      ]
    },
    {
      "cell_type": "code",
      "metadata": {
        "id": "__gZxr4E1UCi"
      },
      "source": [
        "gs_model4 = gs4.best_estimator_"
      ],
      "id": "__gZxr4E1UCi",
      "execution_count": null,
      "outputs": []
    },
    {
      "cell_type": "code",
      "metadata": {
        "colab": {
          "base_uri": "https://localhost:8080/"
        },
        "id": "99ZDT08q1ZiI",
        "outputId": "d2e1f159-f2eb-4465-b86f-78dc82b0ca82"
      },
      "source": [
        "print(gs_model4.score(X_train,y_train))\n",
        "print(gs_model4.score(X_test,y_test))"
      ],
      "id": "99ZDT08q1ZiI",
      "execution_count": null,
      "outputs": [
        {
          "output_type": "stream",
          "text": [
            "0.9328330359537721\n",
            "0.9280108222836418\n"
          ],
          "name": "stdout"
        }
      ]
    },
    {
      "cell_type": "code",
      "metadata": {
        "colab": {
          "base_uri": "https://localhost:8080/"
        },
        "id": "vdHOb-wN-tfP",
        "outputId": "ae58010a-efb2-4b40-baf1-de4be91c0f45"
      },
      "source": [
        "metrics_svc_cv = eval(gs_model4)\n",
        "print(metrics_svc_cv)"
      ],
      "id": "vdHOb-wN-tfP",
      "execution_count": null,
      "outputs": [
        {
          "output_type": "stream",
          "text": [
            "{'roc_auc_train': 0.8326035424554211, 'roc_auc_test': 0.8217786011975831, 'accuracy': 0.9280108222836418, 'precision': 0.9381007612419843, 'recall': 0.9787192611550016, 'specificity': 0.6648379412401646, 'FalsePos': 4643, 'TruePos': 70366, 'FalseNeg': 1530, 'TrueNeg': 9210, 'FPR': 0.3351620587598354}\n"
          ],
          "name": "stdout"
        }
      ]
    },
    {
      "cell_type": "code",
      "metadata": {
        "id": "Irxx7GPM1Zl7"
      },
      "source": [
        "y_pred = gs_model4.predict(X_test)"
      ],
      "id": "Irxx7GPM1Zl7",
      "execution_count": null,
      "outputs": []
    },
    {
      "cell_type": "code",
      "metadata": {
        "colab": {
          "base_uri": "https://localhost:8080/"
        },
        "id": "FGR0O_kB1Zow",
        "outputId": "3e3581f1-f4cf-4d3e-ef13-dc1ebb132db9"
      },
      "source": [
        "print(classification_report(y_test,y_pred))"
      ],
      "id": "FGR0O_kB1Zow",
      "execution_count": null,
      "outputs": [
        {
          "output_type": "stream",
          "text": [
            "              precision    recall  f1-score   support\n",
            "\n",
            "           0       0.86      0.66      0.75     13853\n",
            "           1       0.94      0.98      0.96     71896\n",
            "\n",
            "    accuracy                           0.93     85749\n",
            "   macro avg       0.90      0.82      0.85     85749\n",
            "weighted avg       0.93      0.93      0.92     85749\n",
            "\n"
          ],
          "name": "stdout"
        }
      ]
    },
    {
      "cell_type": "code",
      "metadata": {
        "id": "e6vgoLpU1UFp"
      },
      "source": [
        "coef_names = gs4.best_estimator_.named_steps.cvec.get_feature_names()"
      ],
      "id": "e6vgoLpU1UFp",
      "execution_count": null,
      "outputs": []
    },
    {
      "cell_type": "code",
      "metadata": {
        "id": "gDt6Tzmr1UM-"
      },
      "source": [
        "coef_df = pd.DataFrame({'coefficients': coef_names, 'values' : gs4.best_estimator_.steps[1][1].coef_[0]})"
      ],
      "id": "gDt6Tzmr1UM-",
      "execution_count": null,
      "outputs": []
    },
    {
      "cell_type": "code",
      "metadata": {
        "id": "HyTJv_Qe1sCk"
      },
      "source": [
        "coef_df.sort_values(by='values',ascending=False, inplace = True)"
      ],
      "id": "HyTJv_Qe1sCk",
      "execution_count": null,
      "outputs": []
    },
    {
      "cell_type": "code",
      "metadata": {
        "colab": {
          "base_uri": "https://localhost:8080/",
          "height": 648
        },
        "id": "i-nCH3c11sFx",
        "outputId": "d93566ee-1ee5-442c-be66-b7a6929d0be0"
      },
      "source": [
        "coef_df.head(20)"
      ],
      "id": "i-nCH3c11sFx",
      "execution_count": null,
      "outputs": [
        {
          "output_type": "execute_result",
          "data": {
            "text/html": [
              "<div>\n",
              "<style scoped>\n",
              "    .dataframe tbody tr th:only-of-type {\n",
              "        vertical-align: middle;\n",
              "    }\n",
              "\n",
              "    .dataframe tbody tr th {\n",
              "        vertical-align: top;\n",
              "    }\n",
              "\n",
              "    .dataframe thead th {\n",
              "        text-align: right;\n",
              "    }\n",
              "</style>\n",
              "<table border=\"1\" class=\"dataframe\">\n",
              "  <thead>\n",
              "    <tr style=\"text-align: right;\">\n",
              "      <th></th>\n",
              "      <th>coefficients</th>\n",
              "      <th>values</th>\n",
              "    </tr>\n",
              "  </thead>\n",
              "  <tbody>\n",
              "    <tr>\n",
              "      <th>307</th>\n",
              "      <td>best eyelin</td>\n",
              "      <td>1.431557</td>\n",
              "    </tr>\n",
              "    <tr>\n",
              "      <th>2284</th>\n",
              "      <td>life saver</td>\n",
              "      <td>1.066033</td>\n",
              "    </tr>\n",
              "    <tr>\n",
              "      <th>2140</th>\n",
              "      <td>iredal</td>\n",
              "      <td>1.045075</td>\n",
              "    </tr>\n",
              "    <tr>\n",
              "      <th>1092</th>\n",
              "      <td>dri minut</td>\n",
              "      <td>1.031957</td>\n",
              "    </tr>\n",
              "    <tr>\n",
              "      <th>2047</th>\n",
              "      <td>holi grail</td>\n",
              "      <td>1.030521</td>\n",
              "    </tr>\n",
              "    <tr>\n",
              "      <th>2022</th>\n",
              "      <td>hesit buy</td>\n",
              "      <td>0.981614</td>\n",
              "    </tr>\n",
              "    <tr>\n",
              "      <th>1243</th>\n",
              "      <td>exceed expect</td>\n",
              "      <td>0.978745</td>\n",
              "    </tr>\n",
              "    <tr>\n",
              "      <th>4940</th>\n",
              "      <td>worth everi</td>\n",
              "      <td>0.972071</td>\n",
              "    </tr>\n",
              "    <tr>\n",
              "      <th>2927</th>\n",
              "      <td>noth compar</td>\n",
              "      <td>0.900933</td>\n",
              "    </tr>\n",
              "    <tr>\n",
              "      <th>4086</th>\n",
              "      <td>sooner</td>\n",
              "      <td>0.840216</td>\n",
              "    </tr>\n",
              "    <tr>\n",
              "      <th>2279</th>\n",
              "      <td>let sit</td>\n",
              "      <td>0.838069</td>\n",
              "    </tr>\n",
              "    <tr>\n",
              "      <th>847</th>\n",
              "      <td>crow</td>\n",
              "      <td>0.826160</td>\n",
              "    </tr>\n",
              "    <tr>\n",
              "      <th>344</th>\n",
              "      <td>better expect</td>\n",
              "      <td>0.803848</td>\n",
              "    </tr>\n",
              "    <tr>\n",
              "      <th>4220</th>\n",
              "      <td>stuff amaz</td>\n",
              "      <td>0.797281</td>\n",
              "    </tr>\n",
              "    <tr>\n",
              "      <th>1362</th>\n",
              "      <td>far good</td>\n",
              "      <td>0.788554</td>\n",
              "    </tr>\n",
              "    <tr>\n",
              "      <th>2928</th>\n",
              "      <td>noth els</td>\n",
              "      <td>0.785876</td>\n",
              "    </tr>\n",
              "    <tr>\n",
              "      <th>4960</th>\n",
              "      <td>yay</td>\n",
              "      <td>0.771902</td>\n",
              "    </tr>\n",
              "    <tr>\n",
              "      <th>1390</th>\n",
              "      <td>favourit</td>\n",
              "      <td>0.743818</td>\n",
              "    </tr>\n",
              "    <tr>\n",
              "      <th>318</th>\n",
              "      <td>best lotion</td>\n",
              "      <td>0.723854</td>\n",
              "    </tr>\n",
              "    <tr>\n",
              "      <th>2315</th>\n",
              "      <td>like charm</td>\n",
              "      <td>0.717026</td>\n",
              "    </tr>\n",
              "  </tbody>\n",
              "</table>\n",
              "</div>"
            ],
            "text/plain": [
              "       coefficients    values\n",
              "307     best eyelin  1.431557\n",
              "2284     life saver  1.066033\n",
              "2140         iredal  1.045075\n",
              "1092      dri minut  1.031957\n",
              "2047     holi grail  1.030521\n",
              "2022      hesit buy  0.981614\n",
              "1243  exceed expect  0.978745\n",
              "4940    worth everi  0.972071\n",
              "2927    noth compar  0.900933\n",
              "4086         sooner  0.840216\n",
              "2279        let sit  0.838069\n",
              "847            crow  0.826160\n",
              "344   better expect  0.803848\n",
              "4220     stuff amaz  0.797281\n",
              "1362       far good  0.788554\n",
              "2928       noth els  0.785876\n",
              "4960            yay  0.771902\n",
              "1390       favourit  0.743818\n",
              "318     best lotion  0.723854\n",
              "2315     like charm  0.717026"
            ]
          },
          "metadata": {
            "tags": []
          },
          "execution_count": 203
        }
      ]
    },
    {
      "cell_type": "code",
      "metadata": {
        "colab": {
          "base_uri": "https://localhost:8080/",
          "height": 648
        },
        "id": "n02j_Yl01sIY",
        "outputId": "2116698d-55c8-4556-b639-976aec4e21b1"
      },
      "source": [
        "coef_df.tail(20)"
      ],
      "id": "n02j_Yl01sIY",
      "execution_count": null,
      "outputs": [
        {
          "output_type": "execute_result",
          "data": {
            "text/html": [
              "<div>\n",
              "<style scoped>\n",
              "    .dataframe tbody tr th:only-of-type {\n",
              "        vertical-align: middle;\n",
              "    }\n",
              "\n",
              "    .dataframe tbody tr th {\n",
              "        vertical-align: top;\n",
              "    }\n",
              "\n",
              "    .dataframe thead th {\n",
              "        text-align: right;\n",
              "    }\n",
              "</style>\n",
              "<table border=\"1\" class=\"dataframe\">\n",
              "  <thead>\n",
              "    <tr style=\"text-align: right;\">\n",
              "      <th></th>\n",
              "      <th>coefficients</th>\n",
              "      <th>values</th>\n",
              "    </tr>\n",
              "  </thead>\n",
              "  <tbody>\n",
              "    <tr>\n",
              "      <th>1031</th>\n",
              "      <td>disappoint</td>\n",
              "      <td>-0.667344</td>\n",
              "    </tr>\n",
              "    <tr>\n",
              "      <th>4162</th>\n",
              "      <td>stay away</td>\n",
              "      <td>-0.678860</td>\n",
              "    </tr>\n",
              "    <tr>\n",
              "      <th>4936</th>\n",
              "      <td>worst</td>\n",
              "      <td>-0.679343</td>\n",
              "    </tr>\n",
              "    <tr>\n",
              "      <th>4482</th>\n",
              "      <td>trash</td>\n",
              "      <td>-0.679364</td>\n",
              "    </tr>\n",
              "    <tr>\n",
              "      <th>2929</th>\n",
              "      <td>noth hair</td>\n",
              "      <td>-0.680008</td>\n",
              "    </tr>\n",
              "    <tr>\n",
              "      <th>2183</th>\n",
              "      <td>juic beauti</td>\n",
              "      <td>-0.682123</td>\n",
              "    </tr>\n",
              "    <tr>\n",
              "      <th>2918</th>\n",
              "      <td>nope</td>\n",
              "      <td>-0.722262</td>\n",
              "    </tr>\n",
              "    <tr>\n",
              "      <th>4185</th>\n",
              "      <td>stop work</td>\n",
              "      <td>-0.735177</td>\n",
              "    </tr>\n",
              "    <tr>\n",
              "      <th>4990</th>\n",
              "      <td>yuck</td>\n",
              "      <td>-0.742613</td>\n",
              "    </tr>\n",
              "    <tr>\n",
              "      <th>2028</th>\n",
              "      <td>high hope</td>\n",
              "      <td>-0.755820</td>\n",
              "    </tr>\n",
              "    <tr>\n",
              "      <th>3618</th>\n",
              "      <td>return polici</td>\n",
              "      <td>-0.772509</td>\n",
              "    </tr>\n",
              "    <tr>\n",
              "      <th>1044</th>\n",
              "      <td>dissapoint</td>\n",
              "      <td>-0.776368</td>\n",
              "    </tr>\n",
              "    <tr>\n",
              "      <th>2173</th>\n",
              "      <td>jane iredal</td>\n",
              "      <td>-0.809246</td>\n",
              "    </tr>\n",
              "    <tr>\n",
              "      <th>1676</th>\n",
              "      <td>grail</td>\n",
              "      <td>-0.813079</td>\n",
              "    </tr>\n",
              "    <tr>\n",
              "      <th>1011</th>\n",
              "      <td>didnt</td>\n",
              "      <td>-0.839129</td>\n",
              "    </tr>\n",
              "    <tr>\n",
              "      <th>1051</th>\n",
              "      <td>doesnt work</td>\n",
              "      <td>-0.865095</td>\n",
              "    </tr>\n",
              "    <tr>\n",
              "      <th>848</th>\n",
              "      <td>crow feet</td>\n",
              "      <td>-0.907101</td>\n",
              "    </tr>\n",
              "    <tr>\n",
              "      <th>2713</th>\n",
              "      <td>meh</td>\n",
              "      <td>-0.940620</td>\n",
              "    </tr>\n",
              "    <tr>\n",
              "      <th>4765</th>\n",
              "      <td>want love</td>\n",
              "      <td>-0.958883</td>\n",
              "    </tr>\n",
              "    <tr>\n",
              "      <th>4948</th>\n",
              "      <td>worthless</td>\n",
              "      <td>-1.068588</td>\n",
              "    </tr>\n",
              "  </tbody>\n",
              "</table>\n",
              "</div>"
            ],
            "text/plain": [
              "       coefficients    values\n",
              "1031     disappoint -0.667344\n",
              "4162      stay away -0.678860\n",
              "4936          worst -0.679343\n",
              "4482          trash -0.679364\n",
              "2929      noth hair -0.680008\n",
              "2183    juic beauti -0.682123\n",
              "2918           nope -0.722262\n",
              "4185      stop work -0.735177\n",
              "4990           yuck -0.742613\n",
              "2028      high hope -0.755820\n",
              "3618  return polici -0.772509\n",
              "1044     dissapoint -0.776368\n",
              "2173    jane iredal -0.809246\n",
              "1676          grail -0.813079\n",
              "1011          didnt -0.839129\n",
              "1051    doesnt work -0.865095\n",
              "848       crow feet -0.907101\n",
              "2713            meh -0.940620\n",
              "4765      want love -0.958883\n",
              "4948      worthless -1.068588"
            ]
          },
          "metadata": {
            "tags": []
          },
          "execution_count": 204
        }
      ]
    },
    {
      "cell_type": "code",
      "metadata": {
        "colab": {
          "base_uri": "https://localhost:8080/",
          "height": 388
        },
        "id": "0T_qf8diN9ik",
        "outputId": "6a919dc5-e301-48fa-aeec-decc18a79914"
      },
      "source": [
        "fig, ax = plt.subplots(figsize=(8, 6))\n",
        "svc_cv = plot_roc_curve(gs4, X_test, y_test, ax=ax)"
      ],
      "id": "0T_qf8diN9ik",
      "execution_count": null,
      "outputs": [
        {
          "output_type": "display_data",
          "data": {
            "image/png": "[encoded data removed]",
            "text/plain": [
              "<Figure size 576x432 with 1 Axes>"
            ]
          },
          "metadata": {
            "tags": []
          }
        }
      ]
    },
    {
      "cell_type": "markdown",
      "metadata": {
        "id": "AVblKPaeLciD"
      },
      "source": [
        "#Model comparison"
      ],
      "id": "AVblKPaeLciD"
    },
    {
      "cell_type": "code",
      "metadata": {
        "colab": {
          "base_uri": "https://localhost:8080/"
        },
        "id": "_JcMomZK-62O",
        "outputId": "2566c4fc-90d2-4b1e-9354-040ee9c94e3e"
      },
      "source": [
        "scores = [['Logistic Regression_CV', metrics_lrcv['roc_auc_train'], metrics_lrcv['roc_auc_test'], \n",
        "           metrics_lrcv['recall'], metrics_lrcv['precision'],metrics_lrcv['specificity'], metrics_lrcv['accuracy'],metrics_lrcv['FPR']],\n",
        "          ['Logistic Regression_TFIDF', metrics_lrtf['roc_auc_train'], metrics_lrtf['roc_auc_test'], \n",
        "           metrics_lrtf['recall'],metrics_lrtf['precision'], metrics_lrtf['specificity'], metrics_lrtf['accuracy'],metrics_lrtf['FPR']],\n",
        "          ['MultinomialNB_TFIDF', metrics_mnb_tf['roc_auc_train'], metrics_mnb_tf['roc_auc_test'], \n",
        "           metrics_mnb_tf['recall'],metrics_mnb_tf['precision'], metrics_mnb_tf['specificity'], metrics_mnb_tf['accuracy'],metrics_mnb_tf['FPR']],\n",
        "          ['Linear_SVC_CV', metrics_svc_cv['roc_auc_train'], metrics_svc_cv['roc_auc_test'], \n",
        "           metrics_svc_cv['recall'],metrics_svc_cv['precision'], metrics_svc_cv['specificity'], metrics_svc_cv['accuracy'],metrics_svc_cv['FPR']]]\n",
        "          \n",
        "print(tabulate(scores,headers=[\"\", \"Roc Auc Train\", \"Roc Auc Test\", 'Recall','Precision' ,'Specificity', \"Accuracy\",\"FPR\"])) "
      ],
      "id": "_JcMomZK-62O",
      "execution_count": null,
      "outputs": [
        {
          "output_type": "stream",
          "text": [
            "                             Roc Auc Train    Roc Auc Test    Recall    Precision    Specificity    Accuracy       FPR\n",
            "-------------------------  ---------------  --------------  --------  -----------  -------------  ----------  --------\n",
            "Logistic Regression_CV            0.843019        0.831276  0.976925     0.941616       0.685628    0.929865  0.314372\n",
            "Logistic Regression_TFIDF         0.848845        0.841214  0.977454     0.945039       0.704974    0.933434  0.295026\n",
            "MultinomialNB_TFIDF               0.736821        0.730318  0.989401     0.906639       0.471234    0.90569   0.528766\n",
            "Linear_SVC_CV                     0.832604        0.821779  0.978719     0.938101       0.664838    0.928011  0.335162\n"
          ],
          "name": "stdout"
        }
      ]
    },
    {
      "cell_type": "code",
      "metadata": {
        "colab": {
          "base_uri": "https://localhost:8080/",
          "height": 408
        },
        "id": "ehG_nDYV1sLD",
        "outputId": "c95d04d7-7c8f-4629-86ec-bef818b27055"
      },
      "source": [
        "fig, ax = plt.subplots(figsize=(8, 6))\n",
        "lr_cv = plot_roc_curve(gs1, X_test, y_test, ax=ax)\n",
        "lr_tf = plot_roc_curve(gs2, X_test, y_test, ax=ax)\n",
        "mnb_tf = plot_roc_curve(gs3, X_test, y_test, ax=ax)\n",
        "svc_cv = plot_roc_curve(gs4, X_test, y_test, ax=ax)\n",
        "\n",
        "ax.set_title('ROC Curve Comparison', fontsize=14)\n",
        "ax.legend(fontsize=12)\n",
        "ax.set_ylabel('True Positive Rate', fontsize=12)\n",
        "ax.set_xlabel('False Positive Rate', fontsize=12);"
      ],
      "id": "ehG_nDYV1sLD",
      "execution_count": null,
      "outputs": [
        {
          "output_type": "display_data",
          "data": {
            "image/png": "[encoded data removed]",
            "text/plain": [
              "<Figure size 576x432 with 1 Axes>"
            ]
          },
          "metadata": {
            "tags": []
          }
        }
      ]
    },
    {
      "cell_type": "markdown",
      "metadata": {
        "id": "nf623AIhbmXA"
      },
      "source": [
        "Since I would like to recommend products that have positive sentiments, I would be optimizing the model for low False Positive Rates. Here we want to reduce the Type 1 error and also look for high precision(Positive predicted value). "
      ],
      "id": "nf623AIhbmXA"
    },
    {
      "cell_type": "markdown",
      "metadata": {
        "id": "r6jEo_f2Hs5x"
      },
      "source": [
        "# Implementation"
      ],
      "id": "r6jEo_f2Hs5x"
    },
    {
      "cell_type": "code",
      "metadata": {
        "id": "AiDzSxtKPVkE"
      },
      "source": [
        "X = df['clean_text']\n",
        "y = df['Sentiment_rating']"
      ],
      "id": "AiDzSxtKPVkE",
      "execution_count": 57,
      "outputs": []
    },
    {
      "cell_type": "code",
      "metadata": {
        "id": "rg6EXmI9Hw1w"
      },
      "source": [
        "pipe = Pipeline([\n",
        "    ('tvec', TfidfVectorizer(stop_words='english')),\n",
        "    ('lr', LogisticRegression(max_iter = 1000)),\n",
        "])"
      ],
      "id": "rg6EXmI9Hw1w",
      "execution_count": 58,
      "outputs": []
    },
    {
      "cell_type": "code",
      "metadata": {
        "id": "mcldS9EmH0-C"
      },
      "source": [
        "pipe_params = {\n",
        "    'tvec__max_features': [5000],\n",
        "#     'tvec__min_df': [1,2, 3],\n",
        "#     'tvec__max_df': [0.7,0.8, 0.85, 0.90],\n",
        "    'tvec__ngram_range': [(1,1),(1, 2)],\n",
        "    # 'lr__max_iter': [100,300]\n",
        "}"
      ],
      "id": "mcldS9EmH0-C",
      "execution_count": 59,
      "outputs": []
    },
    {
      "cell_type": "code",
      "metadata": {
        "id": "yHBCLouHH7m4"
      },
      "source": [
        "gs = GridSearchCV(pipe, \n",
        "                   param_grid=pipe_params, \n",
        "                   cv=5)\n"
      ],
      "id": "yHBCLouHH7m4",
      "execution_count": 60,
      "outputs": []
    },
    {
      "cell_type": "code",
      "metadata": {
        "colab": {
          "base_uri": "https://localhost:8080/"
        },
        "id": "f71o_SAhH7p-",
        "outputId": "4ab0d3ea-2cce-4d87-eae7-1d7aabee7eec"
      },
      "source": [
        "gs.fit(X, y)"
      ],
      "id": "f71o_SAhH7p-",
      "execution_count": 61,
      "outputs": [
        {
          "output_type": "execute_result",
          "data": {
            "text/plain": [
              "GridSearchCV(cv=5, error_score=nan,\n",
              "             estimator=Pipeline(memory=None,\n",
              "                                steps=[('tvec',\n",
              "                                        TfidfVectorizer(analyzer='word',\n",
              "                                                        binary=False,\n",
              "                                                        decode_error='strict',\n",
              "                                                        dtype=<class 'numpy.float64'>,\n",
              "                                                        encoding='utf-8',\n",
              "                                                        input='content',\n",
              "                                                        lowercase=True,\n",
              "                                                        max_df=1.0,\n",
              "                                                        max_features=None,\n",
              "                                                        min_df=1,\n",
              "                                                        ngram_range=(1, 1),\n",
              "                                                        norm='l2',\n",
              "                                                        preprocessor=None,\n",
              "                                                        smooth_idf=True,\n",
              "                                                        stop_words='english',\n",
              "                                                        strip...\n",
              "                                                           intercept_scaling=1,\n",
              "                                                           l1_ratio=None,\n",
              "                                                           max_iter=1000,\n",
              "                                                           multi_class='auto',\n",
              "                                                           n_jobs=None,\n",
              "                                                           penalty='l2',\n",
              "                                                           random_state=None,\n",
              "                                                           solver='lbfgs',\n",
              "                                                           tol=0.0001,\n",
              "                                                           verbose=0,\n",
              "                                                           warm_start=False))],\n",
              "                                verbose=False),\n",
              "             iid='deprecated', n_jobs=None,\n",
              "             param_grid={'tvec__max_features': [5000],\n",
              "                         'tvec__ngram_range': [(1, 1), (1, 2)]},\n",
              "             pre_dispatch='2*n_jobs', refit=True, return_train_score=False,\n",
              "             scoring=None, verbose=0)"
            ]
          },
          "metadata": {
            "tags": []
          },
          "execution_count": 61
        }
      ]
    },
    {
      "cell_type": "code",
      "metadata": {
        "id": "60prxlPMH7uH"
      },
      "source": [
        "gs_model = gs.best_estimator_"
      ],
      "id": "60prxlPMH7uH",
      "execution_count": 63,
      "outputs": []
    },
    {
      "cell_type": "code",
      "metadata": {
        "colab": {
          "base_uri": "https://localhost:8080/"
        },
        "id": "BizbGQAhIQfL",
        "outputId": "e6396d36-6cb8-4e7f-ff50-57a31ddba226"
      },
      "source": [
        "print(gs_model.score(X,y))\n"
      ],
      "id": "BizbGQAhIQfL",
      "execution_count": 64,
      "outputs": [
        {
          "output_type": "stream",
          "text": [
            "0.9368925585138019\n"
          ],
          "name": "stdout"
        }
      ]
    },
    {
      "cell_type": "code",
      "metadata": {
        "colab": {
          "base_uri": "https://localhost:8080/"
        },
        "id": "NkjyzwkVJ3xq",
        "outputId": "5a97bacf-8a93-4982-8ce8-754cb6e75d5b"
      },
      "source": [
        "metrics_lr = eval(gs_model)\n",
        "print(metrics_lr)"
      ],
      "id": "NkjyzwkVJ3xq",
      "execution_count": 65,
      "outputs": [
        {
          "output_type": "stream",
          "text": [
            "{'roc_auc_train': 0.8500256373017955, 'roc_auc_test': 0.8495065040208106, 'accuracy': 0.9369322091219723, 'precision': 0.947815076243332, 'recall': 0.9786636252364527, 'specificity': 0.7203493828051686, 'FalsePos': 3874, 'TruePos': 70362, 'FalseNeg': 1534, 'TrueNeg': 9979, 'FPR': 0.2796506171948314}\n"
          ],
          "name": "stdout"
        }
      ]
    },
    {
      "cell_type": "code",
      "metadata": {
        "id": "3yb2gFYHIY-E"
      },
      "source": [
        "pred = gs_model.predict(X)"
      ],
      "id": "3yb2gFYHIY-E",
      "execution_count": 66,
      "outputs": []
    },
    {
      "cell_type": "code",
      "metadata": {
        "colab": {
          "base_uri": "https://localhost:8080/"
        },
        "id": "1SvkrOj-IZDB",
        "outputId": "9da31100-6f04-4ecf-ce8f-670ad68be655"
      },
      "source": [
        "print(classification_report(y,pred))"
      ],
      "id": "1SvkrOj-IZDB",
      "execution_count": 67,
      "outputs": [
        {
          "output_type": "stream",
          "text": [
            "              precision    recall  f1-score   support\n",
            "\n",
            "           0       0.87      0.72      0.79     69263\n",
            "           1       0.95      0.98      0.96    359482\n",
            "\n",
            "    accuracy                           0.94    428745\n",
            "   macro avg       0.91      0.85      0.87    428745\n",
            "weighted avg       0.93      0.94      0.93    428745\n",
            "\n"
          ],
          "name": "stdout"
        }
      ]
    },
    {
      "cell_type": "code",
      "metadata": {
        "id": "djSXHKwZIgI1"
      },
      "source": [
        "coef_names = gs.best_estimator_.named_steps.tvec.get_feature_names()"
      ],
      "id": "djSXHKwZIgI1",
      "execution_count": 72,
      "outputs": []
    },
    {
      "cell_type": "code",
      "metadata": {
        "id": "WqmwRL9mIgQ7"
      },
      "source": [
        "coef_df = pd.DataFrame({'coefficients': coef_names, 'values' : gs.best_estimator_.steps[1][1].coef_[0]})"
      ],
      "id": "WqmwRL9mIgQ7",
      "execution_count": 73,
      "outputs": []
    },
    {
      "cell_type": "code",
      "metadata": {
        "id": "2D6zqZodIgUH"
      },
      "source": [
        "coef_df.sort_values(by='values',ascending=False, inplace = True)"
      ],
      "id": "2D6zqZodIgUH",
      "execution_count": 74,
      "outputs": []
    },
    {
      "cell_type": "code",
      "metadata": {
        "colab": {
          "base_uri": "https://localhost:8080/",
          "height": 669
        },
        "id": "rUntVCMXIpbt",
        "outputId": "2c4c0ff9-28a2-4ee0-b2ba-31eb190b2c2f"
      },
      "source": [
        "#Top 20 positive words\n",
        "coef_df.head(20)"
      ],
      "id": "rUntVCMXIpbt",
      "execution_count": 75,
      "outputs": [
        {
          "output_type": "execute_result",
          "data": {
            "text/html": [
              "<div>\n",
              "<style scoped>\n",
              "    .dataframe tbody tr th:only-of-type {\n",
              "        vertical-align: middle;\n",
              "    }\n",
              "\n",
              "    .dataframe tbody tr th {\n",
              "        vertical-align: top;\n",
              "    }\n",
              "\n",
              "    .dataframe thead th {\n",
              "        text-align: right;\n",
              "    }\n",
              "</style>\n",
              "<table border=\"1\" class=\"dataframe\">\n",
              "  <thead>\n",
              "    <tr style=\"text-align: right;\">\n",
              "      <th></th>\n",
              "      <th>coefficients</th>\n",
              "      <th>values</th>\n",
              "    </tr>\n",
              "  </thead>\n",
              "  <tbody>\n",
              "    <tr>\n",
              "      <th>2499</th>\n",
              "      <td>love</td>\n",
              "      <td>13.400409</td>\n",
              "    </tr>\n",
              "    <tr>\n",
              "      <th>294</th>\n",
              "      <td>best</td>\n",
              "      <td>12.690347</td>\n",
              "    </tr>\n",
              "    <tr>\n",
              "      <th>1683</th>\n",
              "      <td>great</td>\n",
              "      <td>11.916900</td>\n",
              "    </tr>\n",
              "    <tr>\n",
              "      <th>100</th>\n",
              "      <td>amaz</td>\n",
              "      <td>10.152574</td>\n",
              "    </tr>\n",
              "    <tr>\n",
              "      <th>3068</th>\n",
              "      <td>perfect</td>\n",
              "      <td>9.854654</td>\n",
              "    </tr>\n",
              "    <tr>\n",
              "      <th>1240</th>\n",
              "      <td>excel</td>\n",
              "      <td>9.366459</td>\n",
              "    </tr>\n",
              "    <tr>\n",
              "      <th>2021</th>\n",
              "      <td>high recommend</td>\n",
              "      <td>9.226772</td>\n",
              "    </tr>\n",
              "    <tr>\n",
              "      <th>215</th>\n",
              "      <td>awesom</td>\n",
              "      <td>8.384757</td>\n",
              "    </tr>\n",
              "    <tr>\n",
              "      <th>1351</th>\n",
              "      <td>fantast</td>\n",
              "      <td>7.380968</td>\n",
              "    </tr>\n",
              "    <tr>\n",
              "      <th>2872</th>\n",
              "      <td>nice</td>\n",
              "      <td>7.050930</td>\n",
              "    </tr>\n",
              "    <tr>\n",
              "      <th>1374</th>\n",
              "      <td>favorit</td>\n",
              "      <td>6.902002</td>\n",
              "    </tr>\n",
              "    <tr>\n",
              "      <th>738</th>\n",
              "      <td>compliment</td>\n",
              "      <td>6.560441</td>\n",
              "    </tr>\n",
              "    <tr>\n",
              "      <th>4880</th>\n",
              "      <td>wonder</td>\n",
              "      <td>6.235992</td>\n",
              "    </tr>\n",
              "    <tr>\n",
              "      <th>3888</th>\n",
              "      <td>skeptic</td>\n",
              "      <td>6.003986</td>\n",
              "    </tr>\n",
              "    <tr>\n",
              "      <th>730</th>\n",
              "      <td>complaint</td>\n",
              "      <td>5.568585</td>\n",
              "    </tr>\n",
              "    <tr>\n",
              "      <th>1136</th>\n",
              "      <td>easi</td>\n",
              "      <td>5.275680</td>\n",
              "    </tr>\n",
              "    <tr>\n",
              "      <th>1739</th>\n",
              "      <td>great product</td>\n",
              "      <td>5.187332</td>\n",
              "    </tr>\n",
              "    <tr>\n",
              "      <th>3552</th>\n",
              "      <td>refresh</td>\n",
              "      <td>5.134049</td>\n",
              "    </tr>\n",
              "    <tr>\n",
              "      <th>1297</th>\n",
              "      <td>fabul</td>\n",
              "      <td>5.111970</td>\n",
              "    </tr>\n",
              "    <tr>\n",
              "      <th>272</th>\n",
              "      <td>beauti</td>\n",
              "      <td>4.881212</td>\n",
              "    </tr>\n",
              "  </tbody>\n",
              "</table>\n",
              "</div>"
            ],
            "text/plain": [
              "        coefficients     values\n",
              "2499            love  13.400409\n",
              "294             best  12.690347\n",
              "1683           great  11.916900\n",
              "100             amaz  10.152574\n",
              "3068         perfect   9.854654\n",
              "1240           excel   9.366459\n",
              "2021  high recommend   9.226772\n",
              "215           awesom   8.384757\n",
              "1351         fantast   7.380968\n",
              "2872            nice   7.050930\n",
              "1374         favorit   6.902002\n",
              "738       compliment   6.560441\n",
              "4880          wonder   6.235992\n",
              "3888         skeptic   6.003986\n",
              "730        complaint   5.568585\n",
              "1136            easi   5.275680\n",
              "1739   great product   5.187332\n",
              "3552         refresh   5.134049\n",
              "1297           fabul   5.111970\n",
              "272           beauti   4.881212"
            ]
          },
          "metadata": {
            "tags": []
          },
          "execution_count": 75
        }
      ]
    },
    {
      "cell_type": "code",
      "metadata": {
        "colab": {
          "base_uri": "https://localhost:8080/",
          "height": 669
        },
        "id": "D9Zl5spzKNiZ",
        "outputId": "5c9ef749-2a47-4eed-ba99-aa9c39cf186d"
      },
      "source": [
        "coef_df.tail(20)"
      ],
      "id": "D9Zl5spzKNiZ",
      "execution_count": 76,
      "outputs": [
        {
          "output_type": "execute_result",
          "data": {
            "text/html": [
              "<div>\n",
              "<style scoped>\n",
              "    .dataframe tbody tr th:only-of-type {\n",
              "        vertical-align: middle;\n",
              "    }\n",
              "\n",
              "    .dataframe tbody tr th {\n",
              "        vertical-align: top;\n",
              "    }\n",
              "\n",
              "    .dataframe thead th {\n",
              "        text-align: right;\n",
              "    }\n",
              "</style>\n",
              "<table border=\"1\" class=\"dataframe\">\n",
              "  <thead>\n",
              "    <tr style=\"text-align: right;\">\n",
              "      <th></th>\n",
              "      <th>coefficients</th>\n",
              "      <th>values</th>\n",
              "    </tr>\n",
              "  </thead>\n",
              "  <tbody>\n",
              "    <tr>\n",
              "      <th>3683</th>\n",
              "      <td>save money</td>\n",
              "      <td>-5.007846</td>\n",
              "    </tr>\n",
              "    <tr>\n",
              "      <th>4765</th>\n",
              "      <td>want like</td>\n",
              "      <td>-5.019280</td>\n",
              "    </tr>\n",
              "    <tr>\n",
              "      <th>3553</th>\n",
              "      <td>refund</td>\n",
              "      <td>-5.334764</td>\n",
              "    </tr>\n",
              "    <tr>\n",
              "      <th>2909</th>\n",
              "      <td>nope</td>\n",
              "      <td>-5.418640</td>\n",
              "    </tr>\n",
              "    <tr>\n",
              "      <th>3152</th>\n",
              "      <td>poor</td>\n",
              "      <td>-5.524930</td>\n",
              "    </tr>\n",
              "    <tr>\n",
              "      <th>4784</th>\n",
              "      <td>wast money</td>\n",
              "      <td>-5.662932</td>\n",
              "    </tr>\n",
              "    <tr>\n",
              "      <th>4934</th>\n",
              "      <td>wors</td>\n",
              "      <td>-5.810382</td>\n",
              "    </tr>\n",
              "    <tr>\n",
              "      <th>473</th>\n",
              "      <td>broke</td>\n",
              "      <td>-6.131377</td>\n",
              "    </tr>\n",
              "    <tr>\n",
              "      <th>2703</th>\n",
              "      <td>meh</td>\n",
              "      <td>-6.237780</td>\n",
              "    </tr>\n",
              "    <tr>\n",
              "      <th>4723</th>\n",
              "      <td>useless</td>\n",
              "      <td>-6.250421</td>\n",
              "    </tr>\n",
              "    <tr>\n",
              "      <th>4559</th>\n",
              "      <td>unfortun</td>\n",
              "      <td>-6.304959</td>\n",
              "    </tr>\n",
              "    <tr>\n",
              "      <th>4181</th>\n",
              "      <td>stop work</td>\n",
              "      <td>-6.376018</td>\n",
              "    </tr>\n",
              "    <tr>\n",
              "      <th>4339</th>\n",
              "      <td>terribl</td>\n",
              "      <td>-6.383034</td>\n",
              "    </tr>\n",
              "    <tr>\n",
              "      <th>211</th>\n",
              "      <td>aw</td>\n",
              "      <td>-6.522196</td>\n",
              "    </tr>\n",
              "    <tr>\n",
              "      <th>2048</th>\n",
              "      <td>horribl</td>\n",
              "      <td>-6.755139</td>\n",
              "    </tr>\n",
              "    <tr>\n",
              "      <th>2018</th>\n",
              "      <td>high hope</td>\n",
              "      <td>-6.990523</td>\n",
              "    </tr>\n",
              "    <tr>\n",
              "      <th>4935</th>\n",
              "      <td>worst</td>\n",
              "      <td>-7.379397</td>\n",
              "    </tr>\n",
              "    <tr>\n",
              "      <th>4767</th>\n",
              "      <td>want love</td>\n",
              "      <td>-7.741626</td>\n",
              "    </tr>\n",
              "    <tr>\n",
              "      <th>3609</th>\n",
              "      <td>return</td>\n",
              "      <td>-8.983773</td>\n",
              "    </tr>\n",
              "    <tr>\n",
              "      <th>1028</th>\n",
              "      <td>disappoint</td>\n",
              "      <td>-9.585552</td>\n",
              "    </tr>\n",
              "  </tbody>\n",
              "</table>\n",
              "</div>"
            ],
            "text/plain": [
              "     coefficients    values\n",
              "3683   save money -5.007846\n",
              "4765    want like -5.019280\n",
              "3553       refund -5.334764\n",
              "2909         nope -5.418640\n",
              "3152         poor -5.524930\n",
              "4784   wast money -5.662932\n",
              "4934         wors -5.810382\n",
              "473         broke -6.131377\n",
              "2703          meh -6.237780\n",
              "4723      useless -6.250421\n",
              "4559     unfortun -6.304959\n",
              "4181    stop work -6.376018\n",
              "4339      terribl -6.383034\n",
              "211            aw -6.522196\n",
              "2048      horribl -6.755139\n",
              "2018    high hope -6.990523\n",
              "4935        worst -7.379397\n",
              "4767    want love -7.741626\n",
              "3609       return -8.983773\n",
              "1028   disappoint -9.585552"
            ]
          },
          "metadata": {
            "tags": []
          },
          "execution_count": 76
        }
      ]
    },
    {
      "cell_type": "code",
      "metadata": {
        "colab": {
          "base_uri": "https://localhost:8080/",
          "height": 502
        },
        "id": "OWCK3fzeLT8q",
        "outputId": "f73e4929-cdd5-4b7e-d479-4b60b3f5bb63"
      },
      "source": [
        "coef_df['abs_values'] = abs(coef_df['values'])\n",
        "coef_df.head(20).plot(kind = 'barh', x = 'coefficients', y = 'abs_values', \n",
        "                      fontsize = 12, figsize = (16, 8), title = 'Top Positive words')\n",
        "plt.savefig('gdrive/My Drive/Capstone_project/images/top_positive_words.png')"
      ],
      "id": "OWCK3fzeLT8q",
      "execution_count": null,
      "outputs": [
        {
          "output_type": "display_data",
          "data": {
            "image/png": "[encoded data removed]",
            "text/plain": [
              "<Figure size 1152x576 with 1 Axes>"
            ]
          },
          "metadata": {
            "tags": []
          }
        }
      ]
    },
    {
      "cell_type": "code",
      "metadata": {
        "colab": {
          "base_uri": "https://localhost:8080/",
          "height": 502
        },
        "id": "j8mpSKXdLj72",
        "outputId": "48bb30df-373d-43a5-e61b-d9c0f3dc168f"
      },
      "source": [
        "coef_df.tail(20).sort_values(by='values').plot(kind = 'barh', x = 'coefficients', y = 'abs_values',\n",
        "                      fontsize = 12, figsize = (16, 8), title = 'Top Negative words')\n",
        "plt.savefig('gdrive/My Drive/Capstone_project/images/top_negative_words.png')"
      ],
      "id": "j8mpSKXdLj72",
      "execution_count": null,
      "outputs": [
        {
          "output_type": "display_data",
          "data": {
            "image/png": "[encoded data removed]",
            "text/plain": [
              "<Figure size 1152x576 with 1 Axes>"
            ]
          },
          "metadata": {
            "tags": []
          }
        }
      ]
    },
    {
      "cell_type": "code",
      "metadata": {
        "colab": {
          "base_uri": "https://localhost:8080/",
          "height": 388
        },
        "id": "iQslXdF0TC3X",
        "outputId": "2dfaa6e1-8f55-45a0-ea4e-fe26a1e42428"
      },
      "source": [
        "fig, ax = plt.subplots(figsize=(8, 6))\n",
        "lr_cv = plot_roc_curve(gs, X, y, ax=ax)"
      ],
      "id": "iQslXdF0TC3X",
      "execution_count": 77,
      "outputs": [
        {
          "output_type": "display_data",
          "data": {
            "image/png": "[encoded data removed]",
            "text/plain": [
              "<Figure size 576x432 with 1 Axes>"
            ]
          },
          "metadata": {
            "tags": [],
            "needs_background": "light"
          }
        }
      ]
    },
    {
      "cell_type": "code",
      "metadata": {
        "colab": {
          "base_uri": "https://localhost:8080/"
        },
        "id": "vUXN5F5LIpe4",
        "outputId": "c896213e-6bba-4dd0-9473-3b060fb17522"
      },
      "source": [
        "confusion_matrix(y, pred)"
      ],
      "id": "vUXN5F5LIpe4",
      "execution_count": 78,
      "outputs": [
        {
          "output_type": "execute_result",
          "data": {
            "text/plain": [
              "array([[ 49969,  19294],\n",
              "       [  7763, 351719]])"
            ]
          },
          "metadata": {
            "tags": []
          },
          "execution_count": 78
        }
      ]
    },
    {
      "cell_type": "code",
      "metadata": {
        "colab": {
          "base_uri": "https://localhost:8080/",
          "height": 111
        },
        "id": "Kwxn0HsoIQnk",
        "outputId": "fd0ffcf7-c984-4c7b-abda-0f56e01bbbd5"
      },
      "source": [
        "cm = confusion_matrix(y, pred)\n",
        "cm_df = pd.DataFrame(data=cm, columns=['predicted neg', 'predicted pos'], index=['actual neg', 'actual pos'])\n",
        "cm_df"
      ],
      "id": "Kwxn0HsoIQnk",
      "execution_count": 79,
      "outputs": [
        {
          "output_type": "execute_result",
          "data": {
            "text/html": [
              "<div>\n",
              "<style scoped>\n",
              "    .dataframe tbody tr th:only-of-type {\n",
              "        vertical-align: middle;\n",
              "    }\n",
              "\n",
              "    .dataframe tbody tr th {\n",
              "        vertical-align: top;\n",
              "    }\n",
              "\n",
              "    .dataframe thead th {\n",
              "        text-align: right;\n",
              "    }\n",
              "</style>\n",
              "<table border=\"1\" class=\"dataframe\">\n",
              "  <thead>\n",
              "    <tr style=\"text-align: right;\">\n",
              "      <th></th>\n",
              "      <th>predicted neg</th>\n",
              "      <th>predicted pos</th>\n",
              "    </tr>\n",
              "  </thead>\n",
              "  <tbody>\n",
              "    <tr>\n",
              "      <th>actual neg</th>\n",
              "      <td>49969</td>\n",
              "      <td>19294</td>\n",
              "    </tr>\n",
              "    <tr>\n",
              "      <th>actual pos</th>\n",
              "      <td>7763</td>\n",
              "      <td>351719</td>\n",
              "    </tr>\n",
              "  </tbody>\n",
              "</table>\n",
              "</div>"
            ],
            "text/plain": [
              "            predicted neg  predicted pos\n",
              "actual neg          49969          19294\n",
              "actual pos           7763         351719"
            ]
          },
          "metadata": {
            "tags": []
          },
          "execution_count": 79
        }
      ]
    },
    {
      "cell_type": "code",
      "metadata": {
        "colab": {
          "base_uri": "https://localhost:8080/",
          "height": 282
        },
        "id": "jqfDUh1rI5jz",
        "outputId": "7ff078e0-fadb-417b-f81c-882be6c76e52"
      },
      "source": [
        "plot_confusion_matrix(gs_model, X, y, cmap='Blues', values_format='d');\n",
        "\n",
        "# plt.savefig('gdrive/My Drive/Capstone_project/images/confusion_matrix.png', transparent=True)"
      ],
      "id": "jqfDUh1rI5jz",
      "execution_count": 81,
      "outputs": [
        {
          "output_type": "display_data",
          "data": {
            "image/png": "[encoded data removed]",
            "text/plain": [
              "<Figure size 432x288 with 2 Axes>"
            ]
          },
          "metadata": {
            "tags": [],
            "needs_background": "light"
          }
        }
      ]
    },
    {
      "cell_type": "code",
      "metadata": {
        "id": "ZESjvdFxI5mg"
      },
      "source": [
        "tn, fp, fn, tp = confusion_matrix(y, pred).ravel()"
      ],
      "id": "ZESjvdFxI5mg",
      "execution_count": 82,
      "outputs": []
    },
    {
      "cell_type": "code",
      "metadata": {
        "id": "nzl2oVU2JATY"
      },
      "source": [
        "df['predicted'] = pred"
      ],
      "id": "nzl2oVU2JATY",
      "execution_count": 83,
      "outputs": []
    },
    {
      "cell_type": "code",
      "metadata": {
        "id": "-gSPl3WGJAWd"
      },
      "source": [
        "misclassified = df['Sentiment_rating']!=df['predicted']"
      ],
      "id": "-gSPl3WGJAWd",
      "execution_count": 84,
      "outputs": []
    },
    {
      "cell_type": "code",
      "metadata": {
        "colab": {
          "base_uri": "https://localhost:8080/",
          "height": 1000
        },
        "id": "s9SjA6LyJAZo",
        "outputId": "65425cd9-f717-4d7c-e674-632993508348"
      },
      "source": [
        "pd.set_option('max_colwidth', None)\n",
        "df[misclassified]"
      ],
      "id": "s9SjA6LyJAZo",
      "execution_count": 85,
      "outputs": [
        {
          "output_type": "execute_result",
          "data": {
            "text/html": [
              "<div>\n",
              "<style scoped>\n",
              "    .dataframe tbody tr th:only-of-type {\n",
              "        vertical-align: middle;\n",
              "    }\n",
              "\n",
              "    .dataframe tbody tr th {\n",
              "        vertical-align: top;\n",
              "    }\n",
              "\n",
              "    .dataframe thead th {\n",
              "        text-align: right;\n",
              "    }\n",
              "</style>\n",
              "<table border=\"1\" class=\"dataframe\">\n",
              "  <thead>\n",
              "    <tr style=\"text-align: right;\">\n",
              "      <th></th>\n",
              "      <th>reviewerID</th>\n",
              "      <th>ratings</th>\n",
              "      <th>title</th>\n",
              "      <th>reviewcomb</th>\n",
              "      <th>clean_text</th>\n",
              "      <th>polarity</th>\n",
              "      <th>Sentiment_rating</th>\n",
              "      <th>predicted</th>\n",
              "    </tr>\n",
              "  </thead>\n",
              "  <tbody>\n",
              "    <tr>\n",
              "      <th>22</th>\n",
              "      <td>AJIKD1JKHSUD1</td>\n",
              "      <td>2.0</td>\n",
              "      <td>Marvis Jasmin Mint Toothpaste, 3.8 oz</td>\n",
              "      <td>size is small... i did not read the title well... not great value for the price i got it for... not great value for the price i got it for</td>\n",
              "      <td>size small read titl well great valu price got great valu price got</td>\n",
              "      <td>-0.350000</td>\n",
              "      <td>0</td>\n",
              "      <td>1</td>\n",
              "    </tr>\n",
              "    <tr>\n",
              "      <th>31</th>\n",
              "      <td>A2BGPGEFZK12ZX</td>\n",
              "      <td>1.0</td>\n",
              "      <td>Marvis Jasmin Mint Toothpaste, 3.8 oz</td>\n",
              "      <td>tastes like soap to me...nice after mint but had to give it away and she liked the flavor...I Will stick with other flavors!! fast ship tastes like soap to me</td>\n",
              "      <td>tast like soap nice mint give away like flavor stick flavor fast ship tast like soap</td>\n",
              "      <td>0.201563</td>\n",
              "      <td>0</td>\n",
              "      <td>1</td>\n",
              "    </tr>\n",
              "    <tr>\n",
              "      <th>35</th>\n",
              "      <td>A3UHFQT4E3R2D3</td>\n",
              "      <td>4.0</td>\n",
              "      <td>Marvis Jasmin Mint Toothpaste, 3.8 oz</td>\n",
              "      <td>Unusual flavor reminds me of some herb mixed with hay. Its ok, just not as special as Id hoped. Unfortunately the old fashioned packaging and emphasis on jasmine somehow lulled me (my bad) into thinking this was a more natural toothpaste without SLS (which I have avoided for years) but unfortunately it has it, and irritates my mouth and brought me my first canker sore in many years. If you're open minded and SLS tolerant, try it. Itd be part of my rotation if it weren't for foaming agent. Interesting taste, not natural however</td>\n",
              "      <td>unusu flavor remind herb mix hay ok special id hope unfortun old fashion packag emphasi jasmin somehow lull bad think natur toothpast without sls avoid year unfortun irrit mouth brought first canker sore mani year open mind sls toler tri itd part rotat foam agent interest tast natur howev</td>\n",
              "      <td>0.083810</td>\n",
              "      <td>1</td>\n",
              "      <td>0</td>\n",
              "    </tr>\n",
              "    <tr>\n",
              "      <th>52</th>\n",
              "      <td>A22YTZWV58VR31</td>\n",
              "      <td>1.0</td>\n",
              "      <td>Marvis Jasmin Mint Toothpaste, 3.8 oz</td>\n",
              "      <td>It is for women! Be careful, price is also expensive. One Star</td>\n",
              "      <td>women care price also expens one star</td>\n",
              "      <td>-0.300000</td>\n",
              "      <td>0</td>\n",
              "      <td>1</td>\n",
              "    </tr>\n",
              "    <tr>\n",
              "      <th>68</th>\n",
              "      <td>A17BMZG5TRRW6C</td>\n",
              "      <td>1.0</td>\n",
              "      <td>Marvis Jasmin Mint Toothpaste, 3.8 oz</td>\n",
              "      <td>The stuff smells and tastes pretty bad to me so I don't ever use it. But the packaging is so pretty that I wanted to give it a try. Defiantly will not repurchase or recommend. The stuff smells and tastes pretty bad to me so I don't ever use it</td>\n",
              "      <td>stuff smell tast pretti bad ever use packag pretti want give tri defiant repurchas recommend stuff smell tast pretti bad ever use</td>\n",
              "      <td>-0.130000</td>\n",
              "      <td>0</td>\n",
              "      <td>1</td>\n",
              "    </tr>\n",
              "    <tr>\n",
              "      <th>...</th>\n",
              "      <td>...</td>\n",
              "      <td>...</td>\n",
              "      <td>...</td>\n",
              "      <td>...</td>\n",
              "      <td>...</td>\n",
              "      <td>...</td>\n",
              "      <td>...</td>\n",
              "      <td>...</td>\n",
              "    </tr>\n",
              "    <tr>\n",
              "      <th>464743</th>\n",
              "      <td>A3HWFSW2XGVNH7</td>\n",
              "      <td>1.0</td>\n",
              "      <td>ORIBE The Collection Travel Set, 8 oz.</td>\n",
              "      <td>The ad says 8oz total, but it's only a little over 3oz total.  0.23oz per pack. 14 packs One Star</td>\n",
              "      <td>ad say oz total littl oz total oz per pack pack one star</td>\n",
              "      <td>-0.046875</td>\n",
              "      <td>0</td>\n",
              "      <td>1</td>\n",
              "    </tr>\n",
              "    <tr>\n",
              "      <th>464748</th>\n",
              "      <td>A2BP08GISO27VK</td>\n",
              "      <td>2.0</td>\n",
              "      <td>JINsoon  Nail Lacquer, Crush</td>\n",
              "      <td>Good quality but needed several coats.  Not worth the price for me. Two Stars</td>\n",
              "      <td>good qualiti need sever coat worth price two star</td>\n",
              "      <td>0.183333</td>\n",
              "      <td>0</td>\n",
              "      <td>1</td>\n",
              "    </tr>\n",
              "    <tr>\n",
              "      <th>464766</th>\n",
              "      <td>A2J0MVDRNC5LUD</td>\n",
              "      <td>4.0</td>\n",
              "      <td>Ducray Elution Shampoo, 6.7 fl. oz.</td>\n",
              "      <td>Personally, I can't really tell a difference from regular drugstore shampoos, but my husband (the person I bought it for) has really bad dandruff and itchy scalp, and he says it does help with that. Good. Not a miracle, but not a disappointment either.</td>\n",
              "      <td>person realli tell differ regular drugstor shampoo husband person bought realli bad dandruff itchi scalp say help good miracl disappoint either</td>\n",
              "      <td>0.100000</td>\n",
              "      <td>1</td>\n",
              "      <td>0</td>\n",
              "    </tr>\n",
              "    <tr>\n",
              "      <th>464780</th>\n",
              "      <td>A2MB3VWUD3ZK1O</td>\n",
              "      <td>1.0</td>\n",
              "      <td>L'Occitane Citrus Verbena Sorbet Body Cream 8.8Oz</td>\n",
              "      <td>Very thin.  More like a parfum than a body cream or moisturizer. Not a moisturizer</td>\n",
              "      <td>thin like parfum bodi cream moistur moistur</td>\n",
              "      <td>-0.010000</td>\n",
              "      <td>0</td>\n",
              "      <td>1</td>\n",
              "    </tr>\n",
              "    <tr>\n",
              "      <th>464825</th>\n",
              "      <td>A37M9GZV5PMABX</td>\n",
              "      <td>2.0</td>\n",
              "      <td>CND Shellac, Brick Knit</td>\n",
              "      <td>the colour is too dark, Two Stars</td>\n",
              "      <td>colour dark two star</td>\n",
              "      <td>-0.150000</td>\n",
              "      <td>0</td>\n",
              "      <td>1</td>\n",
              "    </tr>\n",
              "  </tbody>\n",
              "</table>\n",
              "<p>27057 rows × 8 columns</p>\n",
              "</div>"
            ],
            "text/plain": [
              "            reviewerID  ratings  ... Sentiment_rating predicted\n",
              "22       AJIKD1JKHSUD1      2.0  ...                0         1\n",
              "31      A2BGPGEFZK12ZX      1.0  ...                0         1\n",
              "35      A3UHFQT4E3R2D3      4.0  ...                1         0\n",
              "52      A22YTZWV58VR31      1.0  ...                0         1\n",
              "68      A17BMZG5TRRW6C      1.0  ...                0         1\n",
              "...                ...      ...  ...              ...       ...\n",
              "464743  A3HWFSW2XGVNH7      1.0  ...                0         1\n",
              "464748  A2BP08GISO27VK      2.0  ...                0         1\n",
              "464766  A2J0MVDRNC5LUD      4.0  ...                1         0\n",
              "464780  A2MB3VWUD3ZK1O      1.0  ...                0         1\n",
              "464825  A37M9GZV5PMABX      2.0  ...                0         1\n",
              "\n",
              "[27057 rows x 8 columns]"
            ]
          },
          "metadata": {
            "tags": []
          },
          "execution_count": 85
        }
      ]
    },
    {
      "cell_type": "markdown",
      "metadata": {
        "id": "3lwfD7H_r1Hm"
      },
      "source": [
        "# Conclusion"
      ],
      "id": "3lwfD7H_r1Hm"
    },
    {
      "cell_type": "markdown",
      "metadata": {
        "id": "Mht5fKeWdPlY"
      },
      "source": [
        "Logistic regression with TFIDF vetorizer have low False positive rates and also has got high Precision compared to other models. My lowest FPR is still 0.29 whcih I would like to reduce furthermore. Therefore I opted for BiLSTM and BERT which I will be discussing in a separate notebook. Link for [BiLSTM](https://colab.research.google.com/drive/1uyYvXm5KZwQ1AAPXC_ukx2GyuO-wClmI?usp=sharing) and [BERT](https://drive.google.com/file/d/1k9UdZ1lVY2HFJRTFWa3qCKLGK5xFaQLT/view?usp=sharing) are provided here."
      ],
      "id": "Mht5fKeWdPlY"
    }
  ]
}